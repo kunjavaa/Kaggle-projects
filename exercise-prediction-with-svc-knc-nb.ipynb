{
 "cells": [
  {
   "cell_type": "code",
   "execution_count": 1,
   "id": "4875663e",
   "metadata": {
    "execution": {
     "iopub.execute_input": "2023-06-05T16:57:11.265699Z",
     "iopub.status.busy": "2023-06-05T16:57:11.265366Z",
     "iopub.status.idle": "2023-06-05T16:57:12.925958Z",
     "shell.execute_reply": "2023-06-05T16:57:12.924719Z"
    },
    "papermill": {
     "duration": 1.672801,
     "end_time": "2023-06-05T16:57:12.928002",
     "exception": false,
     "start_time": "2023-06-05T16:57:11.255201",
     "status": "completed"
    },
    "tags": []
   },
   "outputs": [
    {
     "data": {
      "text/plain": [
       "['anagrams',\n",
       " 'anscombe',\n",
       " 'attention',\n",
       " 'brain_networks',\n",
       " 'car_crashes',\n",
       " 'diamonds',\n",
       " 'dots',\n",
       " 'dowjones',\n",
       " 'exercise',\n",
       " 'flights',\n",
       " 'fmri',\n",
       " 'geyser',\n",
       " 'glue',\n",
       " 'healthexp',\n",
       " 'iris',\n",
       " 'mpg',\n",
       " 'penguins',\n",
       " 'planets',\n",
       " 'seaice',\n",
       " 'taxis',\n",
       " 'tips',\n",
       " 'titanic']"
      ]
     },
     "execution_count": 1,
     "metadata": {},
     "output_type": "execute_result"
    }
   ],
   "source": [
    "import seaborn as sns\n",
    "import numpy as np\n",
    "import pandas as pd\n",
    "import warnings\n",
    "warnings.filterwarnings('ignore')\n",
    "import matplotlib.pyplot as plt\n",
    "sns.get_dataset_names()"
   ]
  },
  {
   "cell_type": "code",
   "execution_count": 2,
   "id": "46bdb844",
   "metadata": {
    "execution": {
     "iopub.execute_input": "2023-06-05T16:57:12.942863Z",
     "iopub.status.busy": "2023-06-05T16:57:12.942354Z",
     "iopub.status.idle": "2023-06-05T16:57:13.603614Z",
     "shell.execute_reply": "2023-06-05T16:57:13.602749Z"
    },
    "papermill": {
     "duration": 0.670652,
     "end_time": "2023-06-05T16:57:13.605432",
     "exception": false,
     "start_time": "2023-06-05T16:57:12.934780",
     "status": "completed"
    },
    "tags": []
   },
   "outputs": [
    {
     "data": {
      "text/html": [
       "<div>\n",
       "<style scoped>\n",
       "    .dataframe tbody tr th:only-of-type {\n",
       "        vertical-align: middle;\n",
       "    }\n",
       "\n",
       "    .dataframe tbody tr th {\n",
       "        vertical-align: top;\n",
       "    }\n",
       "\n",
       "    .dataframe thead th {\n",
       "        text-align: right;\n",
       "    }\n",
       "</style>\n",
       "<table border=\"1\" class=\"dataframe\">\n",
       "  <thead>\n",
       "    <tr style=\"text-align: right;\">\n",
       "      <th></th>\n",
       "      <th>Unnamed: 0</th>\n",
       "      <th>id</th>\n",
       "      <th>diet</th>\n",
       "      <th>pulse</th>\n",
       "      <th>time</th>\n",
       "      <th>kind</th>\n",
       "    </tr>\n",
       "  </thead>\n",
       "  <tbody>\n",
       "    <tr>\n",
       "      <th>0</th>\n",
       "      <td>0</td>\n",
       "      <td>1</td>\n",
       "      <td>low fat</td>\n",
       "      <td>85</td>\n",
       "      <td>1 min</td>\n",
       "      <td>rest</td>\n",
       "    </tr>\n",
       "    <tr>\n",
       "      <th>1</th>\n",
       "      <td>1</td>\n",
       "      <td>1</td>\n",
       "      <td>low fat</td>\n",
       "      <td>85</td>\n",
       "      <td>15 min</td>\n",
       "      <td>rest</td>\n",
       "    </tr>\n",
       "    <tr>\n",
       "      <th>2</th>\n",
       "      <td>2</td>\n",
       "      <td>1</td>\n",
       "      <td>low fat</td>\n",
       "      <td>88</td>\n",
       "      <td>30 min</td>\n",
       "      <td>rest</td>\n",
       "    </tr>\n",
       "    <tr>\n",
       "      <th>3</th>\n",
       "      <td>3</td>\n",
       "      <td>2</td>\n",
       "      <td>low fat</td>\n",
       "      <td>90</td>\n",
       "      <td>1 min</td>\n",
       "      <td>rest</td>\n",
       "    </tr>\n",
       "    <tr>\n",
       "      <th>4</th>\n",
       "      <td>4</td>\n",
       "      <td>2</td>\n",
       "      <td>low fat</td>\n",
       "      <td>92</td>\n",
       "      <td>15 min</td>\n",
       "      <td>rest</td>\n",
       "    </tr>\n",
       "    <tr>\n",
       "      <th>...</th>\n",
       "      <td>...</td>\n",
       "      <td>...</td>\n",
       "      <td>...</td>\n",
       "      <td>...</td>\n",
       "      <td>...</td>\n",
       "      <td>...</td>\n",
       "    </tr>\n",
       "    <tr>\n",
       "      <th>85</th>\n",
       "      <td>85</td>\n",
       "      <td>29</td>\n",
       "      <td>no fat</td>\n",
       "      <td>135</td>\n",
       "      <td>15 min</td>\n",
       "      <td>running</td>\n",
       "    </tr>\n",
       "    <tr>\n",
       "      <th>86</th>\n",
       "      <td>86</td>\n",
       "      <td>29</td>\n",
       "      <td>no fat</td>\n",
       "      <td>130</td>\n",
       "      <td>30 min</td>\n",
       "      <td>running</td>\n",
       "    </tr>\n",
       "    <tr>\n",
       "      <th>87</th>\n",
       "      <td>87</td>\n",
       "      <td>30</td>\n",
       "      <td>no fat</td>\n",
       "      <td>99</td>\n",
       "      <td>1 min</td>\n",
       "      <td>running</td>\n",
       "    </tr>\n",
       "    <tr>\n",
       "      <th>88</th>\n",
       "      <td>88</td>\n",
       "      <td>30</td>\n",
       "      <td>no fat</td>\n",
       "      <td>111</td>\n",
       "      <td>15 min</td>\n",
       "      <td>running</td>\n",
       "    </tr>\n",
       "    <tr>\n",
       "      <th>89</th>\n",
       "      <td>89</td>\n",
       "      <td>30</td>\n",
       "      <td>no fat</td>\n",
       "      <td>150</td>\n",
       "      <td>30 min</td>\n",
       "      <td>running</td>\n",
       "    </tr>\n",
       "  </tbody>\n",
       "</table>\n",
       "<p>90 rows × 6 columns</p>\n",
       "</div>"
      ],
      "text/plain": [
       "    Unnamed: 0  id     diet  pulse    time     kind\n",
       "0            0   1  low fat     85   1 min     rest\n",
       "1            1   1  low fat     85  15 min     rest\n",
       "2            2   1  low fat     88  30 min     rest\n",
       "3            3   2  low fat     90   1 min     rest\n",
       "4            4   2  low fat     92  15 min     rest\n",
       "..         ...  ..      ...    ...     ...      ...\n",
       "85          85  29   no fat    135  15 min  running\n",
       "86          86  29   no fat    130  30 min  running\n",
       "87          87  30   no fat     99   1 min  running\n",
       "88          88  30   no fat    111  15 min  running\n",
       "89          89  30   no fat    150  30 min  running\n",
       "\n",
       "[90 rows x 6 columns]"
      ]
     },
     "execution_count": 2,
     "metadata": {},
     "output_type": "execute_result"
    }
   ],
   "source": [
    "df=sns.load_dataset('exercise')\n",
    "df"
   ]
  },
  {
   "cell_type": "markdown",
   "id": "eb0aea7c",
   "metadata": {
    "papermill": {
     "duration": 0.006613,
     "end_time": "2023-06-05T16:57:13.619130",
     "exception": false,
     "start_time": "2023-06-05T16:57:13.612517",
     "status": "completed"
    },
    "tags": []
   },
   "source": [
    "# EDA"
   ]
  },
  {
   "cell_type": "code",
   "execution_count": 3,
   "id": "e677ebd8",
   "metadata": {
    "execution": {
     "iopub.execute_input": "2023-06-05T16:57:13.634616Z",
     "iopub.status.busy": "2023-06-05T16:57:13.634261Z",
     "iopub.status.idle": "2023-06-05T16:57:13.645679Z",
     "shell.execute_reply": "2023-06-05T16:57:13.644661Z"
    },
    "papermill": {
     "duration": 0.021285,
     "end_time": "2023-06-05T16:57:13.647365",
     "exception": false,
     "start_time": "2023-06-05T16:57:13.626080",
     "status": "completed"
    },
    "tags": []
   },
   "outputs": [
    {
     "data": {
      "text/html": [
       "<div>\n",
       "<style scoped>\n",
       "    .dataframe tbody tr th:only-of-type {\n",
       "        vertical-align: middle;\n",
       "    }\n",
       "\n",
       "    .dataframe tbody tr th {\n",
       "        vertical-align: top;\n",
       "    }\n",
       "\n",
       "    .dataframe thead th {\n",
       "        text-align: right;\n",
       "    }\n",
       "</style>\n",
       "<table border=\"1\" class=\"dataframe\">\n",
       "  <thead>\n",
       "    <tr style=\"text-align: right;\">\n",
       "      <th></th>\n",
       "      <th>Unnamed: 0</th>\n",
       "      <th>id</th>\n",
       "      <th>diet</th>\n",
       "      <th>pulse</th>\n",
       "      <th>time</th>\n",
       "      <th>kind</th>\n",
       "    </tr>\n",
       "  </thead>\n",
       "  <tbody>\n",
       "    <tr>\n",
       "      <th>0</th>\n",
       "      <td>0</td>\n",
       "      <td>1</td>\n",
       "      <td>low fat</td>\n",
       "      <td>85</td>\n",
       "      <td>1 min</td>\n",
       "      <td>rest</td>\n",
       "    </tr>\n",
       "    <tr>\n",
       "      <th>1</th>\n",
       "      <td>1</td>\n",
       "      <td>1</td>\n",
       "      <td>low fat</td>\n",
       "      <td>85</td>\n",
       "      <td>15 min</td>\n",
       "      <td>rest</td>\n",
       "    </tr>\n",
       "    <tr>\n",
       "      <th>2</th>\n",
       "      <td>2</td>\n",
       "      <td>1</td>\n",
       "      <td>low fat</td>\n",
       "      <td>88</td>\n",
       "      <td>30 min</td>\n",
       "      <td>rest</td>\n",
       "    </tr>\n",
       "    <tr>\n",
       "      <th>3</th>\n",
       "      <td>3</td>\n",
       "      <td>2</td>\n",
       "      <td>low fat</td>\n",
       "      <td>90</td>\n",
       "      <td>1 min</td>\n",
       "      <td>rest</td>\n",
       "    </tr>\n",
       "    <tr>\n",
       "      <th>4</th>\n",
       "      <td>4</td>\n",
       "      <td>2</td>\n",
       "      <td>low fat</td>\n",
       "      <td>92</td>\n",
       "      <td>15 min</td>\n",
       "      <td>rest</td>\n",
       "    </tr>\n",
       "    <tr>\n",
       "      <th>5</th>\n",
       "      <td>5</td>\n",
       "      <td>2</td>\n",
       "      <td>low fat</td>\n",
       "      <td>93</td>\n",
       "      <td>30 min</td>\n",
       "      <td>rest</td>\n",
       "    </tr>\n",
       "    <tr>\n",
       "      <th>6</th>\n",
       "      <td>6</td>\n",
       "      <td>3</td>\n",
       "      <td>low fat</td>\n",
       "      <td>97</td>\n",
       "      <td>1 min</td>\n",
       "      <td>rest</td>\n",
       "    </tr>\n",
       "    <tr>\n",
       "      <th>7</th>\n",
       "      <td>7</td>\n",
       "      <td>3</td>\n",
       "      <td>low fat</td>\n",
       "      <td>97</td>\n",
       "      <td>15 min</td>\n",
       "      <td>rest</td>\n",
       "    </tr>\n",
       "    <tr>\n",
       "      <th>8</th>\n",
       "      <td>8</td>\n",
       "      <td>3</td>\n",
       "      <td>low fat</td>\n",
       "      <td>94</td>\n",
       "      <td>30 min</td>\n",
       "      <td>rest</td>\n",
       "    </tr>\n",
       "    <tr>\n",
       "      <th>9</th>\n",
       "      <td>9</td>\n",
       "      <td>4</td>\n",
       "      <td>low fat</td>\n",
       "      <td>80</td>\n",
       "      <td>1 min</td>\n",
       "      <td>rest</td>\n",
       "    </tr>\n",
       "  </tbody>\n",
       "</table>\n",
       "</div>"
      ],
      "text/plain": [
       "   Unnamed: 0  id     diet  pulse    time  kind\n",
       "0           0   1  low fat     85   1 min  rest\n",
       "1           1   1  low fat     85  15 min  rest\n",
       "2           2   1  low fat     88  30 min  rest\n",
       "3           3   2  low fat     90   1 min  rest\n",
       "4           4   2  low fat     92  15 min  rest\n",
       "5           5   2  low fat     93  30 min  rest\n",
       "6           6   3  low fat     97   1 min  rest\n",
       "7           7   3  low fat     97  15 min  rest\n",
       "8           8   3  low fat     94  30 min  rest\n",
       "9           9   4  low fat     80   1 min  rest"
      ]
     },
     "execution_count": 3,
     "metadata": {},
     "output_type": "execute_result"
    }
   ],
   "source": [
    "df.head(10)"
   ]
  },
  {
   "cell_type": "code",
   "execution_count": 4,
   "id": "d1df5e41",
   "metadata": {
    "execution": {
     "iopub.execute_input": "2023-06-05T16:57:13.663340Z",
     "iopub.status.busy": "2023-06-05T16:57:13.662754Z",
     "iopub.status.idle": "2023-06-05T16:57:13.672601Z",
     "shell.execute_reply": "2023-06-05T16:57:13.671982Z"
    },
    "papermill": {
     "duration": 0.019822,
     "end_time": "2023-06-05T16:57:13.674350",
     "exception": false,
     "start_time": "2023-06-05T16:57:13.654528",
     "status": "completed"
    },
    "tags": []
   },
   "outputs": [
    {
     "data": {
      "text/html": [
       "<div>\n",
       "<style scoped>\n",
       "    .dataframe tbody tr th:only-of-type {\n",
       "        vertical-align: middle;\n",
       "    }\n",
       "\n",
       "    .dataframe tbody tr th {\n",
       "        vertical-align: top;\n",
       "    }\n",
       "\n",
       "    .dataframe thead th {\n",
       "        text-align: right;\n",
       "    }\n",
       "</style>\n",
       "<table border=\"1\" class=\"dataframe\">\n",
       "  <thead>\n",
       "    <tr style=\"text-align: right;\">\n",
       "      <th></th>\n",
       "      <th>Unnamed: 0</th>\n",
       "      <th>id</th>\n",
       "      <th>diet</th>\n",
       "      <th>pulse</th>\n",
       "      <th>time</th>\n",
       "      <th>kind</th>\n",
       "    </tr>\n",
       "  </thead>\n",
       "  <tbody>\n",
       "    <tr>\n",
       "      <th>80</th>\n",
       "      <td>80</td>\n",
       "      <td>27</td>\n",
       "      <td>no fat</td>\n",
       "      <td>140</td>\n",
       "      <td>30 min</td>\n",
       "      <td>running</td>\n",
       "    </tr>\n",
       "    <tr>\n",
       "      <th>81</th>\n",
       "      <td>81</td>\n",
       "      <td>28</td>\n",
       "      <td>no fat</td>\n",
       "      <td>103</td>\n",
       "      <td>1 min</td>\n",
       "      <td>running</td>\n",
       "    </tr>\n",
       "    <tr>\n",
       "      <th>82</th>\n",
       "      <td>82</td>\n",
       "      <td>28</td>\n",
       "      <td>no fat</td>\n",
       "      <td>124</td>\n",
       "      <td>15 min</td>\n",
       "      <td>running</td>\n",
       "    </tr>\n",
       "    <tr>\n",
       "      <th>83</th>\n",
       "      <td>83</td>\n",
       "      <td>28</td>\n",
       "      <td>no fat</td>\n",
       "      <td>140</td>\n",
       "      <td>30 min</td>\n",
       "      <td>running</td>\n",
       "    </tr>\n",
       "    <tr>\n",
       "      <th>84</th>\n",
       "      <td>84</td>\n",
       "      <td>29</td>\n",
       "      <td>no fat</td>\n",
       "      <td>94</td>\n",
       "      <td>1 min</td>\n",
       "      <td>running</td>\n",
       "    </tr>\n",
       "    <tr>\n",
       "      <th>85</th>\n",
       "      <td>85</td>\n",
       "      <td>29</td>\n",
       "      <td>no fat</td>\n",
       "      <td>135</td>\n",
       "      <td>15 min</td>\n",
       "      <td>running</td>\n",
       "    </tr>\n",
       "    <tr>\n",
       "      <th>86</th>\n",
       "      <td>86</td>\n",
       "      <td>29</td>\n",
       "      <td>no fat</td>\n",
       "      <td>130</td>\n",
       "      <td>30 min</td>\n",
       "      <td>running</td>\n",
       "    </tr>\n",
       "    <tr>\n",
       "      <th>87</th>\n",
       "      <td>87</td>\n",
       "      <td>30</td>\n",
       "      <td>no fat</td>\n",
       "      <td>99</td>\n",
       "      <td>1 min</td>\n",
       "      <td>running</td>\n",
       "    </tr>\n",
       "    <tr>\n",
       "      <th>88</th>\n",
       "      <td>88</td>\n",
       "      <td>30</td>\n",
       "      <td>no fat</td>\n",
       "      <td>111</td>\n",
       "      <td>15 min</td>\n",
       "      <td>running</td>\n",
       "    </tr>\n",
       "    <tr>\n",
       "      <th>89</th>\n",
       "      <td>89</td>\n",
       "      <td>30</td>\n",
       "      <td>no fat</td>\n",
       "      <td>150</td>\n",
       "      <td>30 min</td>\n",
       "      <td>running</td>\n",
       "    </tr>\n",
       "  </tbody>\n",
       "</table>\n",
       "</div>"
      ],
      "text/plain": [
       "    Unnamed: 0  id    diet  pulse    time     kind\n",
       "80          80  27  no fat    140  30 min  running\n",
       "81          81  28  no fat    103   1 min  running\n",
       "82          82  28  no fat    124  15 min  running\n",
       "83          83  28  no fat    140  30 min  running\n",
       "84          84  29  no fat     94   1 min  running\n",
       "85          85  29  no fat    135  15 min  running\n",
       "86          86  29  no fat    130  30 min  running\n",
       "87          87  30  no fat     99   1 min  running\n",
       "88          88  30  no fat    111  15 min  running\n",
       "89          89  30  no fat    150  30 min  running"
      ]
     },
     "execution_count": 4,
     "metadata": {},
     "output_type": "execute_result"
    }
   ],
   "source": [
    "df.tail(10)"
   ]
  },
  {
   "cell_type": "code",
   "execution_count": 5,
   "id": "36583119",
   "metadata": {
    "execution": {
     "iopub.execute_input": "2023-06-05T16:57:13.692714Z",
     "iopub.status.busy": "2023-06-05T16:57:13.692100Z",
     "iopub.status.idle": "2023-06-05T16:57:13.697157Z",
     "shell.execute_reply": "2023-06-05T16:57:13.696487Z"
    },
    "papermill": {
     "duration": 0.016807,
     "end_time": "2023-06-05T16:57:13.699322",
     "exception": false,
     "start_time": "2023-06-05T16:57:13.682515",
     "status": "completed"
    },
    "tags": []
   },
   "outputs": [
    {
     "data": {
      "text/plain": [
       "Index(['Unnamed: 0', 'id', 'diet', 'pulse', 'time', 'kind'], dtype='object')"
      ]
     },
     "execution_count": 5,
     "metadata": {},
     "output_type": "execute_result"
    }
   ],
   "source": [
    "df.columns"
   ]
  },
  {
   "cell_type": "code",
   "execution_count": 6,
   "id": "c75245ef",
   "metadata": {
    "execution": {
     "iopub.execute_input": "2023-06-05T16:57:13.719269Z",
     "iopub.status.busy": "2023-06-05T16:57:13.718678Z",
     "iopub.status.idle": "2023-06-05T16:57:13.723577Z",
     "shell.execute_reply": "2023-06-05T16:57:13.722928Z"
    },
    "papermill": {
     "duration": 0.016317,
     "end_time": "2023-06-05T16:57:13.725835",
     "exception": false,
     "start_time": "2023-06-05T16:57:13.709518",
     "status": "completed"
    },
    "tags": []
   },
   "outputs": [
    {
     "data": {
      "text/plain": [
       "2"
      ]
     },
     "execution_count": 6,
     "metadata": {},
     "output_type": "execute_result"
    }
   ],
   "source": [
    "df.ndim"
   ]
  },
  {
   "cell_type": "code",
   "execution_count": 7,
   "id": "3a333160",
   "metadata": {
    "execution": {
     "iopub.execute_input": "2023-06-05T16:57:13.745598Z",
     "iopub.status.busy": "2023-06-05T16:57:13.744970Z",
     "iopub.status.idle": "2023-06-05T16:57:13.749616Z",
     "shell.execute_reply": "2023-06-05T16:57:13.749052Z"
    },
    "papermill": {
     "duration": 0.017197,
     "end_time": "2023-06-05T16:57:13.751096",
     "exception": false,
     "start_time": "2023-06-05T16:57:13.733899",
     "status": "completed"
    },
    "tags": []
   },
   "outputs": [
    {
     "data": {
      "text/plain": [
       "(90, 6)"
      ]
     },
     "execution_count": 7,
     "metadata": {},
     "output_type": "execute_result"
    }
   ],
   "source": [
    "df.shape"
   ]
  },
  {
   "cell_type": "code",
   "execution_count": 8,
   "id": "58174fce",
   "metadata": {
    "execution": {
     "iopub.execute_input": "2023-06-05T16:57:13.768399Z",
     "iopub.status.busy": "2023-06-05T16:57:13.768049Z",
     "iopub.status.idle": "2023-06-05T16:57:13.777715Z",
     "shell.execute_reply": "2023-06-05T16:57:13.776904Z"
    },
    "papermill": {
     "duration": 0.020125,
     "end_time": "2023-06-05T16:57:13.779369",
     "exception": false,
     "start_time": "2023-06-05T16:57:13.759244",
     "status": "completed"
    },
    "tags": []
   },
   "outputs": [
    {
     "data": {
      "text/plain": [
       "<bound method DataFrame.info of     Unnamed: 0  id     diet  pulse    time     kind\n",
       "0            0   1  low fat     85   1 min     rest\n",
       "1            1   1  low fat     85  15 min     rest\n",
       "2            2   1  low fat     88  30 min     rest\n",
       "3            3   2  low fat     90   1 min     rest\n",
       "4            4   2  low fat     92  15 min     rest\n",
       "..         ...  ..      ...    ...     ...      ...\n",
       "85          85  29   no fat    135  15 min  running\n",
       "86          86  29   no fat    130  30 min  running\n",
       "87          87  30   no fat     99   1 min  running\n",
       "88          88  30   no fat    111  15 min  running\n",
       "89          89  30   no fat    150  30 min  running\n",
       "\n",
       "[90 rows x 6 columns]>"
      ]
     },
     "execution_count": 8,
     "metadata": {},
     "output_type": "execute_result"
    }
   ],
   "source": [
    "df.info"
   ]
  },
  {
   "cell_type": "code",
   "execution_count": 9,
   "id": "0be77bad",
   "metadata": {
    "execution": {
     "iopub.execute_input": "2023-06-05T16:57:13.797865Z",
     "iopub.status.busy": "2023-06-05T16:57:13.796147Z",
     "iopub.status.idle": "2023-06-05T16:57:13.807034Z",
     "shell.execute_reply": "2023-06-05T16:57:13.805814Z"
    },
    "papermill": {
     "duration": 0.021188,
     "end_time": "2023-06-05T16:57:13.808848",
     "exception": false,
     "start_time": "2023-06-05T16:57:13.787660",
     "status": "completed"
    },
    "tags": []
   },
   "outputs": [
    {
     "data": {
      "text/plain": [
       "<bound method NDFrame.describe of     Unnamed: 0  id     diet  pulse    time     kind\n",
       "0            0   1  low fat     85   1 min     rest\n",
       "1            1   1  low fat     85  15 min     rest\n",
       "2            2   1  low fat     88  30 min     rest\n",
       "3            3   2  low fat     90   1 min     rest\n",
       "4            4   2  low fat     92  15 min     rest\n",
       "..         ...  ..      ...    ...     ...      ...\n",
       "85          85  29   no fat    135  15 min  running\n",
       "86          86  29   no fat    130  30 min  running\n",
       "87          87  30   no fat     99   1 min  running\n",
       "88          88  30   no fat    111  15 min  running\n",
       "89          89  30   no fat    150  30 min  running\n",
       "\n",
       "[90 rows x 6 columns]>"
      ]
     },
     "execution_count": 9,
     "metadata": {},
     "output_type": "execute_result"
    }
   ],
   "source": [
    "df.describe"
   ]
  },
  {
   "cell_type": "markdown",
   "id": "b34f6c00",
   "metadata": {
    "papermill": {
     "duration": 0.007517,
     "end_time": "2023-06-05T16:57:13.824770",
     "exception": false,
     "start_time": "2023-06-05T16:57:13.817253",
     "status": "completed"
    },
    "tags": []
   },
   "source": [
    "# Preprocessing"
   ]
  },
  {
   "cell_type": "code",
   "execution_count": 10,
   "id": "90c7a7cd",
   "metadata": {
    "execution": {
     "iopub.execute_input": "2023-06-05T16:57:13.841827Z",
     "iopub.status.busy": "2023-06-05T16:57:13.841439Z",
     "iopub.status.idle": "2023-06-05T16:57:13.849284Z",
     "shell.execute_reply": "2023-06-05T16:57:13.848499Z"
    },
    "papermill": {
     "duration": 0.018382,
     "end_time": "2023-06-05T16:57:13.850892",
     "exception": false,
     "start_time": "2023-06-05T16:57:13.832510",
     "status": "completed"
    },
    "tags": []
   },
   "outputs": [
    {
     "data": {
      "text/plain": [
       "Unnamed: 0    0\n",
       "id            0\n",
       "diet          0\n",
       "pulse         0\n",
       "time          0\n",
       "kind          0\n",
       "dtype: int64"
      ]
     },
     "execution_count": 10,
     "metadata": {},
     "output_type": "execute_result"
    }
   ],
   "source": [
    "df.isnull().sum()"
   ]
  },
  {
   "cell_type": "code",
   "execution_count": 11,
   "id": "5ac3e94c",
   "metadata": {
    "execution": {
     "iopub.execute_input": "2023-06-05T16:57:13.868033Z",
     "iopub.status.busy": "2023-06-05T16:57:13.867709Z",
     "iopub.status.idle": "2023-06-05T16:57:13.878839Z",
     "shell.execute_reply": "2023-06-05T16:57:13.877951Z"
    },
    "papermill": {
     "duration": 0.022085,
     "end_time": "2023-06-05T16:57:13.880911",
     "exception": false,
     "start_time": "2023-06-05T16:57:13.858826",
     "status": "completed"
    },
    "tags": []
   },
   "outputs": [
    {
     "data": {
      "text/plain": [
       "['low fat', 'no fat']\n",
       "Categories (2, object): ['no fat', 'low fat']"
      ]
     },
     "execution_count": 11,
     "metadata": {},
     "output_type": "execute_result"
    }
   ],
   "source": [
    "df.diet.unique()"
   ]
  },
  {
   "cell_type": "code",
   "execution_count": 12,
   "id": "cdd452e8",
   "metadata": {
    "execution": {
     "iopub.execute_input": "2023-06-05T16:57:13.899119Z",
     "iopub.status.busy": "2023-06-05T16:57:13.898763Z",
     "iopub.status.idle": "2023-06-05T16:57:13.913157Z",
     "shell.execute_reply": "2023-06-05T16:57:13.912335Z"
    },
    "papermill": {
     "duration": 0.025331,
     "end_time": "2023-06-05T16:57:13.914762",
     "exception": false,
     "start_time": "2023-06-05T16:57:13.889431",
     "status": "completed"
    },
    "tags": []
   },
   "outputs": [
    {
     "data": {
      "text/html": [
       "<div>\n",
       "<style scoped>\n",
       "    .dataframe tbody tr th:only-of-type {\n",
       "        vertical-align: middle;\n",
       "    }\n",
       "\n",
       "    .dataframe tbody tr th {\n",
       "        vertical-align: top;\n",
       "    }\n",
       "\n",
       "    .dataframe thead th {\n",
       "        text-align: right;\n",
       "    }\n",
       "</style>\n",
       "<table border=\"1\" class=\"dataframe\">\n",
       "  <thead>\n",
       "    <tr style=\"text-align: right;\">\n",
       "      <th></th>\n",
       "      <th>id</th>\n",
       "      <th>diet</th>\n",
       "      <th>pulse</th>\n",
       "      <th>time</th>\n",
       "      <th>kind</th>\n",
       "    </tr>\n",
       "  </thead>\n",
       "  <tbody>\n",
       "    <tr>\n",
       "      <th>0</th>\n",
       "      <td>1</td>\n",
       "      <td>low fat</td>\n",
       "      <td>85</td>\n",
       "      <td>1 min</td>\n",
       "      <td>rest</td>\n",
       "    </tr>\n",
       "    <tr>\n",
       "      <th>1</th>\n",
       "      <td>1</td>\n",
       "      <td>low fat</td>\n",
       "      <td>85</td>\n",
       "      <td>15 min</td>\n",
       "      <td>rest</td>\n",
       "    </tr>\n",
       "    <tr>\n",
       "      <th>2</th>\n",
       "      <td>1</td>\n",
       "      <td>low fat</td>\n",
       "      <td>88</td>\n",
       "      <td>30 min</td>\n",
       "      <td>rest</td>\n",
       "    </tr>\n",
       "    <tr>\n",
       "      <th>3</th>\n",
       "      <td>2</td>\n",
       "      <td>low fat</td>\n",
       "      <td>90</td>\n",
       "      <td>1 min</td>\n",
       "      <td>rest</td>\n",
       "    </tr>\n",
       "    <tr>\n",
       "      <th>4</th>\n",
       "      <td>2</td>\n",
       "      <td>low fat</td>\n",
       "      <td>92</td>\n",
       "      <td>15 min</td>\n",
       "      <td>rest</td>\n",
       "    </tr>\n",
       "    <tr>\n",
       "      <th>...</th>\n",
       "      <td>...</td>\n",
       "      <td>...</td>\n",
       "      <td>...</td>\n",
       "      <td>...</td>\n",
       "      <td>...</td>\n",
       "    </tr>\n",
       "    <tr>\n",
       "      <th>85</th>\n",
       "      <td>29</td>\n",
       "      <td>no fat</td>\n",
       "      <td>135</td>\n",
       "      <td>15 min</td>\n",
       "      <td>running</td>\n",
       "    </tr>\n",
       "    <tr>\n",
       "      <th>86</th>\n",
       "      <td>29</td>\n",
       "      <td>no fat</td>\n",
       "      <td>130</td>\n",
       "      <td>30 min</td>\n",
       "      <td>running</td>\n",
       "    </tr>\n",
       "    <tr>\n",
       "      <th>87</th>\n",
       "      <td>30</td>\n",
       "      <td>no fat</td>\n",
       "      <td>99</td>\n",
       "      <td>1 min</td>\n",
       "      <td>running</td>\n",
       "    </tr>\n",
       "    <tr>\n",
       "      <th>88</th>\n",
       "      <td>30</td>\n",
       "      <td>no fat</td>\n",
       "      <td>111</td>\n",
       "      <td>15 min</td>\n",
       "      <td>running</td>\n",
       "    </tr>\n",
       "    <tr>\n",
       "      <th>89</th>\n",
       "      <td>30</td>\n",
       "      <td>no fat</td>\n",
       "      <td>150</td>\n",
       "      <td>30 min</td>\n",
       "      <td>running</td>\n",
       "    </tr>\n",
       "  </tbody>\n",
       "</table>\n",
       "<p>90 rows × 5 columns</p>\n",
       "</div>"
      ],
      "text/plain": [
       "    id     diet  pulse    time     kind\n",
       "0    1  low fat     85   1 min     rest\n",
       "1    1  low fat     85  15 min     rest\n",
       "2    1  low fat     88  30 min     rest\n",
       "3    2  low fat     90   1 min     rest\n",
       "4    2  low fat     92  15 min     rest\n",
       "..  ..      ...    ...     ...      ...\n",
       "85  29   no fat    135  15 min  running\n",
       "86  29   no fat    130  30 min  running\n",
       "87  30   no fat     99   1 min  running\n",
       "88  30   no fat    111  15 min  running\n",
       "89  30   no fat    150  30 min  running\n",
       "\n",
       "[90 rows x 5 columns]"
      ]
     },
     "execution_count": 12,
     "metadata": {},
     "output_type": "execute_result"
    }
   ],
   "source": [
    "df.drop(['Unnamed: 0'],axis=1,inplace=True)\n",
    "df"
   ]
  },
  {
   "cell_type": "code",
   "execution_count": 13,
   "id": "a35ce9c9",
   "metadata": {
    "execution": {
     "iopub.execute_input": "2023-06-05T16:57:13.934220Z",
     "iopub.status.busy": "2023-06-05T16:57:13.933914Z",
     "iopub.status.idle": "2023-06-05T16:57:14.088934Z",
     "shell.execute_reply": "2023-06-05T16:57:14.087881Z"
    },
    "papermill": {
     "duration": 0.167355,
     "end_time": "2023-06-05T16:57:14.090805",
     "exception": false,
     "start_time": "2023-06-05T16:57:13.923450",
     "status": "completed"
    },
    "tags": []
   },
   "outputs": [
    {
     "data": {
      "text/html": [
       "<div>\n",
       "<style scoped>\n",
       "    .dataframe tbody tr th:only-of-type {\n",
       "        vertical-align: middle;\n",
       "    }\n",
       "\n",
       "    .dataframe tbody tr th {\n",
       "        vertical-align: top;\n",
       "    }\n",
       "\n",
       "    .dataframe thead th {\n",
       "        text-align: right;\n",
       "    }\n",
       "</style>\n",
       "<table border=\"1\" class=\"dataframe\">\n",
       "  <thead>\n",
       "    <tr style=\"text-align: right;\">\n",
       "      <th></th>\n",
       "      <th>id</th>\n",
       "      <th>diet</th>\n",
       "      <th>pulse</th>\n",
       "      <th>time</th>\n",
       "      <th>kind</th>\n",
       "    </tr>\n",
       "  </thead>\n",
       "  <tbody>\n",
       "    <tr>\n",
       "      <th>0</th>\n",
       "      <td>1</td>\n",
       "      <td>0</td>\n",
       "      <td>85</td>\n",
       "      <td>0</td>\n",
       "      <td>0</td>\n",
       "    </tr>\n",
       "    <tr>\n",
       "      <th>1</th>\n",
       "      <td>1</td>\n",
       "      <td>0</td>\n",
       "      <td>85</td>\n",
       "      <td>1</td>\n",
       "      <td>0</td>\n",
       "    </tr>\n",
       "    <tr>\n",
       "      <th>2</th>\n",
       "      <td>1</td>\n",
       "      <td>0</td>\n",
       "      <td>88</td>\n",
       "      <td>2</td>\n",
       "      <td>0</td>\n",
       "    </tr>\n",
       "    <tr>\n",
       "      <th>3</th>\n",
       "      <td>2</td>\n",
       "      <td>0</td>\n",
       "      <td>90</td>\n",
       "      <td>0</td>\n",
       "      <td>0</td>\n",
       "    </tr>\n",
       "    <tr>\n",
       "      <th>4</th>\n",
       "      <td>2</td>\n",
       "      <td>0</td>\n",
       "      <td>92</td>\n",
       "      <td>1</td>\n",
       "      <td>0</td>\n",
       "    </tr>\n",
       "    <tr>\n",
       "      <th>...</th>\n",
       "      <td>...</td>\n",
       "      <td>...</td>\n",
       "      <td>...</td>\n",
       "      <td>...</td>\n",
       "      <td>...</td>\n",
       "    </tr>\n",
       "    <tr>\n",
       "      <th>85</th>\n",
       "      <td>29</td>\n",
       "      <td>1</td>\n",
       "      <td>135</td>\n",
       "      <td>1</td>\n",
       "      <td>1</td>\n",
       "    </tr>\n",
       "    <tr>\n",
       "      <th>86</th>\n",
       "      <td>29</td>\n",
       "      <td>1</td>\n",
       "      <td>130</td>\n",
       "      <td>2</td>\n",
       "      <td>1</td>\n",
       "    </tr>\n",
       "    <tr>\n",
       "      <th>87</th>\n",
       "      <td>30</td>\n",
       "      <td>1</td>\n",
       "      <td>99</td>\n",
       "      <td>0</td>\n",
       "      <td>1</td>\n",
       "    </tr>\n",
       "    <tr>\n",
       "      <th>88</th>\n",
       "      <td>30</td>\n",
       "      <td>1</td>\n",
       "      <td>111</td>\n",
       "      <td>1</td>\n",
       "      <td>1</td>\n",
       "    </tr>\n",
       "    <tr>\n",
       "      <th>89</th>\n",
       "      <td>30</td>\n",
       "      <td>1</td>\n",
       "      <td>150</td>\n",
       "      <td>2</td>\n",
       "      <td>1</td>\n",
       "    </tr>\n",
       "  </tbody>\n",
       "</table>\n",
       "<p>90 rows × 5 columns</p>\n",
       "</div>"
      ],
      "text/plain": [
       "    id  diet  pulse  time  kind\n",
       "0    1     0     85     0     0\n",
       "1    1     0     85     1     0\n",
       "2    1     0     88     2     0\n",
       "3    2     0     90     0     0\n",
       "4    2     0     92     1     0\n",
       "..  ..   ...    ...   ...   ...\n",
       "85  29     1    135     1     1\n",
       "86  29     1    130     2     1\n",
       "87  30     1     99     0     1\n",
       "88  30     1    111     1     1\n",
       "89  30     1    150     2     1\n",
       "\n",
       "[90 rows x 5 columns]"
      ]
     },
     "execution_count": 13,
     "metadata": {},
     "output_type": "execute_result"
    }
   ],
   "source": [
    "#Label Encoding\n",
    "\n",
    "from sklearn.preprocessing import LabelEncoder\n",
    "a=LabelEncoder()\n",
    "b=['diet','time','kind']\n",
    "for i in b:\n",
    "    df[i]=a.fit_transform(df[i])\n",
    "df"
   ]
  },
  {
   "cell_type": "code",
   "execution_count": 14,
   "id": "bb814488",
   "metadata": {
    "execution": {
     "iopub.execute_input": "2023-06-05T16:57:14.109591Z",
     "iopub.status.busy": "2023-06-05T16:57:14.109277Z",
     "iopub.status.idle": "2023-06-05T16:57:14.126451Z",
     "shell.execute_reply": "2023-06-05T16:57:14.125526Z"
    },
    "papermill": {
     "duration": 0.029269,
     "end_time": "2023-06-05T16:57:14.128959",
     "exception": false,
     "start_time": "2023-06-05T16:57:14.099690",
     "status": "completed"
    },
    "scrolled": true,
    "tags": []
   },
   "outputs": [
    {
     "data": {
      "text/html": [
       "<div>\n",
       "<style scoped>\n",
       "    .dataframe tbody tr th:only-of-type {\n",
       "        vertical-align: middle;\n",
       "    }\n",
       "\n",
       "    .dataframe tbody tr th {\n",
       "        vertical-align: top;\n",
       "    }\n",
       "\n",
       "    .dataframe thead th {\n",
       "        text-align: right;\n",
       "    }\n",
       "</style>\n",
       "<table border=\"1\" class=\"dataframe\">\n",
       "  <thead>\n",
       "    <tr style=\"text-align: right;\">\n",
       "      <th></th>\n",
       "      <th>id</th>\n",
       "      <th>diet</th>\n",
       "      <th>pulse</th>\n",
       "      <th>time</th>\n",
       "      <th>kind</th>\n",
       "    </tr>\n",
       "  </thead>\n",
       "  <tbody>\n",
       "    <tr>\n",
       "      <th>0</th>\n",
       "      <td>1</td>\n",
       "      <td>0</td>\n",
       "      <td>1.071429</td>\n",
       "      <td>0</td>\n",
       "      <td>0</td>\n",
       "    </tr>\n",
       "    <tr>\n",
       "      <th>1</th>\n",
       "      <td>1</td>\n",
       "      <td>0</td>\n",
       "      <td>1.071429</td>\n",
       "      <td>1</td>\n",
       "      <td>0</td>\n",
       "    </tr>\n",
       "    <tr>\n",
       "      <th>2</th>\n",
       "      <td>1</td>\n",
       "      <td>0</td>\n",
       "      <td>1.114286</td>\n",
       "      <td>2</td>\n",
       "      <td>0</td>\n",
       "    </tr>\n",
       "    <tr>\n",
       "      <th>3</th>\n",
       "      <td>2</td>\n",
       "      <td>0</td>\n",
       "      <td>1.142857</td>\n",
       "      <td>0</td>\n",
       "      <td>0</td>\n",
       "    </tr>\n",
       "    <tr>\n",
       "      <th>4</th>\n",
       "      <td>2</td>\n",
       "      <td>0</td>\n",
       "      <td>1.171429</td>\n",
       "      <td>1</td>\n",
       "      <td>0</td>\n",
       "    </tr>\n",
       "    <tr>\n",
       "      <th>...</th>\n",
       "      <td>...</td>\n",
       "      <td>...</td>\n",
       "      <td>...</td>\n",
       "      <td>...</td>\n",
       "      <td>...</td>\n",
       "    </tr>\n",
       "    <tr>\n",
       "      <th>85</th>\n",
       "      <td>29</td>\n",
       "      <td>1</td>\n",
       "      <td>1.785714</td>\n",
       "      <td>1</td>\n",
       "      <td>1</td>\n",
       "    </tr>\n",
       "    <tr>\n",
       "      <th>86</th>\n",
       "      <td>29</td>\n",
       "      <td>1</td>\n",
       "      <td>1.714286</td>\n",
       "      <td>2</td>\n",
       "      <td>1</td>\n",
       "    </tr>\n",
       "    <tr>\n",
       "      <th>87</th>\n",
       "      <td>30</td>\n",
       "      <td>1</td>\n",
       "      <td>1.271429</td>\n",
       "      <td>0</td>\n",
       "      <td>1</td>\n",
       "    </tr>\n",
       "    <tr>\n",
       "      <th>88</th>\n",
       "      <td>30</td>\n",
       "      <td>1</td>\n",
       "      <td>1.442857</td>\n",
       "      <td>1</td>\n",
       "      <td>1</td>\n",
       "    </tr>\n",
       "    <tr>\n",
       "      <th>89</th>\n",
       "      <td>30</td>\n",
       "      <td>1</td>\n",
       "      <td>2.000000</td>\n",
       "      <td>2</td>\n",
       "      <td>1</td>\n",
       "    </tr>\n",
       "  </tbody>\n",
       "</table>\n",
       "<p>90 rows × 5 columns</p>\n",
       "</div>"
      ],
      "text/plain": [
       "    id  diet     pulse  time  kind\n",
       "0    1     0  1.071429     0     0\n",
       "1    1     0  1.071429     1     0\n",
       "2    1     0  1.114286     2     0\n",
       "3    2     0  1.142857     0     0\n",
       "4    2     0  1.171429     1     0\n",
       "..  ..   ...       ...   ...   ...\n",
       "85  29     1  1.785714     1     1\n",
       "86  29     1  1.714286     2     1\n",
       "87  30     1  1.271429     0     1\n",
       "88  30     1  1.442857     1     1\n",
       "89  30     1  2.000000     2     1\n",
       "\n",
       "[90 rows x 5 columns]"
      ]
     },
     "execution_count": 14,
     "metadata": {},
     "output_type": "execute_result"
    }
   ],
   "source": [
    "#Min Max scaler\n",
    "\n",
    "from sklearn.preprocessing import MinMaxScaler\n",
    "a=MinMaxScaler(feature_range=(1,2))\n",
    "df[['pulse']]=a.fit_transform(df[['pulse']])\n",
    "df\n"
   ]
  },
  {
   "cell_type": "markdown",
   "id": "23725742",
   "metadata": {
    "papermill": {
     "duration": 0.008843,
     "end_time": "2023-06-05T16:57:14.148231",
     "exception": false,
     "start_time": "2023-06-05T16:57:14.139388",
     "status": "completed"
    },
    "tags": []
   },
   "source": [
    "# Visualization"
   ]
  },
  {
   "cell_type": "code",
   "execution_count": 15,
   "id": "23e6ed51",
   "metadata": {
    "execution": {
     "iopub.execute_input": "2023-06-05T16:57:14.168165Z",
     "iopub.status.busy": "2023-06-05T16:57:14.167846Z",
     "iopub.status.idle": "2023-06-05T16:57:14.494652Z",
     "shell.execute_reply": "2023-06-05T16:57:14.493755Z"
    },
    "papermill": {
     "duration": 0.339123,
     "end_time": "2023-06-05T16:57:14.496445",
     "exception": false,
     "start_time": "2023-06-05T16:57:14.157322",
     "status": "completed"
    },
    "tags": []
   },
   "outputs": [
    {
     "data": {
      "text/plain": [
       "<BarContainer object of 90 artists>"
      ]
     },
     "execution_count": 15,
     "metadata": {},
     "output_type": "execute_result"
    },
    {
     "data": {
      "image/png": "[encoded data removed]",
      "text/plain": [
       "<Figure size 640x480 with 1 Axes>"
      ]
     },
     "metadata": {},
     "output_type": "display_data"
    }
   ],
   "source": [
    "plt.bar(x=df['kind'],height=40)\n"
   ]
  },
  {
   "cell_type": "code",
   "execution_count": 16,
   "id": "9b6b53cb",
   "metadata": {
    "execution": {
     "iopub.execute_input": "2023-06-05T16:57:14.516523Z",
     "iopub.status.busy": "2023-06-05T16:57:14.516164Z",
     "iopub.status.idle": "2023-06-05T16:57:14.733814Z",
     "shell.execute_reply": "2023-06-05T16:57:14.732548Z"
    },
    "papermill": {
     "duration": 0.230385,
     "end_time": "2023-06-05T16:57:14.736266",
     "exception": false,
     "start_time": "2023-06-05T16:57:14.505881",
     "status": "completed"
    },
    "tags": []
   },
   "outputs": [
    {
     "data": {
      "text/plain": [
       "[<matplotlib.lines.Line2D at 0x7f87053e66e0>]"
      ]
     },
     "execution_count": 16,
     "metadata": {},
     "output_type": "execute_result"
    },
    {
     "data": {
      "image/png": "[encoded data removed]",
      "text/plain": [
       "<Figure size 640x480 with 1 Axes>"
      ]
     },
     "metadata": {},
     "output_type": "display_data"
    }
   ],
   "source": [
    "plt.plot(df['time'],df['pulse'])\n"
   ]
  },
  {
   "cell_type": "code",
   "execution_count": 17,
   "id": "8a8b7e0b",
   "metadata": {
    "execution": {
     "iopub.execute_input": "2023-06-05T16:57:14.759662Z",
     "iopub.status.busy": "2023-06-05T16:57:14.758909Z",
     "iopub.status.idle": "2023-06-05T16:57:14.967134Z",
     "shell.execute_reply": "2023-06-05T16:57:14.965452Z"
    },
    "papermill": {
     "duration": 0.221943,
     "end_time": "2023-06-05T16:57:14.969159",
     "exception": false,
     "start_time": "2023-06-05T16:57:14.747216",
     "status": "completed"
    },
    "tags": []
   },
   "outputs": [
    {
     "data": {
      "image/png": "[encoded data removed]",
      "text/plain": [
       "<Figure size 640x480 with 1 Axes>"
      ]
     },
     "metadata": {},
     "output_type": "display_data"
    }
   ],
   "source": [
    "from matplotlib import style   ##import style module\n",
    "style.use('ggplot')  #g ive ggplot parameter value to use() method\n",
    "plt.plot(df['kind'],df['diet'],'mo--',linewidth=3,markersize=10,label=\"Temp line\")\n",
    "plt.title('Diets in differen kinds of activites', fontsize=20)\n",
    "plt.xlabel('diets',fontsize=20)\n",
    "plt.ylabel('activites',fontsize=20,)\n",
    "plt.show()"
   ]
  },
  {
   "cell_type": "code",
   "execution_count": 18,
   "id": "4ce65fd1",
   "metadata": {
    "execution": {
     "iopub.execute_input": "2023-06-05T16:57:14.993099Z",
     "iopub.status.busy": "2023-06-05T16:57:14.992597Z",
     "iopub.status.idle": "2023-06-05T16:57:15.298135Z",
     "shell.execute_reply": "2023-06-05T16:57:15.296944Z"
    },
    "papermill": {
     "duration": 0.319558,
     "end_time": "2023-06-05T16:57:15.299906",
     "exception": false,
     "start_time": "2023-06-05T16:57:14.980348",
     "status": "completed"
    },
    "tags": []
   },
   "outputs": [
    {
     "data": {
      "text/plain": [
       "<Axes: >"
      ]
     },
     "execution_count": 18,
     "metadata": {},
     "output_type": "execute_result"
    },
    {
     "data": {
      "image/png": "[encoded data removed]",
      "text/plain": [
       "<Figure size 640x480 with 2 Axes>"
      ]
     },
     "metadata": {},
     "output_type": "display_data"
    }
   ],
   "source": [
    "sns.heatmap(df.corr(),annot=True,cmap='PiYG')"
   ]
  },
  {
   "cell_type": "code",
   "execution_count": 19,
   "id": "038761df",
   "metadata": {
    "execution": {
     "iopub.execute_input": "2023-06-05T16:57:15.324212Z",
     "iopub.status.busy": "2023-06-05T16:57:15.323904Z",
     "iopub.status.idle": "2023-06-05T16:57:16.713136Z",
     "shell.execute_reply": "2023-06-05T16:57:16.712375Z"
    },
    "papermill": {
     "duration": 1.403713,
     "end_time": "2023-06-05T16:57:16.715301",
     "exception": false,
     "start_time": "2023-06-05T16:57:15.311588",
     "status": "completed"
    },
    "tags": []
   },
   "outputs": [
    {
     "data": {
      "image/png": "[encoded data removed]",
      "text/plain": [
       "<Figure size 2000x2000 with 6 Axes>"
      ]
     },
     "metadata": {},
     "output_type": "display_data"
    }
   ],
   "source": [
    "df.hist(bins=25,figsize=(20,20));"
   ]
  },
  {
   "cell_type": "code",
   "execution_count": 20,
   "id": "e0eb1b73",
   "metadata": {
    "execution": {
     "iopub.execute_input": "2023-06-05T16:57:16.743311Z",
     "iopub.status.busy": "2023-06-05T16:57:16.742670Z",
     "iopub.status.idle": "2023-06-05T16:57:17.019793Z",
     "shell.execute_reply": "2023-06-05T16:57:17.018534Z"
    },
    "papermill": {
     "duration": 0.294651,
     "end_time": "2023-06-05T16:57:17.022325",
     "exception": false,
     "start_time": "2023-06-05T16:57:16.727674",
     "status": "completed"
    },
    "tags": []
   },
   "outputs": [
    {
     "data": {
      "text/plain": [
       "<Axes: xlabel='diet', ylabel='Density'>"
      ]
     },
     "execution_count": 20,
     "metadata": {},
     "output_type": "execute_result"
    },
    {
     "data": {
      "image/png": "[encoded data removed]",
      "text/plain": [
       "<Figure size 640x480 with 1 Axes>"
      ]
     },
     "metadata": {},
     "output_type": "display_data"
    }
   ],
   "source": [
    "sns.distplot(df['diet'])"
   ]
  },
  {
   "cell_type": "markdown",
   "id": "e6781d70",
   "metadata": {
    "papermill": {
     "duration": 0.012655,
     "end_time": "2023-06-05T16:57:17.047897",
     "exception": false,
     "start_time": "2023-06-05T16:57:17.035242",
     "status": "completed"
    },
    "tags": []
   },
   "source": [
    "# Dropping columns "
   ]
  },
  {
   "cell_type": "code",
   "execution_count": 21,
   "id": "07e4d4cc",
   "metadata": {
    "execution": {
     "iopub.execute_input": "2023-06-05T16:57:17.075558Z",
     "iopub.status.busy": "2023-06-05T16:57:17.074763Z",
     "iopub.status.idle": "2023-06-05T16:57:17.086915Z",
     "shell.execute_reply": "2023-06-05T16:57:17.086126Z"
    },
    "papermill": {
     "duration": 0.027859,
     "end_time": "2023-06-05T16:57:17.088702",
     "exception": false,
     "start_time": "2023-06-05T16:57:17.060843",
     "status": "completed"
    },
    "tags": []
   },
   "outputs": [
    {
     "data": {
      "text/html": [
       "<div>\n",
       "<style scoped>\n",
       "    .dataframe tbody tr th:only-of-type {\n",
       "        vertical-align: middle;\n",
       "    }\n",
       "\n",
       "    .dataframe tbody tr th {\n",
       "        vertical-align: top;\n",
       "    }\n",
       "\n",
       "    .dataframe thead th {\n",
       "        text-align: right;\n",
       "    }\n",
       "</style>\n",
       "<table border=\"1\" class=\"dataframe\">\n",
       "  <thead>\n",
       "    <tr style=\"text-align: right;\">\n",
       "      <th></th>\n",
       "      <th>id</th>\n",
       "      <th>pulse</th>\n",
       "      <th>time</th>\n",
       "      <th>kind</th>\n",
       "    </tr>\n",
       "  </thead>\n",
       "  <tbody>\n",
       "    <tr>\n",
       "      <th>0</th>\n",
       "      <td>1</td>\n",
       "      <td>1.071429</td>\n",
       "      <td>0</td>\n",
       "      <td>0</td>\n",
       "    </tr>\n",
       "    <tr>\n",
       "      <th>1</th>\n",
       "      <td>1</td>\n",
       "      <td>1.071429</td>\n",
       "      <td>1</td>\n",
       "      <td>0</td>\n",
       "    </tr>\n",
       "    <tr>\n",
       "      <th>2</th>\n",
       "      <td>1</td>\n",
       "      <td>1.114286</td>\n",
       "      <td>2</td>\n",
       "      <td>0</td>\n",
       "    </tr>\n",
       "    <tr>\n",
       "      <th>3</th>\n",
       "      <td>2</td>\n",
       "      <td>1.142857</td>\n",
       "      <td>0</td>\n",
       "      <td>0</td>\n",
       "    </tr>\n",
       "    <tr>\n",
       "      <th>4</th>\n",
       "      <td>2</td>\n",
       "      <td>1.171429</td>\n",
       "      <td>1</td>\n",
       "      <td>0</td>\n",
       "    </tr>\n",
       "    <tr>\n",
       "      <th>...</th>\n",
       "      <td>...</td>\n",
       "      <td>...</td>\n",
       "      <td>...</td>\n",
       "      <td>...</td>\n",
       "    </tr>\n",
       "    <tr>\n",
       "      <th>85</th>\n",
       "      <td>29</td>\n",
       "      <td>1.785714</td>\n",
       "      <td>1</td>\n",
       "      <td>1</td>\n",
       "    </tr>\n",
       "    <tr>\n",
       "      <th>86</th>\n",
       "      <td>29</td>\n",
       "      <td>1.714286</td>\n",
       "      <td>2</td>\n",
       "      <td>1</td>\n",
       "    </tr>\n",
       "    <tr>\n",
       "      <th>87</th>\n",
       "      <td>30</td>\n",
       "      <td>1.271429</td>\n",
       "      <td>0</td>\n",
       "      <td>1</td>\n",
       "    </tr>\n",
       "    <tr>\n",
       "      <th>88</th>\n",
       "      <td>30</td>\n",
       "      <td>1.442857</td>\n",
       "      <td>1</td>\n",
       "      <td>1</td>\n",
       "    </tr>\n",
       "    <tr>\n",
       "      <th>89</th>\n",
       "      <td>30</td>\n",
       "      <td>2.000000</td>\n",
       "      <td>2</td>\n",
       "      <td>1</td>\n",
       "    </tr>\n",
       "  </tbody>\n",
       "</table>\n",
       "<p>90 rows × 4 columns</p>\n",
       "</div>"
      ],
      "text/plain": [
       "    id     pulse  time  kind\n",
       "0    1  1.071429     0     0\n",
       "1    1  1.071429     1     0\n",
       "2    1  1.114286     2     0\n",
       "3    2  1.142857     0     0\n",
       "4    2  1.171429     1     0\n",
       "..  ..       ...   ...   ...\n",
       "85  29  1.785714     1     1\n",
       "86  29  1.714286     2     1\n",
       "87  30  1.271429     0     1\n",
       "88  30  1.442857     1     1\n",
       "89  30  2.000000     2     1\n",
       "\n",
       "[90 rows x 4 columns]"
      ]
     },
     "execution_count": 21,
     "metadata": {},
     "output_type": "execute_result"
    }
   ],
   "source": [
    "x=df.drop('diet',axis=1)\n",
    "x"
   ]
  },
  {
   "cell_type": "code",
   "execution_count": 22,
   "id": "315d70f8",
   "metadata": {
    "execution": {
     "iopub.execute_input": "2023-06-05T16:57:17.116080Z",
     "iopub.status.busy": "2023-06-05T16:57:17.115361Z",
     "iopub.status.idle": "2023-06-05T16:57:17.122954Z",
     "shell.execute_reply": "2023-06-05T16:57:17.122144Z"
    },
    "papermill": {
     "duration": 0.023651,
     "end_time": "2023-06-05T16:57:17.125137",
     "exception": false,
     "start_time": "2023-06-05T16:57:17.101486",
     "status": "completed"
    },
    "tags": []
   },
   "outputs": [
    {
     "data": {
      "text/plain": [
       "0     0\n",
       "1     0\n",
       "2     0\n",
       "3     0\n",
       "4     0\n",
       "     ..\n",
       "85    1\n",
       "86    1\n",
       "87    1\n",
       "88    1\n",
       "89    1\n",
       "Name: diet, Length: 90, dtype: int64"
      ]
     },
     "execution_count": 22,
     "metadata": {},
     "output_type": "execute_result"
    }
   ],
   "source": [
    "y=df['diet']\n",
    "y"
   ]
  },
  {
   "cell_type": "markdown",
   "id": "f44c55b6",
   "metadata": {
    "papermill": {
     "duration": 0.012942,
     "end_time": "2023-06-05T16:57:17.151621",
     "exception": false,
     "start_time": "2023-06-05T16:57:17.138679",
     "status": "completed"
    },
    "tags": []
   },
   "source": [
    "# Splitting x and y"
   ]
  },
  {
   "cell_type": "code",
   "execution_count": 23,
   "id": "9d0ae49b",
   "metadata": {
    "execution": {
     "iopub.execute_input": "2023-06-05T16:57:17.179935Z",
     "iopub.status.busy": "2023-06-05T16:57:17.179007Z",
     "iopub.status.idle": "2023-06-05T16:57:17.287699Z",
     "shell.execute_reply": "2023-06-05T16:57:17.286512Z"
    },
    "papermill": {
     "duration": 0.124897,
     "end_time": "2023-06-05T16:57:17.289823",
     "exception": false,
     "start_time": "2023-06-05T16:57:17.164926",
     "status": "completed"
    },
    "tags": []
   },
   "outputs": [
    {
     "name": "stdout",
     "output_type": "stream",
     "text": [
      "(72, 4) (72,) (18, 4) (18,)\n"
     ]
    }
   ],
   "source": [
    "from sklearn.model_selection import train_test_split\n",
    "xtrain,xtest,ytrain,ytest=train_test_split(x,y,test_size=0.2,random_state=45)\n",
    "print(xtrain.shape,ytrain.shape,xtest.shape,ytest.shape)"
   ]
  },
  {
   "cell_type": "markdown",
   "id": "ff34d5fa",
   "metadata": {
    "papermill": {
     "duration": 0.013104,
     "end_time": "2023-06-05T16:57:17.317664",
     "exception": false,
     "start_time": "2023-06-05T16:57:17.304560",
     "status": "completed"
    },
    "tags": []
   },
   "source": [
    "# Model Selection "
   ]
  },
  {
   "cell_type": "markdown",
   "id": "0bf53a94",
   "metadata": {
    "papermill": {
     "duration": 0.013157,
     "end_time": "2023-06-05T16:57:17.345044",
     "exception": false,
     "start_time": "2023-06-05T16:57:17.331887",
     "status": "completed"
    },
    "tags": []
   },
   "source": [
    "# Support vector classifier"
   ]
  },
  {
   "cell_type": "code",
   "execution_count": 24,
   "id": "b5fde431",
   "metadata": {
    "execution": {
     "iopub.execute_input": "2023-06-05T16:57:17.373383Z",
     "iopub.status.busy": "2023-06-05T16:57:17.372756Z",
     "iopub.status.idle": "2023-06-05T16:57:17.489043Z",
     "shell.execute_reply": "2023-06-05T16:57:17.487730Z"
    },
    "papermill": {
     "duration": 0.133243,
     "end_time": "2023-06-05T16:57:17.491519",
     "exception": false,
     "start_time": "2023-06-05T16:57:17.358276",
     "status": "completed"
    },
    "tags": []
   },
   "outputs": [
    {
     "data": {
      "text/plain": [
       "55.55555555555556"
      ]
     },
     "execution_count": 24,
     "metadata": {},
     "output_type": "execute_result"
    }
   ],
   "source": [
    "from sklearn.svm import SVC\n",
    "mod=SVC()\n",
    "mod.fit(xtrain,ytrain)\n",
    "from sklearn.metrics import accuracy_score\n",
    "p=mod.predict(xtest)\n",
    "accuracy_score(p,ytest)*100"
   ]
  },
  {
   "cell_type": "markdown",
   "id": "f504ea4c",
   "metadata": {
    "papermill": {
     "duration": 0.013634,
     "end_time": "2023-06-05T16:57:17.518620",
     "exception": false,
     "start_time": "2023-06-05T16:57:17.504986",
     "status": "completed"
    },
    "tags": []
   },
   "source": [
    "# K-NN"
   ]
  },
  {
   "cell_type": "code",
   "execution_count": 25,
   "id": "f84c8601",
   "metadata": {
    "execution": {
     "iopub.execute_input": "2023-06-05T16:57:17.547570Z",
     "iopub.status.busy": "2023-06-05T16:57:17.547204Z",
     "iopub.status.idle": "2023-06-05T16:57:17.664838Z",
     "shell.execute_reply": "2023-06-05T16:57:17.663524Z"
    },
    "papermill": {
     "duration": 0.134626,
     "end_time": "2023-06-05T16:57:17.666788",
     "exception": false,
     "start_time": "2023-06-05T16:57:17.532162",
     "status": "completed"
    },
    "tags": []
   },
   "outputs": [
    {
     "data": {
      "text/plain": [
       "100.0"
      ]
     },
     "execution_count": 25,
     "metadata": {},
     "output_type": "execute_result"
    }
   ],
   "source": [
    "from sklearn.neighbors import KNeighborsClassifier\n",
    "mod1=KNeighborsClassifier()\n",
    "mod1.fit(xtrain,ytrain)\n",
    "p=mod1.predict(xtest)\n",
    "accuracy_score(ytest,p)*100"
   ]
  },
  {
   "cell_type": "markdown",
   "id": "aa5b0c2b",
   "metadata": {
    "papermill": {
     "duration": 0.012989,
     "end_time": "2023-06-05T16:57:17.693034",
     "exception": false,
     "start_time": "2023-06-05T16:57:17.680045",
     "status": "completed"
    },
    "tags": []
   },
   "source": [
    "# Navie Bayes"
   ]
  },
  {
   "cell_type": "markdown",
   "id": "cbbb1f7a",
   "metadata": {
    "papermill": {
     "duration": 0.012969,
     "end_time": "2023-06-05T16:57:17.719111",
     "exception": false,
     "start_time": "2023-06-05T16:57:17.706142",
     "status": "completed"
    },
    "tags": []
   },
   "source": [
    "### BernoulliNB"
   ]
  },
  {
   "cell_type": "code",
   "execution_count": 26,
   "id": "c1410dd2",
   "metadata": {
    "execution": {
     "iopub.execute_input": "2023-06-05T16:57:17.747433Z",
     "iopub.status.busy": "2023-06-05T16:57:17.747120Z",
     "iopub.status.idle": "2023-06-05T16:57:17.769153Z",
     "shell.execute_reply": "2023-06-05T16:57:17.768123Z"
    },
    "papermill": {
     "duration": 0.038553,
     "end_time": "2023-06-05T16:57:17.770944",
     "exception": false,
     "start_time": "2023-06-05T16:57:17.732391",
     "status": "completed"
    },
    "tags": []
   },
   "outputs": [
    {
     "data": {
      "text/plain": [
       "38.88888888888889"
      ]
     },
     "execution_count": 26,
     "metadata": {},
     "output_type": "execute_result"
    }
   ],
   "source": [
    "from sklearn.naive_bayes import BernoulliNB\n",
    "mod2=BernoulliNB()\n",
    "mod2.fit(xtrain,ytrain)\n",
    "p=mod2.predict(xtest)\n",
    "accuracy_score(ytest,p)*100"
   ]
  },
  {
   "cell_type": "markdown",
   "id": "9cdf0901",
   "metadata": {
    "papermill": {
     "duration": 0.013234,
     "end_time": "2023-06-05T16:57:17.797638",
     "exception": false,
     "start_time": "2023-06-05T16:57:17.784404",
     "status": "completed"
    },
    "tags": []
   },
   "source": [
    "### MultinomialNB"
   ]
  },
  {
   "cell_type": "code",
   "execution_count": 27,
   "id": "ae9acb8b",
   "metadata": {
    "execution": {
     "iopub.execute_input": "2023-06-05T16:57:17.825308Z",
     "iopub.status.busy": "2023-06-05T16:57:17.825005Z",
     "iopub.status.idle": "2023-06-05T16:57:17.836416Z",
     "shell.execute_reply": "2023-06-05T16:57:17.835524Z"
    },
    "papermill": {
     "duration": 0.027792,
     "end_time": "2023-06-05T16:57:17.838340",
     "exception": false,
     "start_time": "2023-06-05T16:57:17.810548",
     "status": "completed"
    },
    "tags": []
   },
   "outputs": [
    {
     "data": {
      "text/plain": [
       "66.66666666666666"
      ]
     },
     "execution_count": 27,
     "metadata": {},
     "output_type": "execute_result"
    }
   ],
   "source": [
    "from sklearn.naive_bayes import MultinomialNB\n",
    "mod3=MultinomialNB()\n",
    "mod3.fit(xtrain,ytrain)\n",
    "p=mod3.predict(xtest)\n",
    "accuracy_score(ytest,p)*100"
   ]
  },
  {
   "cell_type": "markdown",
   "id": "11353773",
   "metadata": {
    "papermill": {
     "duration": 0.013692,
     "end_time": "2023-06-05T16:57:17.866357",
     "exception": false,
     "start_time": "2023-06-05T16:57:17.852665",
     "status": "completed"
    },
    "tags": []
   },
   "source": [
    "### GaussianNB"
   ]
  },
  {
   "cell_type": "code",
   "execution_count": 28,
   "id": "49f4ae13",
   "metadata": {
    "execution": {
     "iopub.execute_input": "2023-06-05T16:57:17.896360Z",
     "iopub.status.busy": "2023-06-05T16:57:17.896015Z",
     "iopub.status.idle": "2023-06-05T16:57:17.906933Z",
     "shell.execute_reply": "2023-06-05T16:57:17.906275Z"
    },
    "papermill": {
     "duration": 0.027658,
     "end_time": "2023-06-05T16:57:17.908424",
     "exception": false,
     "start_time": "2023-06-05T16:57:17.880766",
     "status": "completed"
    },
    "tags": []
   },
   "outputs": [
    {
     "data": {
      "text/plain": [
       "55.55555555555556"
      ]
     },
     "execution_count": 28,
     "metadata": {},
     "output_type": "execute_result"
    }
   ],
   "source": [
    "from sklearn.naive_bayes import GaussianNB\n",
    "mod4=GaussianNB()\n",
    "mod4.fit(xtrain,ytrain)\n",
    "p=mod4.predict(xtest)\n",
    "accuracy_score(ytest,p)*100\n"
   ]
  },
  {
   "cell_type": "markdown",
   "id": "9fd27d52",
   "metadata": {
    "papermill": {
     "duration": 0.013679,
     "end_time": "2023-06-05T16:57:17.936085",
     "exception": false,
     "start_time": "2023-06-05T16:57:17.922406",
     "status": "completed"
    },
    "tags": []
   },
   "source": [
    "# Final Prediction"
   ]
  },
  {
   "cell_type": "code",
   "execution_count": 29,
   "id": "1b641295",
   "metadata": {
    "execution": {
     "iopub.execute_input": "2023-06-05T16:57:17.965168Z",
     "iopub.status.busy": "2023-06-05T16:57:17.964823Z",
     "iopub.status.idle": "2023-06-05T16:57:17.973200Z",
     "shell.execute_reply": "2023-06-05T16:57:17.971826Z"
    },
    "papermill": {
     "duration": 0.025853,
     "end_time": "2023-06-05T16:57:17.975656",
     "exception": false,
     "start_time": "2023-06-05T16:57:17.949803",
     "status": "completed"
    },
    "tags": []
   },
   "outputs": [
    {
     "name": "stdout",
     "output_type": "stream",
     "text": [
      "no fat\n"
     ]
    }
   ],
   "source": [
    "values=[[29,11.714286,2,1]]\n",
    "prediction=mod1.predict(values)\n",
    "prediction\n",
    "if prediction==0:\n",
    "    print('Low fat')\n",
    "else:\n",
    "    print('no fat')"
   ]
  },
  {
   "cell_type": "code",
   "execution_count": null,
   "id": "9fb9c176",
   "metadata": {
    "papermill": {
     "duration": 0.014535,
     "end_time": "2023-06-05T16:57:18.005421",
     "exception": false,
     "start_time": "2023-06-05T16:57:17.990886",
     "status": "completed"
    },
    "tags": []
   },
   "outputs": [],
   "source": []
  },
  {
   "cell_type": "code",
   "execution_count": null,
   "id": "f2827a9d",
   "metadata": {
    "papermill": {
     "duration": 0.013538,
     "end_time": "2023-06-05T16:57:18.033098",
     "exception": false,
     "start_time": "2023-06-05T16:57:18.019560",
     "status": "completed"
    },
    "tags": []
   },
   "outputs": [],
   "source": []
  }
 ],
 "metadata": {
  "kernelspec": {
   "display_name": "Python 3",
   "language": "python",
   "name": "python3"
  },
  "language_info": {
   "codemirror_mode": {
    "name": "ipython",
    "version": 3
   },
   "file_extension": ".py",
   "mimetype": "text/x-python",
   "name": "python",
   "nbconvert_exporter": "python",
   "pygments_lexer": "ipython3",
   "version": "3.10.10"
  },
  "papermill": {
   "default_parameters": {},
   "duration": 16.286183,
   "end_time": "2023-06-05T16:57:18.967615",
   "environment_variables": {},
   "exception": null,
   "input_path": "__notebook__.ipynb",
   "output_path": "__notebook__.ipynb",
   "parameters": {},
   "start_time": "2023-06-05T16:57:02.681432",
   "version": "2.4.0"
  }
 },
 "nbformat": 4,
 "nbformat_minor": 5
}
