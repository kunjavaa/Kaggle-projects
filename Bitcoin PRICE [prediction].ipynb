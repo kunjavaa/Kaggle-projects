{
 "cells": [
  {
   "cell_type": "markdown",
   "id": "93545d22",
   "metadata": {},
   "source": [
    "# Importing essential libraries"
   ]
  },
  {
   "cell_type": "code",
   "execution_count": 1,
   "id": "1a7634ce",
   "metadata": {},
   "outputs": [
    {
     "data": {
      "text/html": [
       "<div>\n",
       "<style scoped>\n",
       "    .dataframe tbody tr th:only-of-type {\n",
       "        vertical-align: middle;\n",
       "    }\n",
       "\n",
       "    .dataframe tbody tr th {\n",
       "        vertical-align: top;\n",
       "    }\n",
       "\n",
       "    .dataframe thead th {\n",
       "        text-align: right;\n",
       "    }\n",
       "</style>\n",
       "<table border=\"1\" class=\"dataframe\">\n",
       "  <thead>\n",
       "    <tr style=\"text-align: right;\">\n",
       "      <th></th>\n",
       "      <th>Date</th>\n",
       "      <th>Open</th>\n",
       "      <th>High</th>\n",
       "      <th>Low</th>\n",
       "      <th>Close</th>\n",
       "      <th>Adj Close</th>\n",
       "      <th>Volume</th>\n",
       "    </tr>\n",
       "  </thead>\n",
       "  <tbody>\n",
       "    <tr>\n",
       "      <th>0</th>\n",
       "      <td>2020-04-16</td>\n",
       "      <td>6640.454102</td>\n",
       "      <td>7134.450684</td>\n",
       "      <td>6555.504395</td>\n",
       "      <td>7116.804199</td>\n",
       "      <td>7116.804199</td>\n",
       "      <td>4.678324e+10</td>\n",
       "    </tr>\n",
       "    <tr>\n",
       "      <th>1</th>\n",
       "      <td>2020-04-17</td>\n",
       "      <td>NaN</td>\n",
       "      <td>NaN</td>\n",
       "      <td>NaN</td>\n",
       "      <td>NaN</td>\n",
       "      <td>NaN</td>\n",
       "      <td>NaN</td>\n",
       "    </tr>\n",
       "    <tr>\n",
       "      <th>2</th>\n",
       "      <td>2020-04-18</td>\n",
       "      <td>7092.291504</td>\n",
       "      <td>7269.956543</td>\n",
       "      <td>7089.247070</td>\n",
       "      <td>7257.665039</td>\n",
       "      <td>7257.665039</td>\n",
       "      <td>3.244719e+10</td>\n",
       "    </tr>\n",
       "    <tr>\n",
       "      <th>3</th>\n",
       "      <td>2020-04-19</td>\n",
       "      <td>7260.922363</td>\n",
       "      <td>7280.521973</td>\n",
       "      <td>7167.054688</td>\n",
       "      <td>7189.424805</td>\n",
       "      <td>7189.424805</td>\n",
       "      <td>3.131121e+10</td>\n",
       "    </tr>\n",
       "    <tr>\n",
       "      <th>4</th>\n",
       "      <td>2020-04-20</td>\n",
       "      <td>7186.873535</td>\n",
       "      <td>7240.290527</td>\n",
       "      <td>6835.502930</td>\n",
       "      <td>6881.958496</td>\n",
       "      <td>6881.958496</td>\n",
       "      <td>3.774711e+10</td>\n",
       "    </tr>\n",
       "    <tr>\n",
       "      <th>...</th>\n",
       "      <td>...</td>\n",
       "      <td>...</td>\n",
       "      <td>...</td>\n",
       "      <td>...</td>\n",
       "      <td>...</td>\n",
       "      <td>...</td>\n",
       "      <td>...</td>\n",
       "    </tr>\n",
       "    <tr>\n",
       "      <th>361</th>\n",
       "      <td>2021-04-12</td>\n",
       "      <td>60175.945313</td>\n",
       "      <td>61253.035156</td>\n",
       "      <td>59589.875000</td>\n",
       "      <td>59893.453125</td>\n",
       "      <td>59893.453125</td>\n",
       "      <td>5.182869e+10</td>\n",
       "    </tr>\n",
       "    <tr>\n",
       "      <th>362</th>\n",
       "      <td>2021-04-13</td>\n",
       "      <td>59890.019531</td>\n",
       "      <td>63742.285156</td>\n",
       "      <td>59869.957031</td>\n",
       "      <td>63503.457031</td>\n",
       "      <td>63503.457031</td>\n",
       "      <td>6.998345e+10</td>\n",
       "    </tr>\n",
       "    <tr>\n",
       "      <th>363</th>\n",
       "      <td>2021-04-14</td>\n",
       "      <td>63523.753906</td>\n",
       "      <td>64863.097656</td>\n",
       "      <td>61554.796875</td>\n",
       "      <td>63109.695313</td>\n",
       "      <td>63109.695313</td>\n",
       "      <td>7.745178e+10</td>\n",
       "    </tr>\n",
       "    <tr>\n",
       "      <th>364</th>\n",
       "      <td>2021-04-15</td>\n",
       "      <td>63075.195313</td>\n",
       "      <td>63821.671875</td>\n",
       "      <td>62208.964844</td>\n",
       "      <td>63314.011719</td>\n",
       "      <td>63314.011719</td>\n",
       "      <td>6.095438e+10</td>\n",
       "    </tr>\n",
       "    <tr>\n",
       "      <th>365</th>\n",
       "      <td>2021-04-16</td>\n",
       "      <td>63029.523438</td>\n",
       "      <td>63542.328125</td>\n",
       "      <td>60466.355469</td>\n",
       "      <td>60694.136719</td>\n",
       "      <td>60694.136719</td>\n",
       "      <td>7.014153e+10</td>\n",
       "    </tr>\n",
       "  </tbody>\n",
       "</table>\n",
       "<p>366 rows × 7 columns</p>\n",
       "</div>"
      ],
      "text/plain": [
       "           Date          Open          High           Low         Close  \\\n",
       "0    2020-04-16   6640.454102   7134.450684   6555.504395   7116.804199   \n",
       "1    2020-04-17           NaN           NaN           NaN           NaN   \n",
       "2    2020-04-18   7092.291504   7269.956543   7089.247070   7257.665039   \n",
       "3    2020-04-19   7260.922363   7280.521973   7167.054688   7189.424805   \n",
       "4    2020-04-20   7186.873535   7240.290527   6835.502930   6881.958496   \n",
       "..          ...           ...           ...           ...           ...   \n",
       "361  2021-04-12  60175.945313  61253.035156  59589.875000  59893.453125   \n",
       "362  2021-04-13  59890.019531  63742.285156  59869.957031  63503.457031   \n",
       "363  2021-04-14  63523.753906  64863.097656  61554.796875  63109.695313   \n",
       "364  2021-04-15  63075.195313  63821.671875  62208.964844  63314.011719   \n",
       "365  2021-04-16  63029.523438  63542.328125  60466.355469  60694.136719   \n",
       "\n",
       "        Adj Close        Volume  \n",
       "0     7116.804199  4.678324e+10  \n",
       "1             NaN           NaN  \n",
       "2     7257.665039  3.244719e+10  \n",
       "3     7189.424805  3.131121e+10  \n",
       "4     6881.958496  3.774711e+10  \n",
       "..            ...           ...  \n",
       "361  59893.453125  5.182869e+10  \n",
       "362  63503.457031  6.998345e+10  \n",
       "363  63109.695313  7.745178e+10  \n",
       "364  63314.011719  6.095438e+10  \n",
       "365  60694.136719  7.014153e+10  \n",
       "\n",
       "[366 rows x 7 columns]"
      ]
     },
     "execution_count": 1,
     "metadata": {},
     "output_type": "execute_result"
    }
   ],
   "source": [
    "import pandas as pd\n",
    "import numpy as np\n",
    "import matplotlib.pyplot as plt\n",
    "import warnings \n",
    "import seaborn as sns\n",
    "warnings.filterwarnings('ignore')\n",
    "df=pd.read_csv(\"E:\\\\BTC-USD.csv\")\n",
    "df\n"
   ]
  },
  {
   "cell_type": "markdown",
   "id": "66fa0cae",
   "metadata": {},
   "source": [
    "# EDA"
   ]
  },
  {
   "cell_type": "code",
   "execution_count": 2,
   "id": "1be5276c",
   "metadata": {},
   "outputs": [
    {
     "data": {
      "text/plain": [
       "(366, 7)"
      ]
     },
     "execution_count": 2,
     "metadata": {},
     "output_type": "execute_result"
    }
   ],
   "source": [
    "df.shape"
   ]
  },
  {
   "cell_type": "code",
   "execution_count": 3,
   "id": "e9f4897c",
   "metadata": {},
   "outputs": [
    {
     "name": "stdout",
     "output_type": "stream",
     "text": [
      "<class 'pandas.core.frame.DataFrame'>\n",
      "RangeIndex: 366 entries, 0 to 365\n",
      "Data columns (total 7 columns):\n",
      " #   Column     Non-Null Count  Dtype  \n",
      "---  ------     --------------  -----  \n",
      " 0   Date       366 non-null    object \n",
      " 1   Open       362 non-null    float64\n",
      " 2   High       362 non-null    float64\n",
      " 3   Low        362 non-null    float64\n",
      " 4   Close      362 non-null    float64\n",
      " 5   Adj Close  362 non-null    float64\n",
      " 6   Volume     362 non-null    float64\n",
      "dtypes: float64(6), object(1)\n",
      "memory usage: 20.1+ KB\n"
     ]
    }
   ],
   "source": [
    "df.info()"
   ]
  },
  {
   "cell_type": "code",
   "execution_count": 4,
   "id": "92c24ecc",
   "metadata": {},
   "outputs": [
    {
     "data": {
      "text/plain": [
       "2562"
      ]
     },
     "execution_count": 4,
     "metadata": {},
     "output_type": "execute_result"
    }
   ],
   "source": [
    "df.size"
   ]
  },
  {
   "cell_type": "code",
   "execution_count": 5,
   "id": "7eb60b9f",
   "metadata": {},
   "outputs": [
    {
     "data": {
      "text/plain": [
       "Date         0\n",
       "Open         4\n",
       "High         4\n",
       "Low          4\n",
       "Close        4\n",
       "Adj Close    4\n",
       "Volume       4\n",
       "dtype: int64"
      ]
     },
     "execution_count": 5,
     "metadata": {},
     "output_type": "execute_result"
    }
   ],
   "source": [
    "df.isnull().sum()"
   ]
  },
  {
   "cell_type": "code",
   "execution_count": 6,
   "id": "0ef397a1",
   "metadata": {},
   "outputs": [],
   "source": [
    "df['month']=pd.DatetimeIndex(df['Date']).month\n",
    "df['year']=pd.DatetimeIndex(df['Date']).year"
   ]
  },
  {
   "cell_type": "code",
   "execution_count": 7,
   "id": "338d6439",
   "metadata": {},
   "outputs": [
    {
     "data": {
      "text/html": [
       "<div>\n",
       "<style scoped>\n",
       "    .dataframe tbody tr th:only-of-type {\n",
       "        vertical-align: middle;\n",
       "    }\n",
       "\n",
       "    .dataframe tbody tr th {\n",
       "        vertical-align: top;\n",
       "    }\n",
       "\n",
       "    .dataframe thead th {\n",
       "        text-align: right;\n",
       "    }\n",
       "</style>\n",
       "<table border=\"1\" class=\"dataframe\">\n",
       "  <thead>\n",
       "    <tr style=\"text-align: right;\">\n",
       "      <th></th>\n",
       "      <th>Date</th>\n",
       "      <th>Open</th>\n",
       "      <th>High</th>\n",
       "      <th>Low</th>\n",
       "      <th>Close</th>\n",
       "      <th>Adj Close</th>\n",
       "      <th>Volume</th>\n",
       "      <th>month</th>\n",
       "      <th>year</th>\n",
       "    </tr>\n",
       "  </thead>\n",
       "  <tbody>\n",
       "    <tr>\n",
       "      <th>0</th>\n",
       "      <td>2020-04-16</td>\n",
       "      <td>6640.454102</td>\n",
       "      <td>7134.450684</td>\n",
       "      <td>6555.504395</td>\n",
       "      <td>7116.804199</td>\n",
       "      <td>7116.804199</td>\n",
       "      <td>4.678324e+10</td>\n",
       "      <td>4</td>\n",
       "      <td>2020</td>\n",
       "    </tr>\n",
       "    <tr>\n",
       "      <th>1</th>\n",
       "      <td>2020-04-17</td>\n",
       "      <td>NaN</td>\n",
       "      <td>NaN</td>\n",
       "      <td>NaN</td>\n",
       "      <td>NaN</td>\n",
       "      <td>NaN</td>\n",
       "      <td>NaN</td>\n",
       "      <td>4</td>\n",
       "      <td>2020</td>\n",
       "    </tr>\n",
       "    <tr>\n",
       "      <th>2</th>\n",
       "      <td>2020-04-18</td>\n",
       "      <td>7092.291504</td>\n",
       "      <td>7269.956543</td>\n",
       "      <td>7089.247070</td>\n",
       "      <td>7257.665039</td>\n",
       "      <td>7257.665039</td>\n",
       "      <td>3.244719e+10</td>\n",
       "      <td>4</td>\n",
       "      <td>2020</td>\n",
       "    </tr>\n",
       "    <tr>\n",
       "      <th>3</th>\n",
       "      <td>2020-04-19</td>\n",
       "      <td>7260.922363</td>\n",
       "      <td>7280.521973</td>\n",
       "      <td>7167.054688</td>\n",
       "      <td>7189.424805</td>\n",
       "      <td>7189.424805</td>\n",
       "      <td>3.131121e+10</td>\n",
       "      <td>4</td>\n",
       "      <td>2020</td>\n",
       "    </tr>\n",
       "    <tr>\n",
       "      <th>4</th>\n",
       "      <td>2020-04-20</td>\n",
       "      <td>7186.873535</td>\n",
       "      <td>7240.290527</td>\n",
       "      <td>6835.502930</td>\n",
       "      <td>6881.958496</td>\n",
       "      <td>6881.958496</td>\n",
       "      <td>3.774711e+10</td>\n",
       "      <td>4</td>\n",
       "      <td>2020</td>\n",
       "    </tr>\n",
       "    <tr>\n",
       "      <th>...</th>\n",
       "      <td>...</td>\n",
       "      <td>...</td>\n",
       "      <td>...</td>\n",
       "      <td>...</td>\n",
       "      <td>...</td>\n",
       "      <td>...</td>\n",
       "      <td>...</td>\n",
       "      <td>...</td>\n",
       "      <td>...</td>\n",
       "    </tr>\n",
       "    <tr>\n",
       "      <th>361</th>\n",
       "      <td>2021-04-12</td>\n",
       "      <td>60175.945313</td>\n",
       "      <td>61253.035156</td>\n",
       "      <td>59589.875000</td>\n",
       "      <td>59893.453125</td>\n",
       "      <td>59893.453125</td>\n",
       "      <td>5.182869e+10</td>\n",
       "      <td>4</td>\n",
       "      <td>2021</td>\n",
       "    </tr>\n",
       "    <tr>\n",
       "      <th>362</th>\n",
       "      <td>2021-04-13</td>\n",
       "      <td>59890.019531</td>\n",
       "      <td>63742.285156</td>\n",
       "      <td>59869.957031</td>\n",
       "      <td>63503.457031</td>\n",
       "      <td>63503.457031</td>\n",
       "      <td>6.998345e+10</td>\n",
       "      <td>4</td>\n",
       "      <td>2021</td>\n",
       "    </tr>\n",
       "    <tr>\n",
       "      <th>363</th>\n",
       "      <td>2021-04-14</td>\n",
       "      <td>63523.753906</td>\n",
       "      <td>64863.097656</td>\n",
       "      <td>61554.796875</td>\n",
       "      <td>63109.695313</td>\n",
       "      <td>63109.695313</td>\n",
       "      <td>7.745178e+10</td>\n",
       "      <td>4</td>\n",
       "      <td>2021</td>\n",
       "    </tr>\n",
       "    <tr>\n",
       "      <th>364</th>\n",
       "      <td>2021-04-15</td>\n",
       "      <td>63075.195313</td>\n",
       "      <td>63821.671875</td>\n",
       "      <td>62208.964844</td>\n",
       "      <td>63314.011719</td>\n",
       "      <td>63314.011719</td>\n",
       "      <td>6.095438e+10</td>\n",
       "      <td>4</td>\n",
       "      <td>2021</td>\n",
       "    </tr>\n",
       "    <tr>\n",
       "      <th>365</th>\n",
       "      <td>2021-04-16</td>\n",
       "      <td>63029.523438</td>\n",
       "      <td>63542.328125</td>\n",
       "      <td>60466.355469</td>\n",
       "      <td>60694.136719</td>\n",
       "      <td>60694.136719</td>\n",
       "      <td>7.014153e+10</td>\n",
       "      <td>4</td>\n",
       "      <td>2021</td>\n",
       "    </tr>\n",
       "  </tbody>\n",
       "</table>\n",
       "<p>366 rows × 9 columns</p>\n",
       "</div>"
      ],
      "text/plain": [
       "           Date          Open          High           Low         Close  \\\n",
       "0    2020-04-16   6640.454102   7134.450684   6555.504395   7116.804199   \n",
       "1    2020-04-17           NaN           NaN           NaN           NaN   \n",
       "2    2020-04-18   7092.291504   7269.956543   7089.247070   7257.665039   \n",
       "3    2020-04-19   7260.922363   7280.521973   7167.054688   7189.424805   \n",
       "4    2020-04-20   7186.873535   7240.290527   6835.502930   6881.958496   \n",
       "..          ...           ...           ...           ...           ...   \n",
       "361  2021-04-12  60175.945313  61253.035156  59589.875000  59893.453125   \n",
       "362  2021-04-13  59890.019531  63742.285156  59869.957031  63503.457031   \n",
       "363  2021-04-14  63523.753906  64863.097656  61554.796875  63109.695313   \n",
       "364  2021-04-15  63075.195313  63821.671875  62208.964844  63314.011719   \n",
       "365  2021-04-16  63029.523438  63542.328125  60466.355469  60694.136719   \n",
       "\n",
       "        Adj Close        Volume  month  year  \n",
       "0     7116.804199  4.678324e+10      4  2020  \n",
       "1             NaN           NaN      4  2020  \n",
       "2     7257.665039  3.244719e+10      4  2020  \n",
       "3     7189.424805  3.131121e+10      4  2020  \n",
       "4     6881.958496  3.774711e+10      4  2020  \n",
       "..            ...           ...    ...   ...  \n",
       "361  59893.453125  5.182869e+10      4  2021  \n",
       "362  63503.457031  6.998345e+10      4  2021  \n",
       "363  63109.695313  7.745178e+10      4  2021  \n",
       "364  63314.011719  6.095438e+10      4  2021  \n",
       "365  60694.136719  7.014153e+10      4  2021  \n",
       "\n",
       "[366 rows x 9 columns]"
      ]
     },
     "execution_count": 7,
     "metadata": {},
     "output_type": "execute_result"
    }
   ],
   "source": [
    "df"
   ]
  },
  {
   "cell_type": "code",
   "execution_count": 8,
   "id": "95de85c1",
   "metadata": {},
   "outputs": [
    {
     "data": {
      "text/html": [
       "<div>\n",
       "<style scoped>\n",
       "    .dataframe tbody tr th:only-of-type {\n",
       "        vertical-align: middle;\n",
       "    }\n",
       "\n",
       "    .dataframe tbody tr th {\n",
       "        vertical-align: top;\n",
       "    }\n",
       "\n",
       "    .dataframe thead th {\n",
       "        text-align: right;\n",
       "    }\n",
       "</style>\n",
       "<table border=\"1\" class=\"dataframe\">\n",
       "  <thead>\n",
       "    <tr style=\"text-align: right;\">\n",
       "      <th></th>\n",
       "      <th>Open</th>\n",
       "      <th>High</th>\n",
       "      <th>Low</th>\n",
       "      <th>Close</th>\n",
       "      <th>Adj Close</th>\n",
       "      <th>Volume</th>\n",
       "      <th>month</th>\n",
       "      <th>year</th>\n",
       "    </tr>\n",
       "  </thead>\n",
       "  <tbody>\n",
       "    <tr>\n",
       "      <th>0</th>\n",
       "      <td>6640.454102</td>\n",
       "      <td>7134.450684</td>\n",
       "      <td>6555.504395</td>\n",
       "      <td>7116.804199</td>\n",
       "      <td>7116.804199</td>\n",
       "      <td>4.678324e+10</td>\n",
       "      <td>4</td>\n",
       "      <td>2020</td>\n",
       "    </tr>\n",
       "    <tr>\n",
       "      <th>1</th>\n",
       "      <td>NaN</td>\n",
       "      <td>NaN</td>\n",
       "      <td>NaN</td>\n",
       "      <td>NaN</td>\n",
       "      <td>NaN</td>\n",
       "      <td>NaN</td>\n",
       "      <td>4</td>\n",
       "      <td>2020</td>\n",
       "    </tr>\n",
       "    <tr>\n",
       "      <th>2</th>\n",
       "      <td>7092.291504</td>\n",
       "      <td>7269.956543</td>\n",
       "      <td>7089.247070</td>\n",
       "      <td>7257.665039</td>\n",
       "      <td>7257.665039</td>\n",
       "      <td>3.244719e+10</td>\n",
       "      <td>4</td>\n",
       "      <td>2020</td>\n",
       "    </tr>\n",
       "    <tr>\n",
       "      <th>3</th>\n",
       "      <td>7260.922363</td>\n",
       "      <td>7280.521973</td>\n",
       "      <td>7167.054688</td>\n",
       "      <td>7189.424805</td>\n",
       "      <td>7189.424805</td>\n",
       "      <td>3.131121e+10</td>\n",
       "      <td>4</td>\n",
       "      <td>2020</td>\n",
       "    </tr>\n",
       "    <tr>\n",
       "      <th>4</th>\n",
       "      <td>7186.873535</td>\n",
       "      <td>7240.290527</td>\n",
       "      <td>6835.502930</td>\n",
       "      <td>6881.958496</td>\n",
       "      <td>6881.958496</td>\n",
       "      <td>3.774711e+10</td>\n",
       "      <td>4</td>\n",
       "      <td>2020</td>\n",
       "    </tr>\n",
       "    <tr>\n",
       "      <th>...</th>\n",
       "      <td>...</td>\n",
       "      <td>...</td>\n",
       "      <td>...</td>\n",
       "      <td>...</td>\n",
       "      <td>...</td>\n",
       "      <td>...</td>\n",
       "      <td>...</td>\n",
       "      <td>...</td>\n",
       "    </tr>\n",
       "    <tr>\n",
       "      <th>361</th>\n",
       "      <td>60175.945313</td>\n",
       "      <td>61253.035156</td>\n",
       "      <td>59589.875000</td>\n",
       "      <td>59893.453125</td>\n",
       "      <td>59893.453125</td>\n",
       "      <td>5.182869e+10</td>\n",
       "      <td>4</td>\n",
       "      <td>2021</td>\n",
       "    </tr>\n",
       "    <tr>\n",
       "      <th>362</th>\n",
       "      <td>59890.019531</td>\n",
       "      <td>63742.285156</td>\n",
       "      <td>59869.957031</td>\n",
       "      <td>63503.457031</td>\n",
       "      <td>63503.457031</td>\n",
       "      <td>6.998345e+10</td>\n",
       "      <td>4</td>\n",
       "      <td>2021</td>\n",
       "    </tr>\n",
       "    <tr>\n",
       "      <th>363</th>\n",
       "      <td>63523.753906</td>\n",
       "      <td>64863.097656</td>\n",
       "      <td>61554.796875</td>\n",
       "      <td>63109.695313</td>\n",
       "      <td>63109.695313</td>\n",
       "      <td>7.745178e+10</td>\n",
       "      <td>4</td>\n",
       "      <td>2021</td>\n",
       "    </tr>\n",
       "    <tr>\n",
       "      <th>364</th>\n",
       "      <td>63075.195313</td>\n",
       "      <td>63821.671875</td>\n",
       "      <td>62208.964844</td>\n",
       "      <td>63314.011719</td>\n",
       "      <td>63314.011719</td>\n",
       "      <td>6.095438e+10</td>\n",
       "      <td>4</td>\n",
       "      <td>2021</td>\n",
       "    </tr>\n",
       "    <tr>\n",
       "      <th>365</th>\n",
       "      <td>63029.523438</td>\n",
       "      <td>63542.328125</td>\n",
       "      <td>60466.355469</td>\n",
       "      <td>60694.136719</td>\n",
       "      <td>60694.136719</td>\n",
       "      <td>7.014153e+10</td>\n",
       "      <td>4</td>\n",
       "      <td>2021</td>\n",
       "    </tr>\n",
       "  </tbody>\n",
       "</table>\n",
       "<p>366 rows × 8 columns</p>\n",
       "</div>"
      ],
      "text/plain": [
       "             Open          High           Low         Close     Adj Close  \\\n",
       "0     6640.454102   7134.450684   6555.504395   7116.804199   7116.804199   \n",
       "1             NaN           NaN           NaN           NaN           NaN   \n",
       "2     7092.291504   7269.956543   7089.247070   7257.665039   7257.665039   \n",
       "3     7260.922363   7280.521973   7167.054688   7189.424805   7189.424805   \n",
       "4     7186.873535   7240.290527   6835.502930   6881.958496   6881.958496   \n",
       "..            ...           ...           ...           ...           ...   \n",
       "361  60175.945313  61253.035156  59589.875000  59893.453125  59893.453125   \n",
       "362  59890.019531  63742.285156  59869.957031  63503.457031  63503.457031   \n",
       "363  63523.753906  64863.097656  61554.796875  63109.695313  63109.695313   \n",
       "364  63075.195313  63821.671875  62208.964844  63314.011719  63314.011719   \n",
       "365  63029.523438  63542.328125  60466.355469  60694.136719  60694.136719   \n",
       "\n",
       "           Volume  month  year  \n",
       "0    4.678324e+10      4  2020  \n",
       "1             NaN      4  2020  \n",
       "2    3.244719e+10      4  2020  \n",
       "3    3.131121e+10      4  2020  \n",
       "4    3.774711e+10      4  2020  \n",
       "..            ...    ...   ...  \n",
       "361  5.182869e+10      4  2021  \n",
       "362  6.998345e+10      4  2021  \n",
       "363  7.745178e+10      4  2021  \n",
       "364  6.095438e+10      4  2021  \n",
       "365  7.014153e+10      4  2021  \n",
       "\n",
       "[366 rows x 8 columns]"
      ]
     },
     "execution_count": 8,
     "metadata": {},
     "output_type": "execute_result"
    }
   ],
   "source": [
    "data=df.drop('Date',axis=1)\n",
    "data"
   ]
  },
  {
   "cell_type": "code",
   "execution_count": 9,
   "id": "5b06b5d0",
   "metadata": {
    "scrolled": true
   },
   "outputs": [
    {
     "data": {
      "text/plain": [
       "Open         4\n",
       "High         4\n",
       "Low          4\n",
       "Close        4\n",
       "Adj Close    4\n",
       "Volume       4\n",
       "month        0\n",
       "year         0\n",
       "dtype: int64"
      ]
     },
     "execution_count": 9,
     "metadata": {},
     "output_type": "execute_result"
    }
   ],
   "source": [
    "data.isnull().sum()"
   ]
  },
  {
   "cell_type": "markdown",
   "id": "180004c4",
   "metadata": {},
   "source": [
    "# Preprocessing "
   ]
  },
  {
   "cell_type": "code",
   "execution_count": 10,
   "id": "ed671d98",
   "metadata": {},
   "outputs": [],
   "source": [
    "m=data['Open'].mode().values[0]\n",
    "data['Open']=df['Open'].replace(np.nan,m)"
   ]
  },
  {
   "cell_type": "code",
   "execution_count": 11,
   "id": "e87c751f",
   "metadata": {},
   "outputs": [],
   "source": [
    "m=data['High'].mode().values[0]\n",
    "data['High']=df['High'].replace(np.nan,m)"
   ]
  },
  {
   "cell_type": "code",
   "execution_count": 12,
   "id": "4074ec70",
   "metadata": {},
   "outputs": [],
   "source": [
    "m=data['Low'].mode().values[0]\n",
    "data['Low']=df['Low'].replace(np.nan,m)"
   ]
  },
  {
   "cell_type": "code",
   "execution_count": 13,
   "id": "0172f98a",
   "metadata": {},
   "outputs": [],
   "source": [
    "m=data['Close'].mode().values[0]\n",
    "data['Close']=df['Close'].replace(np.nan,m)"
   ]
  },
  {
   "cell_type": "code",
   "execution_count": 14,
   "id": "547ea8c8",
   "metadata": {},
   "outputs": [],
   "source": [
    "m=data['Adj Close'].mode().values[0]\n",
    "data['Adj Close']=df['Adj Close'].replace(np.nan,m)"
   ]
  },
  {
   "cell_type": "code",
   "execution_count": 15,
   "id": "ea763182",
   "metadata": {},
   "outputs": [],
   "source": [
    "m=data['Volume'].mode().values[0]\n",
    "data['Volume']=df['Volume'].replace(np.nan,m)"
   ]
  },
  {
   "cell_type": "code",
   "execution_count": 16,
   "id": "eb5d3491",
   "metadata": {},
   "outputs": [
    {
     "data": {
      "text/plain": [
       "Open         0\n",
       "High         0\n",
       "Low          0\n",
       "Close        0\n",
       "Adj Close    0\n",
       "Volume       0\n",
       "month        0\n",
       "year         0\n",
       "dtype: int64"
      ]
     },
     "execution_count": 16,
     "metadata": {},
     "output_type": "execute_result"
    }
   ],
   "source": [
    "data.isnull().sum()     #All NaN values are removes"
   ]
  },
  {
   "cell_type": "code",
   "execution_count": 17,
   "id": "7c1bd0cf",
   "metadata": {},
   "outputs": [
    {
     "data": {
      "text/html": [
       "<div>\n",
       "<style scoped>\n",
       "    .dataframe tbody tr th:only-of-type {\n",
       "        vertical-align: middle;\n",
       "    }\n",
       "\n",
       "    .dataframe tbody tr th {\n",
       "        vertical-align: top;\n",
       "    }\n",
       "\n",
       "    .dataframe thead th {\n",
       "        text-align: right;\n",
       "    }\n",
       "</style>\n",
       "<table border=\"1\" class=\"dataframe\">\n",
       "  <thead>\n",
       "    <tr style=\"text-align: right;\">\n",
       "      <th></th>\n",
       "      <th>Open</th>\n",
       "      <th>High</th>\n",
       "      <th>Low</th>\n",
       "      <th>Close</th>\n",
       "      <th>Adj Close</th>\n",
       "      <th>Volume</th>\n",
       "      <th>month</th>\n",
       "      <th>year</th>\n",
       "    </tr>\n",
       "  </thead>\n",
       "  <tbody>\n",
       "    <tr>\n",
       "      <th>0</th>\n",
       "      <td>6640.454102</td>\n",
       "      <td>7134.450684</td>\n",
       "      <td>6555.504395</td>\n",
       "      <td>7116.804199</td>\n",
       "      <td>7116.804199</td>\n",
       "      <td>4.678324e+10</td>\n",
       "      <td>4</td>\n",
       "      <td>2020</td>\n",
       "    </tr>\n",
       "    <tr>\n",
       "      <th>1</th>\n",
       "      <td>6640.454102</td>\n",
       "      <td>6934.551758</td>\n",
       "      <td>6555.504395</td>\n",
       "      <td>6880.323242</td>\n",
       "      <td>6880.323242</td>\n",
       "      <td>1.225260e+10</td>\n",
       "      <td>4</td>\n",
       "      <td>2020</td>\n",
       "    </tr>\n",
       "    <tr>\n",
       "      <th>2</th>\n",
       "      <td>7092.291504</td>\n",
       "      <td>7269.956543</td>\n",
       "      <td>7089.247070</td>\n",
       "      <td>7257.665039</td>\n",
       "      <td>7257.665039</td>\n",
       "      <td>3.244719e+10</td>\n",
       "      <td>4</td>\n",
       "      <td>2020</td>\n",
       "    </tr>\n",
       "    <tr>\n",
       "      <th>3</th>\n",
       "      <td>7260.922363</td>\n",
       "      <td>7280.521973</td>\n",
       "      <td>7167.054688</td>\n",
       "      <td>7189.424805</td>\n",
       "      <td>7189.424805</td>\n",
       "      <td>3.131121e+10</td>\n",
       "      <td>4</td>\n",
       "      <td>2020</td>\n",
       "    </tr>\n",
       "    <tr>\n",
       "      <th>4</th>\n",
       "      <td>7186.873535</td>\n",
       "      <td>7240.290527</td>\n",
       "      <td>6835.502930</td>\n",
       "      <td>6881.958496</td>\n",
       "      <td>6881.958496</td>\n",
       "      <td>3.774711e+10</td>\n",
       "      <td>4</td>\n",
       "      <td>2020</td>\n",
       "    </tr>\n",
       "    <tr>\n",
       "      <th>...</th>\n",
       "      <td>...</td>\n",
       "      <td>...</td>\n",
       "      <td>...</td>\n",
       "      <td>...</td>\n",
       "      <td>...</td>\n",
       "      <td>...</td>\n",
       "      <td>...</td>\n",
       "      <td>...</td>\n",
       "    </tr>\n",
       "    <tr>\n",
       "      <th>361</th>\n",
       "      <td>60175.945313</td>\n",
       "      <td>61253.035156</td>\n",
       "      <td>59589.875000</td>\n",
       "      <td>59893.453125</td>\n",
       "      <td>59893.453125</td>\n",
       "      <td>5.182869e+10</td>\n",
       "      <td>4</td>\n",
       "      <td>2021</td>\n",
       "    </tr>\n",
       "    <tr>\n",
       "      <th>362</th>\n",
       "      <td>59890.019531</td>\n",
       "      <td>63742.285156</td>\n",
       "      <td>59869.957031</td>\n",
       "      <td>63503.457031</td>\n",
       "      <td>63503.457031</td>\n",
       "      <td>6.998345e+10</td>\n",
       "      <td>4</td>\n",
       "      <td>2021</td>\n",
       "    </tr>\n",
       "    <tr>\n",
       "      <th>363</th>\n",
       "      <td>63523.753906</td>\n",
       "      <td>64863.097656</td>\n",
       "      <td>61554.796875</td>\n",
       "      <td>63109.695313</td>\n",
       "      <td>63109.695313</td>\n",
       "      <td>7.745178e+10</td>\n",
       "      <td>4</td>\n",
       "      <td>2021</td>\n",
       "    </tr>\n",
       "    <tr>\n",
       "      <th>364</th>\n",
       "      <td>63075.195313</td>\n",
       "      <td>63821.671875</td>\n",
       "      <td>62208.964844</td>\n",
       "      <td>63314.011719</td>\n",
       "      <td>63314.011719</td>\n",
       "      <td>6.095438e+10</td>\n",
       "      <td>4</td>\n",
       "      <td>2021</td>\n",
       "    </tr>\n",
       "    <tr>\n",
       "      <th>365</th>\n",
       "      <td>63029.523438</td>\n",
       "      <td>63542.328125</td>\n",
       "      <td>60466.355469</td>\n",
       "      <td>60694.136719</td>\n",
       "      <td>60694.136719</td>\n",
       "      <td>7.014153e+10</td>\n",
       "      <td>4</td>\n",
       "      <td>2021</td>\n",
       "    </tr>\n",
       "  </tbody>\n",
       "</table>\n",
       "<p>366 rows × 8 columns</p>\n",
       "</div>"
      ],
      "text/plain": [
       "             Open          High           Low         Close     Adj Close  \\\n",
       "0     6640.454102   7134.450684   6555.504395   7116.804199   7116.804199   \n",
       "1     6640.454102   6934.551758   6555.504395   6880.323242   6880.323242   \n",
       "2     7092.291504   7269.956543   7089.247070   7257.665039   7257.665039   \n",
       "3     7260.922363   7280.521973   7167.054688   7189.424805   7189.424805   \n",
       "4     7186.873535   7240.290527   6835.502930   6881.958496   6881.958496   \n",
       "..            ...           ...           ...           ...           ...   \n",
       "361  60175.945313  61253.035156  59589.875000  59893.453125  59893.453125   \n",
       "362  59890.019531  63742.285156  59869.957031  63503.457031  63503.457031   \n",
       "363  63523.753906  64863.097656  61554.796875  63109.695313  63109.695313   \n",
       "364  63075.195313  63821.671875  62208.964844  63314.011719  63314.011719   \n",
       "365  63029.523438  63542.328125  60466.355469  60694.136719  60694.136719   \n",
       "\n",
       "           Volume  month  year  \n",
       "0    4.678324e+10      4  2020  \n",
       "1    1.225260e+10      4  2020  \n",
       "2    3.244719e+10      4  2020  \n",
       "3    3.131121e+10      4  2020  \n",
       "4    3.774711e+10      4  2020  \n",
       "..            ...    ...   ...  \n",
       "361  5.182869e+10      4  2021  \n",
       "362  6.998345e+10      4  2021  \n",
       "363  7.745178e+10      4  2021  \n",
       "364  6.095438e+10      4  2021  \n",
       "365  7.014153e+10      4  2021  \n",
       "\n",
       "[366 rows x 8 columns]"
      ]
     },
     "execution_count": 17,
     "metadata": {},
     "output_type": "execute_result"
    }
   ],
   "source": [
    "data"
   ]
  },
  {
   "cell_type": "markdown",
   "id": "90206972",
   "metadata": {},
   "source": [
    "# Encoding\n"
   ]
  },
  {
   "cell_type": "code",
   "execution_count": 18,
   "id": "1c9c47f3",
   "metadata": {},
   "outputs": [],
   "source": [
    "from sklearn.preprocessing import MinMaxScaler\n",
    "a=MinMaxScaler()\n",
    "b=['Open','High','Low','Adj Close','Volume']\n",
    "for i in b:\n",
    "    data[i]=a.fit_transform(data[[i]])\n",
    "    \n",
    "    "
   ]
  },
  {
   "cell_type": "code",
   "execution_count": 19,
   "id": "858e26ed",
   "metadata": {},
   "outputs": [
    {
     "data": {
      "text/html": [
       "<div>\n",
       "<style scoped>\n",
       "    .dataframe tbody tr th:only-of-type {\n",
       "        vertical-align: middle;\n",
       "    }\n",
       "\n",
       "    .dataframe tbody tr th {\n",
       "        vertical-align: top;\n",
       "    }\n",
       "\n",
       "    .dataframe thead th {\n",
       "        text-align: right;\n",
       "    }\n",
       "</style>\n",
       "<table border=\"1\" class=\"dataframe\">\n",
       "  <thead>\n",
       "    <tr style=\"text-align: right;\">\n",
       "      <th></th>\n",
       "      <th>Open</th>\n",
       "      <th>High</th>\n",
       "      <th>Low</th>\n",
       "      <th>Close</th>\n",
       "      <th>Adj Close</th>\n",
       "      <th>Volume</th>\n",
       "      <th>month</th>\n",
       "      <th>year</th>\n",
       "    </tr>\n",
       "  </thead>\n",
       "  <tbody>\n",
       "    <tr>\n",
       "      <th>0</th>\n",
       "      <td>0.000000</td>\n",
       "      <td>0.003451</td>\n",
       "      <td>0.000000</td>\n",
       "      <td>7116.804199</td>\n",
       "      <td>0.004176</td>\n",
       "      <td>0.101946</td>\n",
       "      <td>4</td>\n",
       "      <td>2020</td>\n",
       "    </tr>\n",
       "    <tr>\n",
       "      <th>1</th>\n",
       "      <td>0.000000</td>\n",
       "      <td>0.000000</td>\n",
       "      <td>0.000000</td>\n",
       "      <td>6880.323242</td>\n",
       "      <td>0.000000</td>\n",
       "      <td>0.000000</td>\n",
       "      <td>4</td>\n",
       "      <td>2020</td>\n",
       "    </tr>\n",
       "    <tr>\n",
       "      <th>2</th>\n",
       "      <td>0.007943</td>\n",
       "      <td>0.005790</td>\n",
       "      <td>0.009590</td>\n",
       "      <td>7257.665039</td>\n",
       "      <td>0.006664</td>\n",
       "      <td>0.059621</td>\n",
       "      <td>4</td>\n",
       "      <td>2020</td>\n",
       "    </tr>\n",
       "    <tr>\n",
       "      <th>3</th>\n",
       "      <td>0.010908</td>\n",
       "      <td>0.005972</td>\n",
       "      <td>0.010989</td>\n",
       "      <td>7189.424805</td>\n",
       "      <td>0.005459</td>\n",
       "      <td>0.056267</td>\n",
       "      <td>4</td>\n",
       "      <td>2020</td>\n",
       "    </tr>\n",
       "    <tr>\n",
       "      <th>4</th>\n",
       "      <td>0.009606</td>\n",
       "      <td>0.005278</td>\n",
       "      <td>0.005031</td>\n",
       "      <td>6881.958496</td>\n",
       "      <td>0.000029</td>\n",
       "      <td>0.075268</td>\n",
       "      <td>4</td>\n",
       "      <td>2020</td>\n",
       "    </tr>\n",
       "    <tr>\n",
       "      <th>...</th>\n",
       "      <td>...</td>\n",
       "      <td>...</td>\n",
       "      <td>...</td>\n",
       "      <td>...</td>\n",
       "      <td>...</td>\n",
       "      <td>...</td>\n",
       "      <td>...</td>\n",
       "      <td>...</td>\n",
       "    </tr>\n",
       "    <tr>\n",
       "      <th>361</th>\n",
       "      <td>0.941146</td>\n",
       "      <td>0.937681</td>\n",
       "      <td>0.952939</td>\n",
       "      <td>59893.453125</td>\n",
       "      <td>0.936245</td>\n",
       "      <td>0.116842</td>\n",
       "      <td>4</td>\n",
       "      <td>2021</td>\n",
       "    </tr>\n",
       "    <tr>\n",
       "      <th>362</th>\n",
       "      <td>0.936119</td>\n",
       "      <td>0.980652</td>\n",
       "      <td>0.957972</td>\n",
       "      <td>63503.457031</td>\n",
       "      <td>1.000000</td>\n",
       "      <td>0.170441</td>\n",
       "      <td>4</td>\n",
       "      <td>2021</td>\n",
       "    </tr>\n",
       "    <tr>\n",
       "      <th>363</th>\n",
       "      <td>1.000000</td>\n",
       "      <td>1.000000</td>\n",
       "      <td>0.988246</td>\n",
       "      <td>63109.695313</td>\n",
       "      <td>0.993046</td>\n",
       "      <td>0.192490</td>\n",
       "      <td>4</td>\n",
       "      <td>2021</td>\n",
       "    </tr>\n",
       "    <tr>\n",
       "      <th>364</th>\n",
       "      <td>0.992114</td>\n",
       "      <td>0.982022</td>\n",
       "      <td>1.000000</td>\n",
       "      <td>63314.011719</td>\n",
       "      <td>0.996654</td>\n",
       "      <td>0.143784</td>\n",
       "      <td>4</td>\n",
       "      <td>2021</td>\n",
       "    </tr>\n",
       "    <tr>\n",
       "      <th>365</th>\n",
       "      <td>0.991312</td>\n",
       "      <td>0.977200</td>\n",
       "      <td>0.968688</td>\n",
       "      <td>60694.136719</td>\n",
       "      <td>0.950386</td>\n",
       "      <td>0.170907</td>\n",
       "      <td>4</td>\n",
       "      <td>2021</td>\n",
       "    </tr>\n",
       "  </tbody>\n",
       "</table>\n",
       "<p>366 rows × 8 columns</p>\n",
       "</div>"
      ],
      "text/plain": [
       "         Open      High       Low         Close  Adj Close    Volume  month  \\\n",
       "0    0.000000  0.003451  0.000000   7116.804199   0.004176  0.101946      4   \n",
       "1    0.000000  0.000000  0.000000   6880.323242   0.000000  0.000000      4   \n",
       "2    0.007943  0.005790  0.009590   7257.665039   0.006664  0.059621      4   \n",
       "3    0.010908  0.005972  0.010989   7189.424805   0.005459  0.056267      4   \n",
       "4    0.009606  0.005278  0.005031   6881.958496   0.000029  0.075268      4   \n",
       "..        ...       ...       ...           ...        ...       ...    ...   \n",
       "361  0.941146  0.937681  0.952939  59893.453125   0.936245  0.116842      4   \n",
       "362  0.936119  0.980652  0.957972  63503.457031   1.000000  0.170441      4   \n",
       "363  1.000000  1.000000  0.988246  63109.695313   0.993046  0.192490      4   \n",
       "364  0.992114  0.982022  1.000000  63314.011719   0.996654  0.143784      4   \n",
       "365  0.991312  0.977200  0.968688  60694.136719   0.950386  0.170907      4   \n",
       "\n",
       "     year  \n",
       "0    2020  \n",
       "1    2020  \n",
       "2    2020  \n",
       "3    2020  \n",
       "4    2020  \n",
       "..    ...  \n",
       "361  2021  \n",
       "362  2021  \n",
       "363  2021  \n",
       "364  2021  \n",
       "365  2021  \n",
       "\n",
       "[366 rows x 8 columns]"
      ]
     },
     "execution_count": 19,
     "metadata": {},
     "output_type": "execute_result"
    }
   ],
   "source": [
    "data"
   ]
  },
  {
   "cell_type": "markdown",
   "id": "b1759a10",
   "metadata": {},
   "source": [
    "# Graphical Representation"
   ]
  },
  {
   "cell_type": "code",
   "execution_count": 20,
   "id": "9d1ead1d",
   "metadata": {},
   "outputs": [
    {
     "data": {
      "text/plain": [
       "<AxesSubplot:xlabel='Close', ylabel='Count'>"
      ]
     },
     "execution_count": 20,
     "metadata": {},
     "output_type": "execute_result"
    },
    {
     "data": {
      "image/png": "[encoded data removed]",
      "text/plain": [
       "<Figure size 432x288 with 1 Axes>"
      ]
     },
     "metadata": {
      "needs_background": "light"
     },
     "output_type": "display_data"
    }
   ],
   "source": [
    "sns.histplot(data=data,x=data['Close'],hue=data['year'],bins=20,color='g',)\n",
    "\n"
   ]
  },
  {
   "cell_type": "code",
   "execution_count": 21,
   "id": "5383a172",
   "metadata": {},
   "outputs": [
    {
     "data": {
      "text/plain": [
       "Text(0, 0.5, 'Months')"
      ]
     },
     "execution_count": 21,
     "metadata": {},
     "output_type": "execute_result"
    },
    {
     "data": {
      "image/png": "[encoded data removed]",
      "text/plain": [
       "<Figure size 432x288 with 1 Axes>"
      ]
     },
     "metadata": {
      "needs_background": "light"
     },
     "output_type": "display_data"
    }
   ],
   "source": [
    "sns.barplot(data['month'],data['Open'],label=\"Total\", color=\"r\")\n",
    "plt.title('Open Value in Months')\n",
    "plt.xlabel('Open values')\n",
    "plt.ylabel('Months')\n"
   ]
  },
  {
   "cell_type": "code",
   "execution_count": 22,
   "id": "05f08044",
   "metadata": {},
   "outputs": [
    {
     "data": {
      "text/plain": [
       "<AxesSubplot:>"
      ]
     },
     "execution_count": 22,
     "metadata": {},
     "output_type": "execute_result"
    },
    {
     "data": {
      "image/png": "[encoded data removed]",
      "text/plain": [
       "<Figure size 432x288 with 2 Axes>"
      ]
     },
     "metadata": {
      "needs_background": "light"
     },
     "output_type": "display_data"
    }
   ],
   "source": [
    "sns.heatmap(data.corr(),annot=True,cmap='PiYG')"
   ]
  },
  {
   "cell_type": "code",
   "execution_count": 23,
   "id": "c5ed1028",
   "metadata": {},
   "outputs": [
    {
     "data": {
      "image/png": "[encoded data removed]",
      "text/plain": [
       "<Figure size 432x288 with 1 Axes>"
      ]
     },
     "metadata": {
      "needs_background": "light"
     },
     "output_type": "display_data"
    }
   ],
   "source": [
    "plt.scatter(data['month'],data['High'],color='b')\n",
    "plt.title('High Values in year 20,21')\n",
    "plt.xlabel('year')\n",
    "plt.ylabel('open value')\n",
    "plt.show()"
   ]
  },
  {
   "cell_type": "markdown",
   "id": "33320d1a",
   "metadata": {},
   "source": [
    "# Splitting x and y"
   ]
  },
  {
   "cell_type": "code",
   "execution_count": 24,
   "id": "e2c4b68f",
   "metadata": {},
   "outputs": [],
   "source": [
    "x=data.drop('Close',axis=1)\n",
    "y=data['Close']\n",
    "\n"
   ]
  },
  {
   "cell_type": "code",
   "execution_count": 25,
   "id": "44de70fa",
   "metadata": {},
   "outputs": [
    {
     "data": {
      "text/html": [
       "<div>\n",
       "<style scoped>\n",
       "    .dataframe tbody tr th:only-of-type {\n",
       "        vertical-align: middle;\n",
       "    }\n",
       "\n",
       "    .dataframe tbody tr th {\n",
       "        vertical-align: top;\n",
       "    }\n",
       "\n",
       "    .dataframe thead th {\n",
       "        text-align: right;\n",
       "    }\n",
       "</style>\n",
       "<table border=\"1\" class=\"dataframe\">\n",
       "  <thead>\n",
       "    <tr style=\"text-align: right;\">\n",
       "      <th></th>\n",
       "      <th>Open</th>\n",
       "      <th>High</th>\n",
       "      <th>Low</th>\n",
       "      <th>Adj Close</th>\n",
       "      <th>Volume</th>\n",
       "      <th>month</th>\n",
       "      <th>year</th>\n",
       "    </tr>\n",
       "  </thead>\n",
       "  <tbody>\n",
       "    <tr>\n",
       "      <th>0</th>\n",
       "      <td>0.000000</td>\n",
       "      <td>0.003451</td>\n",
       "      <td>0.000000</td>\n",
       "      <td>0.004176</td>\n",
       "      <td>0.101946</td>\n",
       "      <td>4</td>\n",
       "      <td>2020</td>\n",
       "    </tr>\n",
       "    <tr>\n",
       "      <th>1</th>\n",
       "      <td>0.000000</td>\n",
       "      <td>0.000000</td>\n",
       "      <td>0.000000</td>\n",
       "      <td>0.000000</td>\n",
       "      <td>0.000000</td>\n",
       "      <td>4</td>\n",
       "      <td>2020</td>\n",
       "    </tr>\n",
       "    <tr>\n",
       "      <th>2</th>\n",
       "      <td>0.007943</td>\n",
       "      <td>0.005790</td>\n",
       "      <td>0.009590</td>\n",
       "      <td>0.006664</td>\n",
       "      <td>0.059621</td>\n",
       "      <td>4</td>\n",
       "      <td>2020</td>\n",
       "    </tr>\n",
       "    <tr>\n",
       "      <th>3</th>\n",
       "      <td>0.010908</td>\n",
       "      <td>0.005972</td>\n",
       "      <td>0.010989</td>\n",
       "      <td>0.005459</td>\n",
       "      <td>0.056267</td>\n",
       "      <td>4</td>\n",
       "      <td>2020</td>\n",
       "    </tr>\n",
       "    <tr>\n",
       "      <th>4</th>\n",
       "      <td>0.009606</td>\n",
       "      <td>0.005278</td>\n",
       "      <td>0.005031</td>\n",
       "      <td>0.000029</td>\n",
       "      <td>0.075268</td>\n",
       "      <td>4</td>\n",
       "      <td>2020</td>\n",
       "    </tr>\n",
       "    <tr>\n",
       "      <th>...</th>\n",
       "      <td>...</td>\n",
       "      <td>...</td>\n",
       "      <td>...</td>\n",
       "      <td>...</td>\n",
       "      <td>...</td>\n",
       "      <td>...</td>\n",
       "      <td>...</td>\n",
       "    </tr>\n",
       "    <tr>\n",
       "      <th>361</th>\n",
       "      <td>0.941146</td>\n",
       "      <td>0.937681</td>\n",
       "      <td>0.952939</td>\n",
       "      <td>0.936245</td>\n",
       "      <td>0.116842</td>\n",
       "      <td>4</td>\n",
       "      <td>2021</td>\n",
       "    </tr>\n",
       "    <tr>\n",
       "      <th>362</th>\n",
       "      <td>0.936119</td>\n",
       "      <td>0.980652</td>\n",
       "      <td>0.957972</td>\n",
       "      <td>1.000000</td>\n",
       "      <td>0.170441</td>\n",
       "      <td>4</td>\n",
       "      <td>2021</td>\n",
       "    </tr>\n",
       "    <tr>\n",
       "      <th>363</th>\n",
       "      <td>1.000000</td>\n",
       "      <td>1.000000</td>\n",
       "      <td>0.988246</td>\n",
       "      <td>0.993046</td>\n",
       "      <td>0.192490</td>\n",
       "      <td>4</td>\n",
       "      <td>2021</td>\n",
       "    </tr>\n",
       "    <tr>\n",
       "      <th>364</th>\n",
       "      <td>0.992114</td>\n",
       "      <td>0.982022</td>\n",
       "      <td>1.000000</td>\n",
       "      <td>0.996654</td>\n",
       "      <td>0.143784</td>\n",
       "      <td>4</td>\n",
       "      <td>2021</td>\n",
       "    </tr>\n",
       "    <tr>\n",
       "      <th>365</th>\n",
       "      <td>0.991312</td>\n",
       "      <td>0.977200</td>\n",
       "      <td>0.968688</td>\n",
       "      <td>0.950386</td>\n",
       "      <td>0.170907</td>\n",
       "      <td>4</td>\n",
       "      <td>2021</td>\n",
       "    </tr>\n",
       "  </tbody>\n",
       "</table>\n",
       "<p>366 rows × 7 columns</p>\n",
       "</div>"
      ],
      "text/plain": [
       "         Open      High       Low  Adj Close    Volume  month  year\n",
       "0    0.000000  0.003451  0.000000   0.004176  0.101946      4  2020\n",
       "1    0.000000  0.000000  0.000000   0.000000  0.000000      4  2020\n",
       "2    0.007943  0.005790  0.009590   0.006664  0.059621      4  2020\n",
       "3    0.010908  0.005972  0.010989   0.005459  0.056267      4  2020\n",
       "4    0.009606  0.005278  0.005031   0.000029  0.075268      4  2020\n",
       "..        ...       ...       ...        ...       ...    ...   ...\n",
       "361  0.941146  0.937681  0.952939   0.936245  0.116842      4  2021\n",
       "362  0.936119  0.980652  0.957972   1.000000  0.170441      4  2021\n",
       "363  1.000000  1.000000  0.988246   0.993046  0.192490      4  2021\n",
       "364  0.992114  0.982022  1.000000   0.996654  0.143784      4  2021\n",
       "365  0.991312  0.977200  0.968688   0.950386  0.170907      4  2021\n",
       "\n",
       "[366 rows x 7 columns]"
      ]
     },
     "execution_count": 25,
     "metadata": {},
     "output_type": "execute_result"
    }
   ],
   "source": [
    "x"
   ]
  },
  {
   "cell_type": "code",
   "execution_count": 26,
   "id": "c46eb25c",
   "metadata": {},
   "outputs": [
    {
     "data": {
      "text/plain": [
       "0       7116.804199\n",
       "1       6880.323242\n",
       "2       7257.665039\n",
       "3       7189.424805\n",
       "4       6881.958496\n",
       "           ...     \n",
       "361    59893.453125\n",
       "362    63503.457031\n",
       "363    63109.695313\n",
       "364    63314.011719\n",
       "365    60694.136719\n",
       "Name: Close, Length: 366, dtype: float64"
      ]
     },
     "execution_count": 26,
     "metadata": {},
     "output_type": "execute_result"
    }
   ],
   "source": [
    "y"
   ]
  },
  {
   "cell_type": "code",
   "execution_count": null,
   "id": "7b95bccf",
   "metadata": {},
   "outputs": [],
   "source": []
  },
  {
   "cell_type": "markdown",
   "id": "252c5680",
   "metadata": {},
   "source": [
    "# Model Selection"
   ]
  },
  {
   "cell_type": "markdown",
   "id": "95cdc9f6",
   "metadata": {},
   "source": [
    "# Linear Regression"
   ]
  },
  {
   "cell_type": "code",
   "execution_count": 27,
   "id": "a82d400b",
   "metadata": {},
   "outputs": [
    {
     "name": "stdout",
     "output_type": "stream",
     "text": [
      "(292, 7) (292,) (74, 7) (74,)\n"
     ]
    }
   ],
   "source": [
    "from sklearn.model_selection import train_test_split\n",
    "xtrain,xtest,ytrain,ytest=train_test_split(x,y,random_state=45,test_size=0.2)\n",
    "print(xtrain.shape,ytrain.shape,xtest.shape,ytest.shape)"
   ]
  },
  {
   "cell_type": "code",
   "execution_count": 28,
   "id": "df07a155",
   "metadata": {},
   "outputs": [
    {
     "data": {
      "text/plain": [
       "100.0"
      ]
     },
     "execution_count": 28,
     "metadata": {},
     "output_type": "execute_result"
    }
   ],
   "source": [
    "from sklearn.linear_model import LinearRegression\n",
    "from sklearn.metrics import r2_score\n",
    "Model=LinearRegression()\n",
    "Model.fit(xtrain,ytrain)\n",
    "p=Model.predict(xtest)\n",
    "q=r2_score(ytest,p)*100\n",
    "q\n"
   ]
  },
  {
   "cell_type": "code",
   "execution_count": 29,
   "id": "c4dc3e71",
   "metadata": {},
   "outputs": [
    {
     "data": {
      "text/plain": [
       "100.0"
      ]
     },
     "execution_count": 29,
     "metadata": {},
     "output_type": "execute_result"
    }
   ],
   "source": [
    "p1=Model.predict(xtrain)                    #Generalized accquarcy\n",
    "q1=r2_score(ytrain,p1)*100\n",
    "q1"
   ]
  },
  {
   "cell_type": "markdown",
   "id": "de990db8",
   "metadata": {},
   "source": [
    "# Decision Tree Regressor"
   ]
  },
  {
   "cell_type": "code",
   "execution_count": 30,
   "id": "5e0dc276",
   "metadata": {},
   "outputs": [
    {
     "data": {
      "text/plain": [
       "99.92133718801647"
      ]
     },
     "execution_count": 30,
     "metadata": {},
     "output_type": "execute_result"
    }
   ],
   "source": [
    "from sklearn.tree import DecisionTreeRegressor\n",
    "Model1=DecisionTreeRegressor()\n",
    "Model1.fit(xtrain,ytrain)\n",
    "p=Model1.predict(xtest)\n",
    "q=r2_score(ytest,p)*100\n",
    "q"
   ]
  },
  {
   "cell_type": "code",
   "execution_count": 31,
   "id": "46938fc7",
   "metadata": {},
   "outputs": [
    {
     "data": {
      "text/plain": [
       "100.0"
      ]
     },
     "execution_count": 31,
     "metadata": {},
     "output_type": "execute_result"
    }
   ],
   "source": [
    "p1=Model1.predict(xtrain)\n",
    "q1=r2_score(ytrain,p1)*100\n",
    "q1"
   ]
  },
  {
   "cell_type": "code",
   "execution_count": 42,
   "id": "09c83e74",
   "metadata": {},
   "outputs": [
    {
     "data": {
      "image/png": "[encoded data removed]",
      "text/plain": [
       "<Figure size 1800x1080 with 1 Axes>"
      ]
     },
     "metadata": {
      "needs_background": "light"
     },
     "output_type": "display_data"
    }
   ],
   "source": [
    "from sklearn import tree\n",
    "plt.figure(figsize=(25,15))\n",
    "tree.plot_tree(Model1,feature_names=x.columns,filled=True,max_depth=3)\n",
    "plt.show()"
   ]
  },
  {
   "cell_type": "markdown",
   "id": "f0823a92",
   "metadata": {},
   "source": [
    "# Random Forest Regressor"
   ]
  },
  {
   "cell_type": "code",
   "execution_count": 33,
   "id": "43135aa4",
   "metadata": {},
   "outputs": [
    {
     "data": {
      "text/plain": [
       "99.97614614903952"
      ]
     },
     "execution_count": 33,
     "metadata": {},
     "output_type": "execute_result"
    }
   ],
   "source": [
    "from sklearn.ensemble import RandomForestRegressor\n",
    "Model2=RandomForestRegressor()\n",
    "Model2.fit(xtrain,ytrain)\n",
    "p=Model2.predict(xtest)\n",
    "q=r2_score(ytest,p)*100\n",
    "q"
   ]
  },
  {
   "cell_type": "code",
   "execution_count": 34,
   "id": "da8ea636",
   "metadata": {},
   "outputs": [
    {
     "data": {
      "text/plain": [
       "99.9934912640078"
      ]
     },
     "execution_count": 34,
     "metadata": {},
     "output_type": "execute_result"
    }
   ],
   "source": [
    "p1=Model2.predict(xtrain)\n",
    "q1=r2_score(ytrain,p1)*100\n",
    "q1"
   ]
  },
  {
   "cell_type": "markdown",
   "id": "96d797b5",
   "metadata": {},
   "source": [
    "#  Final Prediction "
   ]
  },
  {
   "cell_type": "code",
   "execution_count": 46,
   "id": "471bd71b",
   "metadata": {},
   "outputs": [
    {
     "name": "stdout",
     "output_type": "stream",
     "text": [
      "Bitcoin closing price will be 63109.7 INR\n"
     ]
    }
   ],
   "source": [
    "Values=[[1.000000,1.000000,0.988246,0.993046,0.192490,4,2021]]\n",
    "Prediction=Model.predict(Values)\n",
    "print('Bitcoin closing price will be',round(Prediction[0],2),'INR')"
   ]
  }
 ],
 "metadata": {
  "kernelspec": {
   "display_name": "Python 3 (ipykernel)",
   "language": "python",
   "name": "python3"
  },
  "language_info": {
   "codemirror_mode": {
    "name": "ipython",
    "version": 3
   },
   "file_extension": ".py",
   "mimetype": "text/x-python",
   "name": "python",
   "nbconvert_exporter": "python",
   "pygments_lexer": "ipython3",
   "version": "3.9.12"
  }
 },
 "nbformat": 4,
 "nbformat_minor": 5
}
