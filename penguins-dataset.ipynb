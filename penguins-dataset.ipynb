{
 "cells": [
  {
   "cell_type": "markdown",
   "id": "4e6d7535",
   "metadata": {
    "papermill": {
     "duration": 0.012882,
     "end_time": "2023-06-05T17:07:16.807738",
     "exception": false,
     "start_time": "2023-06-05T17:07:16.794856",
     "status": "completed"
    },
    "tags": []
   },
   "source": [
    "# Importing"
   ]
  },
  {
   "cell_type": "code",
   "execution_count": 1,
   "id": "f2080675",
   "metadata": {
    "execution": {
     "iopub.execute_input": "2023-06-05T17:07:16.834271Z",
     "iopub.status.busy": "2023-06-05T17:07:16.833800Z",
     "iopub.status.idle": "2023-06-05T17:07:18.885343Z",
     "shell.execute_reply": "2023-06-05T17:07:18.883964Z"
    },
    "papermill": {
     "duration": 2.067622,
     "end_time": "2023-06-05T17:07:18.887700",
     "exception": false,
     "start_time": "2023-06-05T17:07:16.820078",
     "status": "completed"
    },
    "tags": []
   },
   "outputs": [
    {
     "data": {
      "text/plain": [
       "['anagrams',\n",
       " 'anscombe',\n",
       " 'attention',\n",
       " 'brain_networks',\n",
       " 'car_crashes',\n",
       " 'diamonds',\n",
       " 'dots',\n",
       " 'dowjones',\n",
       " 'exercise',\n",
       " 'flights',\n",
       " 'fmri',\n",
       " 'geyser',\n",
       " 'glue',\n",
       " 'healthexp',\n",
       " 'iris',\n",
       " 'mpg',\n",
       " 'penguins',\n",
       " 'planets',\n",
       " 'seaice',\n",
       " 'taxis',\n",
       " 'tips',\n",
       " 'titanic']"
      ]
     },
     "execution_count": 1,
     "metadata": {},
     "output_type": "execute_result"
    }
   ],
   "source": [
    "import seaborn as sns\n",
    "import warnings \n",
    "warnings.filterwarnings('ignore')\n",
    "import numpy as np\n",
    "\n",
    "sns.get_dataset_names()\n"
   ]
  },
  {
   "cell_type": "code",
   "execution_count": null,
   "id": "46d26256",
   "metadata": {
    "papermill": {
     "duration": 0.013887,
     "end_time": "2023-06-05T17:07:18.915757",
     "exception": false,
     "start_time": "2023-06-05T17:07:18.901870",
     "status": "completed"
    },
    "tags": []
   },
   "outputs": [],
   "source": []
  },
  {
   "cell_type": "code",
   "execution_count": 2,
   "id": "1440e9e7",
   "metadata": {
    "execution": {
     "iopub.execute_input": "2023-06-05T17:07:18.944550Z",
     "iopub.status.busy": "2023-06-05T17:07:18.944143Z",
     "iopub.status.idle": "2023-06-05T17:07:19.547121Z",
     "shell.execute_reply": "2023-06-05T17:07:19.546288Z"
    },
    "papermill": {
     "duration": 0.619464,
     "end_time": "2023-06-05T17:07:19.549112",
     "exception": false,
     "start_time": "2023-06-05T17:07:18.929648",
     "status": "completed"
    },
    "tags": []
   },
   "outputs": [
    {
     "data": {
      "text/html": [
       "<div>\n",
       "<style scoped>\n",
       "    .dataframe tbody tr th:only-of-type {\n",
       "        vertical-align: middle;\n",
       "    }\n",
       "\n",
       "    .dataframe tbody tr th {\n",
       "        vertical-align: top;\n",
       "    }\n",
       "\n",
       "    .dataframe thead th {\n",
       "        text-align: right;\n",
       "    }\n",
       "</style>\n",
       "<table border=\"1\" class=\"dataframe\">\n",
       "  <thead>\n",
       "    <tr style=\"text-align: right;\">\n",
       "      <th></th>\n",
       "      <th>species</th>\n",
       "      <th>island</th>\n",
       "      <th>bill_length_mm</th>\n",
       "      <th>bill_depth_mm</th>\n",
       "      <th>flipper_length_mm</th>\n",
       "      <th>body_mass_g</th>\n",
       "      <th>sex</th>\n",
       "    </tr>\n",
       "  </thead>\n",
       "  <tbody>\n",
       "    <tr>\n",
       "      <th>0</th>\n",
       "      <td>Adelie</td>\n",
       "      <td>Torgersen</td>\n",
       "      <td>39.1</td>\n",
       "      <td>18.7</td>\n",
       "      <td>181.0</td>\n",
       "      <td>3750.0</td>\n",
       "      <td>Male</td>\n",
       "    </tr>\n",
       "    <tr>\n",
       "      <th>1</th>\n",
       "      <td>Adelie</td>\n",
       "      <td>Torgersen</td>\n",
       "      <td>39.5</td>\n",
       "      <td>17.4</td>\n",
       "      <td>186.0</td>\n",
       "      <td>3800.0</td>\n",
       "      <td>Female</td>\n",
       "    </tr>\n",
       "    <tr>\n",
       "      <th>2</th>\n",
       "      <td>Adelie</td>\n",
       "      <td>Torgersen</td>\n",
       "      <td>40.3</td>\n",
       "      <td>18.0</td>\n",
       "      <td>195.0</td>\n",
       "      <td>3250.0</td>\n",
       "      <td>Female</td>\n",
       "    </tr>\n",
       "    <tr>\n",
       "      <th>3</th>\n",
       "      <td>Adelie</td>\n",
       "      <td>Torgersen</td>\n",
       "      <td>NaN</td>\n",
       "      <td>NaN</td>\n",
       "      <td>NaN</td>\n",
       "      <td>NaN</td>\n",
       "      <td>NaN</td>\n",
       "    </tr>\n",
       "    <tr>\n",
       "      <th>4</th>\n",
       "      <td>Adelie</td>\n",
       "      <td>Torgersen</td>\n",
       "      <td>36.7</td>\n",
       "      <td>19.3</td>\n",
       "      <td>193.0</td>\n",
       "      <td>3450.0</td>\n",
       "      <td>Female</td>\n",
       "    </tr>\n",
       "    <tr>\n",
       "      <th>...</th>\n",
       "      <td>...</td>\n",
       "      <td>...</td>\n",
       "      <td>...</td>\n",
       "      <td>...</td>\n",
       "      <td>...</td>\n",
       "      <td>...</td>\n",
       "      <td>...</td>\n",
       "    </tr>\n",
       "    <tr>\n",
       "      <th>339</th>\n",
       "      <td>Gentoo</td>\n",
       "      <td>Biscoe</td>\n",
       "      <td>NaN</td>\n",
       "      <td>NaN</td>\n",
       "      <td>NaN</td>\n",
       "      <td>NaN</td>\n",
       "      <td>NaN</td>\n",
       "    </tr>\n",
       "    <tr>\n",
       "      <th>340</th>\n",
       "      <td>Gentoo</td>\n",
       "      <td>Biscoe</td>\n",
       "      <td>46.8</td>\n",
       "      <td>14.3</td>\n",
       "      <td>215.0</td>\n",
       "      <td>4850.0</td>\n",
       "      <td>Female</td>\n",
       "    </tr>\n",
       "    <tr>\n",
       "      <th>341</th>\n",
       "      <td>Gentoo</td>\n",
       "      <td>Biscoe</td>\n",
       "      <td>50.4</td>\n",
       "      <td>15.7</td>\n",
       "      <td>222.0</td>\n",
       "      <td>5750.0</td>\n",
       "      <td>Male</td>\n",
       "    </tr>\n",
       "    <tr>\n",
       "      <th>342</th>\n",
       "      <td>Gentoo</td>\n",
       "      <td>Biscoe</td>\n",
       "      <td>45.2</td>\n",
       "      <td>14.8</td>\n",
       "      <td>212.0</td>\n",
       "      <td>5200.0</td>\n",
       "      <td>Female</td>\n",
       "    </tr>\n",
       "    <tr>\n",
       "      <th>343</th>\n",
       "      <td>Gentoo</td>\n",
       "      <td>Biscoe</td>\n",
       "      <td>49.9</td>\n",
       "      <td>16.1</td>\n",
       "      <td>213.0</td>\n",
       "      <td>5400.0</td>\n",
       "      <td>Male</td>\n",
       "    </tr>\n",
       "  </tbody>\n",
       "</table>\n",
       "<p>344 rows × 7 columns</p>\n",
       "</div>"
      ],
      "text/plain": [
       "    species     island  bill_length_mm  bill_depth_mm  flipper_length_mm  \\\n",
       "0    Adelie  Torgersen            39.1           18.7              181.0   \n",
       "1    Adelie  Torgersen            39.5           17.4              186.0   \n",
       "2    Adelie  Torgersen            40.3           18.0              195.0   \n",
       "3    Adelie  Torgersen             NaN            NaN                NaN   \n",
       "4    Adelie  Torgersen            36.7           19.3              193.0   \n",
       "..      ...        ...             ...            ...                ...   \n",
       "339  Gentoo     Biscoe             NaN            NaN                NaN   \n",
       "340  Gentoo     Biscoe            46.8           14.3              215.0   \n",
       "341  Gentoo     Biscoe            50.4           15.7              222.0   \n",
       "342  Gentoo     Biscoe            45.2           14.8              212.0   \n",
       "343  Gentoo     Biscoe            49.9           16.1              213.0   \n",
       "\n",
       "     body_mass_g     sex  \n",
       "0         3750.0    Male  \n",
       "1         3800.0  Female  \n",
       "2         3250.0  Female  \n",
       "3            NaN     NaN  \n",
       "4         3450.0  Female  \n",
       "..           ...     ...  \n",
       "339          NaN     NaN  \n",
       "340       4850.0  Female  \n",
       "341       5750.0    Male  \n",
       "342       5200.0  Female  \n",
       "343       5400.0    Male  \n",
       "\n",
       "[344 rows x 7 columns]"
      ]
     },
     "execution_count": 2,
     "metadata": {},
     "output_type": "execute_result"
    }
   ],
   "source": [
    "df=sns.load_dataset('penguins')\n",
    "df"
   ]
  },
  {
   "cell_type": "markdown",
   "id": "7052fd14",
   "metadata": {
    "papermill": {
     "duration": 0.013856,
     "end_time": "2023-06-05T17:07:19.577939",
     "exception": false,
     "start_time": "2023-06-05T17:07:19.564083",
     "status": "completed"
    },
    "tags": []
   },
   "source": [
    "# EDA"
   ]
  },
  {
   "cell_type": "code",
   "execution_count": 3,
   "id": "1e2f394b",
   "metadata": {
    "execution": {
     "iopub.execute_input": "2023-06-05T17:07:19.608456Z",
     "iopub.status.busy": "2023-06-05T17:07:19.607854Z",
     "iopub.status.idle": "2023-06-05T17:07:19.613135Z",
     "shell.execute_reply": "2023-06-05T17:07:19.612084Z"
    },
    "papermill": {
     "duration": 0.024128,
     "end_time": "2023-06-05T17:07:19.616278",
     "exception": false,
     "start_time": "2023-06-05T17:07:19.592150",
     "status": "completed"
    },
    "tags": []
   },
   "outputs": [
    {
     "data": {
      "text/plain": [
       "(344, 7)"
      ]
     },
     "execution_count": 3,
     "metadata": {},
     "output_type": "execute_result"
    }
   ],
   "source": [
    "\n",
    "df.shape"
   ]
  },
  {
   "cell_type": "code",
   "execution_count": 4,
   "id": "dbe4a1df",
   "metadata": {
    "execution": {
     "iopub.execute_input": "2023-06-05T17:07:19.646040Z",
     "iopub.status.busy": "2023-06-05T17:07:19.645648Z",
     "iopub.status.idle": "2023-06-05T17:07:19.654184Z",
     "shell.execute_reply": "2023-06-05T17:07:19.652751Z"
    },
    "papermill": {
     "duration": 0.025573,
     "end_time": "2023-06-05T17:07:19.656618",
     "exception": false,
     "start_time": "2023-06-05T17:07:19.631045",
     "status": "completed"
    },
    "tags": []
   },
   "outputs": [
    {
     "data": {
      "text/plain": [
       "2408"
      ]
     },
     "execution_count": 4,
     "metadata": {},
     "output_type": "execute_result"
    }
   ],
   "source": [
    "df.size"
   ]
  },
  {
   "cell_type": "code",
   "execution_count": 5,
   "id": "ee1cef70",
   "metadata": {
    "execution": {
     "iopub.execute_input": "2023-06-05T17:07:19.684852Z",
     "iopub.status.busy": "2023-06-05T17:07:19.684404Z",
     "iopub.status.idle": "2023-06-05T17:07:19.698486Z",
     "shell.execute_reply": "2023-06-05T17:07:19.697025Z"
    },
    "papermill": {
     "duration": 0.031216,
     "end_time": "2023-06-05T17:07:19.701114",
     "exception": false,
     "start_time": "2023-06-05T17:07:19.669898",
     "status": "completed"
    },
    "tags": []
   },
   "outputs": [
    {
     "data": {
      "text/html": [
       "<div>\n",
       "<style scoped>\n",
       "    .dataframe tbody tr th:only-of-type {\n",
       "        vertical-align: middle;\n",
       "    }\n",
       "\n",
       "    .dataframe tbody tr th {\n",
       "        vertical-align: top;\n",
       "    }\n",
       "\n",
       "    .dataframe thead th {\n",
       "        text-align: right;\n",
       "    }\n",
       "</style>\n",
       "<table border=\"1\" class=\"dataframe\">\n",
       "  <thead>\n",
       "    <tr style=\"text-align: right;\">\n",
       "      <th></th>\n",
       "      <th>species</th>\n",
       "      <th>island</th>\n",
       "      <th>bill_length_mm</th>\n",
       "      <th>bill_depth_mm</th>\n",
       "      <th>flipper_length_mm</th>\n",
       "      <th>body_mass_g</th>\n",
       "      <th>sex</th>\n",
       "    </tr>\n",
       "  </thead>\n",
       "  <tbody>\n",
       "    <tr>\n",
       "      <th>0</th>\n",
       "      <td>Adelie</td>\n",
       "      <td>Torgersen</td>\n",
       "      <td>39.1</td>\n",
       "      <td>18.7</td>\n",
       "      <td>181.0</td>\n",
       "      <td>3750.0</td>\n",
       "      <td>Male</td>\n",
       "    </tr>\n",
       "    <tr>\n",
       "      <th>1</th>\n",
       "      <td>Adelie</td>\n",
       "      <td>Torgersen</td>\n",
       "      <td>39.5</td>\n",
       "      <td>17.4</td>\n",
       "      <td>186.0</td>\n",
       "      <td>3800.0</td>\n",
       "      <td>Female</td>\n",
       "    </tr>\n",
       "    <tr>\n",
       "      <th>2</th>\n",
       "      <td>Adelie</td>\n",
       "      <td>Torgersen</td>\n",
       "      <td>40.3</td>\n",
       "      <td>18.0</td>\n",
       "      <td>195.0</td>\n",
       "      <td>3250.0</td>\n",
       "      <td>Female</td>\n",
       "    </tr>\n",
       "    <tr>\n",
       "      <th>3</th>\n",
       "      <td>Adelie</td>\n",
       "      <td>Torgersen</td>\n",
       "      <td>NaN</td>\n",
       "      <td>NaN</td>\n",
       "      <td>NaN</td>\n",
       "      <td>NaN</td>\n",
       "      <td>NaN</td>\n",
       "    </tr>\n",
       "    <tr>\n",
       "      <th>4</th>\n",
       "      <td>Adelie</td>\n",
       "      <td>Torgersen</td>\n",
       "      <td>36.7</td>\n",
       "      <td>19.3</td>\n",
       "      <td>193.0</td>\n",
       "      <td>3450.0</td>\n",
       "      <td>Female</td>\n",
       "    </tr>\n",
       "  </tbody>\n",
       "</table>\n",
       "</div>"
      ],
      "text/plain": [
       "  species     island  bill_length_mm  bill_depth_mm  flipper_length_mm  \\\n",
       "0  Adelie  Torgersen            39.1           18.7              181.0   \n",
       "1  Adelie  Torgersen            39.5           17.4              186.0   \n",
       "2  Adelie  Torgersen            40.3           18.0              195.0   \n",
       "3  Adelie  Torgersen             NaN            NaN                NaN   \n",
       "4  Adelie  Torgersen            36.7           19.3              193.0   \n",
       "\n",
       "   body_mass_g     sex  \n",
       "0       3750.0    Male  \n",
       "1       3800.0  Female  \n",
       "2       3250.0  Female  \n",
       "3          NaN     NaN  \n",
       "4       3450.0  Female  "
      ]
     },
     "execution_count": 5,
     "metadata": {},
     "output_type": "execute_result"
    }
   ],
   "source": [
    "df.head()"
   ]
  },
  {
   "cell_type": "code",
   "execution_count": 6,
   "id": "df3d1520",
   "metadata": {
    "execution": {
     "iopub.execute_input": "2023-06-05T17:07:19.730127Z",
     "iopub.status.busy": "2023-06-05T17:07:19.729743Z",
     "iopub.status.idle": "2023-06-05T17:07:19.743266Z",
     "shell.execute_reply": "2023-06-05T17:07:19.742249Z"
    },
    "papermill": {
     "duration": 0.030179,
     "end_time": "2023-06-05T17:07:19.744947",
     "exception": false,
     "start_time": "2023-06-05T17:07:19.714768",
     "status": "completed"
    },
    "tags": []
   },
   "outputs": [
    {
     "data": {
      "text/html": [
       "<div>\n",
       "<style scoped>\n",
       "    .dataframe tbody tr th:only-of-type {\n",
       "        vertical-align: middle;\n",
       "    }\n",
       "\n",
       "    .dataframe tbody tr th {\n",
       "        vertical-align: top;\n",
       "    }\n",
       "\n",
       "    .dataframe thead th {\n",
       "        text-align: right;\n",
       "    }\n",
       "</style>\n",
       "<table border=\"1\" class=\"dataframe\">\n",
       "  <thead>\n",
       "    <tr style=\"text-align: right;\">\n",
       "      <th></th>\n",
       "      <th>species</th>\n",
       "      <th>island</th>\n",
       "      <th>bill_length_mm</th>\n",
       "      <th>bill_depth_mm</th>\n",
       "      <th>flipper_length_mm</th>\n",
       "      <th>body_mass_g</th>\n",
       "      <th>sex</th>\n",
       "    </tr>\n",
       "  </thead>\n",
       "  <tbody>\n",
       "    <tr>\n",
       "      <th>339</th>\n",
       "      <td>Gentoo</td>\n",
       "      <td>Biscoe</td>\n",
       "      <td>NaN</td>\n",
       "      <td>NaN</td>\n",
       "      <td>NaN</td>\n",
       "      <td>NaN</td>\n",
       "      <td>NaN</td>\n",
       "    </tr>\n",
       "    <tr>\n",
       "      <th>340</th>\n",
       "      <td>Gentoo</td>\n",
       "      <td>Biscoe</td>\n",
       "      <td>46.8</td>\n",
       "      <td>14.3</td>\n",
       "      <td>215.0</td>\n",
       "      <td>4850.0</td>\n",
       "      <td>Female</td>\n",
       "    </tr>\n",
       "    <tr>\n",
       "      <th>341</th>\n",
       "      <td>Gentoo</td>\n",
       "      <td>Biscoe</td>\n",
       "      <td>50.4</td>\n",
       "      <td>15.7</td>\n",
       "      <td>222.0</td>\n",
       "      <td>5750.0</td>\n",
       "      <td>Male</td>\n",
       "    </tr>\n",
       "    <tr>\n",
       "      <th>342</th>\n",
       "      <td>Gentoo</td>\n",
       "      <td>Biscoe</td>\n",
       "      <td>45.2</td>\n",
       "      <td>14.8</td>\n",
       "      <td>212.0</td>\n",
       "      <td>5200.0</td>\n",
       "      <td>Female</td>\n",
       "    </tr>\n",
       "    <tr>\n",
       "      <th>343</th>\n",
       "      <td>Gentoo</td>\n",
       "      <td>Biscoe</td>\n",
       "      <td>49.9</td>\n",
       "      <td>16.1</td>\n",
       "      <td>213.0</td>\n",
       "      <td>5400.0</td>\n",
       "      <td>Male</td>\n",
       "    </tr>\n",
       "  </tbody>\n",
       "</table>\n",
       "</div>"
      ],
      "text/plain": [
       "    species  island  bill_length_mm  bill_depth_mm  flipper_length_mm  \\\n",
       "339  Gentoo  Biscoe             NaN            NaN                NaN   \n",
       "340  Gentoo  Biscoe            46.8           14.3              215.0   \n",
       "341  Gentoo  Biscoe            50.4           15.7              222.0   \n",
       "342  Gentoo  Biscoe            45.2           14.8              212.0   \n",
       "343  Gentoo  Biscoe            49.9           16.1              213.0   \n",
       "\n",
       "     body_mass_g     sex  \n",
       "339          NaN     NaN  \n",
       "340       4850.0  Female  \n",
       "341       5750.0    Male  \n",
       "342       5200.0  Female  \n",
       "343       5400.0    Male  "
      ]
     },
     "execution_count": 6,
     "metadata": {},
     "output_type": "execute_result"
    }
   ],
   "source": [
    "df.tail()"
   ]
  },
  {
   "cell_type": "markdown",
   "id": "5067b655",
   "metadata": {
    "papermill": {
     "duration": 0.01333,
     "end_time": "2023-06-05T17:07:19.771769",
     "exception": false,
     "start_time": "2023-06-05T17:07:19.758439",
     "status": "completed"
    },
    "tags": []
   },
   "source": [
    "# Preprocessing "
   ]
  },
  {
   "cell_type": "code",
   "execution_count": 7,
   "id": "a8e56f4c",
   "metadata": {
    "execution": {
     "iopub.execute_input": "2023-06-05T17:07:19.800796Z",
     "iopub.status.busy": "2023-06-05T17:07:19.799772Z",
     "iopub.status.idle": "2023-06-05T17:07:19.808225Z",
     "shell.execute_reply": "2023-06-05T17:07:19.807114Z"
    },
    "papermill": {
     "duration": 0.025533,
     "end_time": "2023-06-05T17:07:19.810740",
     "exception": false,
     "start_time": "2023-06-05T17:07:19.785207",
     "status": "completed"
    },
    "tags": []
   },
   "outputs": [
    {
     "data": {
      "text/plain": [
       "species               0\n",
       "island                0\n",
       "bill_length_mm        2\n",
       "bill_depth_mm         2\n",
       "flipper_length_mm     2\n",
       "body_mass_g           2\n",
       "sex                  11\n",
       "dtype: int64"
      ]
     },
     "execution_count": 7,
     "metadata": {},
     "output_type": "execute_result"
    }
   ],
   "source": [
    "df.isnull().sum()"
   ]
  },
  {
   "cell_type": "code",
   "execution_count": 8,
   "id": "40c28532",
   "metadata": {
    "execution": {
     "iopub.execute_input": "2023-06-05T17:07:19.842609Z",
     "iopub.status.busy": "2023-06-05T17:07:19.841090Z",
     "iopub.status.idle": "2023-06-05T17:07:19.848741Z",
     "shell.execute_reply": "2023-06-05T17:07:19.847618Z"
    },
    "papermill": {
     "duration": 0.025641,
     "end_time": "2023-06-05T17:07:19.850808",
     "exception": false,
     "start_time": "2023-06-05T17:07:19.825167",
     "status": "completed"
    },
    "tags": []
   },
   "outputs": [],
   "source": [
    "a=df['bill_length_mm'].mean()\n",
    "df['bill_length_mm']=df['bill_length_mm'].replace(np.nan,a)"
   ]
  },
  {
   "cell_type": "code",
   "execution_count": 9,
   "id": "f2b0efe3",
   "metadata": {
    "execution": {
     "iopub.execute_input": "2023-06-05T17:07:19.880323Z",
     "iopub.status.busy": "2023-06-05T17:07:19.879961Z",
     "iopub.status.idle": "2023-06-05T17:07:19.886078Z",
     "shell.execute_reply": "2023-06-05T17:07:19.884648Z"
    },
    "papermill": {
     "duration": 0.023954,
     "end_time": "2023-06-05T17:07:19.888653",
     "exception": false,
     "start_time": "2023-06-05T17:07:19.864699",
     "status": "completed"
    },
    "tags": []
   },
   "outputs": [],
   "source": [
    "b=df['bill_depth_mm'].mean()\n",
    "df['bill_depth_mm']=df['bill_depth_mm'].replace(np.nan,b)"
   ]
  },
  {
   "cell_type": "code",
   "execution_count": 10,
   "id": "d411a480",
   "metadata": {
    "execution": {
     "iopub.execute_input": "2023-06-05T17:07:19.918116Z",
     "iopub.status.busy": "2023-06-05T17:07:19.917770Z",
     "iopub.status.idle": "2023-06-05T17:07:19.924481Z",
     "shell.execute_reply": "2023-06-05T17:07:19.923152Z"
    },
    "papermill": {
     "duration": 0.024408,
     "end_time": "2023-06-05T17:07:19.926769",
     "exception": false,
     "start_time": "2023-06-05T17:07:19.902361",
     "status": "completed"
    },
    "tags": []
   },
   "outputs": [],
   "source": [
    "c=df['flipper_length_mm'].mean()\n",
    "df['flipper_length_mm']=df['flipper_length_mm'].replace(np.nan,c)"
   ]
  },
  {
   "cell_type": "code",
   "execution_count": 11,
   "id": "4e2c3a00",
   "metadata": {
    "execution": {
     "iopub.execute_input": "2023-06-05T17:07:19.956512Z",
     "iopub.status.busy": "2023-06-05T17:07:19.956184Z",
     "iopub.status.idle": "2023-06-05T17:07:19.961934Z",
     "shell.execute_reply": "2023-06-05T17:07:19.960633Z"
    },
    "papermill": {
     "duration": 0.023593,
     "end_time": "2023-06-05T17:07:19.964471",
     "exception": false,
     "start_time": "2023-06-05T17:07:19.940878",
     "status": "completed"
    },
    "tags": []
   },
   "outputs": [],
   "source": [
    "d=df['body_mass_g'].mean()\n",
    "df['body_mass_g']=df['body_mass_g'].replace(np.nan,d)"
   ]
  },
  {
   "cell_type": "code",
   "execution_count": 12,
   "id": "72d84cfc",
   "metadata": {
    "execution": {
     "iopub.execute_input": "2023-06-05T17:07:19.995176Z",
     "iopub.status.busy": "2023-06-05T17:07:19.994784Z",
     "iopub.status.idle": "2023-06-05T17:07:20.011469Z",
     "shell.execute_reply": "2023-06-05T17:07:20.010114Z"
    },
    "papermill": {
     "duration": 0.035218,
     "end_time": "2023-06-05T17:07:20.013968",
     "exception": false,
     "start_time": "2023-06-05T17:07:19.978750",
     "status": "completed"
    },
    "tags": []
   },
   "outputs": [
    {
     "data": {
      "text/plain": [
       "Male      168\n",
       "Female    165\n",
       "Name: sex, dtype: int64"
      ]
     },
     "execution_count": 12,
     "metadata": {},
     "output_type": "execute_result"
    }
   ],
   "source": [
    "df.sex.value_counts()"
   ]
  },
  {
   "cell_type": "code",
   "execution_count": 13,
   "id": "db4c738d",
   "metadata": {
    "execution": {
     "iopub.execute_input": "2023-06-05T17:07:20.045154Z",
     "iopub.status.busy": "2023-06-05T17:07:20.044787Z",
     "iopub.status.idle": "2023-06-05T17:07:20.050347Z",
     "shell.execute_reply": "2023-06-05T17:07:20.048997Z"
    },
    "papermill": {
     "duration": 0.023755,
     "end_time": "2023-06-05T17:07:20.052483",
     "exception": false,
     "start_time": "2023-06-05T17:07:20.028728",
     "status": "completed"
    },
    "tags": []
   },
   "outputs": [],
   "source": [
    "df['sex'].fillna('no gender',inplace=True)\n"
   ]
  },
  {
   "cell_type": "code",
   "execution_count": 14,
   "id": "bbb7e91c",
   "metadata": {
    "execution": {
     "iopub.execute_input": "2023-06-05T17:07:20.082561Z",
     "iopub.status.busy": "2023-06-05T17:07:20.082212Z",
     "iopub.status.idle": "2023-06-05T17:07:20.089615Z",
     "shell.execute_reply": "2023-06-05T17:07:20.088973Z"
    },
    "papermill": {
     "duration": 0.024775,
     "end_time": "2023-06-05T17:07:20.091400",
     "exception": false,
     "start_time": "2023-06-05T17:07:20.066625",
     "status": "completed"
    },
    "tags": []
   },
   "outputs": [
    {
     "data": {
      "text/plain": [
       "species              0\n",
       "island               0\n",
       "bill_length_mm       0\n",
       "bill_depth_mm        0\n",
       "flipper_length_mm    0\n",
       "body_mass_g          0\n",
       "sex                  0\n",
       "dtype: int64"
      ]
     },
     "execution_count": 14,
     "metadata": {},
     "output_type": "execute_result"
    }
   ],
   "source": [
    "df.isnull().sum()"
   ]
  },
  {
   "cell_type": "code",
   "execution_count": 15,
   "id": "c6a02bfd",
   "metadata": {
    "execution": {
     "iopub.execute_input": "2023-06-05T17:07:20.121742Z",
     "iopub.status.busy": "2023-06-05T17:07:20.121394Z",
     "iopub.status.idle": "2023-06-05T17:07:20.130237Z",
     "shell.execute_reply": "2023-06-05T17:07:20.129243Z"
    },
    "papermill": {
     "duration": 0.02639,
     "end_time": "2023-06-05T17:07:20.131933",
     "exception": false,
     "start_time": "2023-06-05T17:07:20.105543",
     "status": "completed"
    },
    "tags": []
   },
   "outputs": [
    {
     "data": {
      "text/plain": [
       "array(['Adelie', 'Chinstrap', 'Gentoo'], dtype=object)"
      ]
     },
     "execution_count": 15,
     "metadata": {},
     "output_type": "execute_result"
    }
   ],
   "source": [
    "df.species.unique()"
   ]
  },
  {
   "cell_type": "code",
   "execution_count": 16,
   "id": "7fb303da",
   "metadata": {
    "execution": {
     "iopub.execute_input": "2023-06-05T17:07:20.161888Z",
     "iopub.status.busy": "2023-06-05T17:07:20.161513Z",
     "iopub.status.idle": "2023-06-05T17:07:20.348322Z",
     "shell.execute_reply": "2023-06-05T17:07:20.347042Z"
    },
    "papermill": {
     "duration": 0.204833,
     "end_time": "2023-06-05T17:07:20.350712",
     "exception": false,
     "start_time": "2023-06-05T17:07:20.145879",
     "status": "completed"
    },
    "tags": []
   },
   "outputs": [],
   "source": [
    "from sklearn.preprocessing import LabelEncoder\n",
    "a=LabelEncoder()\n",
    "b=['species','island','sex']\n",
    "for i in b:\n",
    "    df[i]=a.fit_transform(df[i])"
   ]
  },
  {
   "cell_type": "markdown",
   "id": "070ddce3",
   "metadata": {
    "papermill": {
     "duration": 0.013859,
     "end_time": "2023-06-05T17:07:20.378867",
     "exception": false,
     "start_time": "2023-06-05T17:07:20.365008",
     "status": "completed"
    },
    "tags": []
   },
   "source": [
    "# Correlation"
   ]
  },
  {
   "cell_type": "code",
   "execution_count": 17,
   "id": "9c865069",
   "metadata": {
    "execution": {
     "iopub.execute_input": "2023-06-05T17:07:20.409902Z",
     "iopub.status.busy": "2023-06-05T17:07:20.409515Z",
     "iopub.status.idle": "2023-06-05T17:07:20.428852Z",
     "shell.execute_reply": "2023-06-05T17:07:20.427428Z"
    },
    "papermill": {
     "duration": 0.038068,
     "end_time": "2023-06-05T17:07:20.431235",
     "exception": false,
     "start_time": "2023-06-05T17:07:20.393167",
     "status": "completed"
    },
    "tags": []
   },
   "outputs": [
    {
     "data": {
      "text/html": [
       "<div>\n",
       "<style scoped>\n",
       "    .dataframe tbody tr th:only-of-type {\n",
       "        vertical-align: middle;\n",
       "    }\n",
       "\n",
       "    .dataframe tbody tr th {\n",
       "        vertical-align: top;\n",
       "    }\n",
       "\n",
       "    .dataframe thead th {\n",
       "        text-align: right;\n",
       "    }\n",
       "</style>\n",
       "<table border=\"1\" class=\"dataframe\">\n",
       "  <thead>\n",
       "    <tr style=\"text-align: right;\">\n",
       "      <th></th>\n",
       "      <th>species</th>\n",
       "      <th>island</th>\n",
       "      <th>bill_length_mm</th>\n",
       "      <th>bill_depth_mm</th>\n",
       "      <th>flipper_length_mm</th>\n",
       "      <th>body_mass_g</th>\n",
       "      <th>sex</th>\n",
       "    </tr>\n",
       "  </thead>\n",
       "  <tbody>\n",
       "    <tr>\n",
       "      <th>species</th>\n",
       "      <td>1.000000</td>\n",
       "      <td>-0.635659</td>\n",
       "      <td>0.728674</td>\n",
       "      <td>-0.741335</td>\n",
       "      <td>0.851160</td>\n",
       "      <td>0.747726</td>\n",
       "      <td>0.008559</td>\n",
       "    </tr>\n",
       "    <tr>\n",
       "      <th>island</th>\n",
       "      <td>-0.635659</td>\n",
       "      <td>1.000000</td>\n",
       "      <td>-0.351461</td>\n",
       "      <td>0.567506</td>\n",
       "      <td>-0.562328</td>\n",
       "      <td>-0.558045</td>\n",
       "      <td>0.029246</td>\n",
       "    </tr>\n",
       "    <tr>\n",
       "      <th>bill_length_mm</th>\n",
       "      <td>0.728674</td>\n",
       "      <td>-0.351461</td>\n",
       "      <td>1.000000</td>\n",
       "      <td>-0.235053</td>\n",
       "      <td>0.656181</td>\n",
       "      <td>0.595110</td>\n",
       "      <td>0.266041</td>\n",
       "    </tr>\n",
       "    <tr>\n",
       "      <th>bill_depth_mm</th>\n",
       "      <td>-0.741335</td>\n",
       "      <td>0.567506</td>\n",
       "      <td>-0.235053</td>\n",
       "      <td>1.000000</td>\n",
       "      <td>-0.583851</td>\n",
       "      <td>-0.471916</td>\n",
       "      <td>0.305265</td>\n",
       "    </tr>\n",
       "    <tr>\n",
       "      <th>flipper_length_mm</th>\n",
       "      <td>0.851160</td>\n",
       "      <td>-0.562328</td>\n",
       "      <td>0.656181</td>\n",
       "      <td>-0.583851</td>\n",
       "      <td>1.000000</td>\n",
       "      <td>0.871202</td>\n",
       "      <td>0.211696</td>\n",
       "    </tr>\n",
       "    <tr>\n",
       "      <th>body_mass_g</th>\n",
       "      <td>0.747726</td>\n",
       "      <td>-0.558045</td>\n",
       "      <td>0.595110</td>\n",
       "      <td>-0.471916</td>\n",
       "      <td>0.871202</td>\n",
       "      <td>1.000000</td>\n",
       "      <td>0.354040</td>\n",
       "    </tr>\n",
       "    <tr>\n",
       "      <th>sex</th>\n",
       "      <td>0.008559</td>\n",
       "      <td>0.029246</td>\n",
       "      <td>0.266041</td>\n",
       "      <td>0.305265</td>\n",
       "      <td>0.211696</td>\n",
       "      <td>0.354040</td>\n",
       "      <td>1.000000</td>\n",
       "    </tr>\n",
       "  </tbody>\n",
       "</table>\n",
       "</div>"
      ],
      "text/plain": [
       "                    species    island  bill_length_mm  bill_depth_mm  \\\n",
       "species            1.000000 -0.635659        0.728674      -0.741335   \n",
       "island            -0.635659  1.000000       -0.351461       0.567506   \n",
       "bill_length_mm     0.728674 -0.351461        1.000000      -0.235053   \n",
       "bill_depth_mm     -0.741335  0.567506       -0.235053       1.000000   \n",
       "flipper_length_mm  0.851160 -0.562328        0.656181      -0.583851   \n",
       "body_mass_g        0.747726 -0.558045        0.595110      -0.471916   \n",
       "sex                0.008559  0.029246        0.266041       0.305265   \n",
       "\n",
       "                   flipper_length_mm  body_mass_g       sex  \n",
       "species                     0.851160     0.747726  0.008559  \n",
       "island                     -0.562328    -0.558045  0.029246  \n",
       "bill_length_mm              0.656181     0.595110  0.266041  \n",
       "bill_depth_mm              -0.583851    -0.471916  0.305265  \n",
       "flipper_length_mm           1.000000     0.871202  0.211696  \n",
       "body_mass_g                 0.871202     1.000000  0.354040  \n",
       "sex                         0.211696     0.354040  1.000000  "
      ]
     },
     "execution_count": 17,
     "metadata": {},
     "output_type": "execute_result"
    }
   ],
   "source": [
    "df.corr()"
   ]
  },
  {
   "cell_type": "code",
   "execution_count": 18,
   "id": "4d3eb73d",
   "metadata": {
    "execution": {
     "iopub.execute_input": "2023-06-05T17:07:20.462576Z",
     "iopub.status.busy": "2023-06-05T17:07:20.462245Z",
     "iopub.status.idle": "2023-06-05T17:07:20.901238Z",
     "shell.execute_reply": "2023-06-05T17:07:20.900330Z"
    },
    "papermill": {
     "duration": 0.457199,
     "end_time": "2023-06-05T17:07:20.903398",
     "exception": false,
     "start_time": "2023-06-05T17:07:20.446199",
     "status": "completed"
    },
    "tags": []
   },
   "outputs": [
    {
     "data": {
      "text/plain": [
       "<Axes: >"
      ]
     },
     "execution_count": 18,
     "metadata": {},
     "output_type": "execute_result"
    },
    {
     "data": {
      "image/png": "[encoded data removed]",
      "text/plain": [
       "<Figure size 640x480 with 2 Axes>"
      ]
     },
     "metadata": {},
     "output_type": "display_data"
    }
   ],
   "source": [
    "sns.heatmap(df.corr(),annot=True,cmap='PiYG')"
   ]
  },
  {
   "cell_type": "markdown",
   "id": "72d95225",
   "metadata": {
    "papermill": {
     "duration": 0.015224,
     "end_time": "2023-06-05T17:07:20.934387",
     "exception": false,
     "start_time": "2023-06-05T17:07:20.919163",
     "status": "completed"
    },
    "tags": []
   },
   "source": [
    "# Dropping columns"
   ]
  },
  {
   "cell_type": "code",
   "execution_count": 19,
   "id": "3de2b508",
   "metadata": {
    "execution": {
     "iopub.execute_input": "2023-06-05T17:07:20.966379Z",
     "iopub.status.busy": "2023-06-05T17:07:20.966040Z",
     "iopub.status.idle": "2023-06-05T17:07:20.980348Z",
     "shell.execute_reply": "2023-06-05T17:07:20.979493Z"
    },
    "papermill": {
     "duration": 0.032748,
     "end_time": "2023-06-05T17:07:20.982109",
     "exception": false,
     "start_time": "2023-06-05T17:07:20.949361",
     "status": "completed"
    },
    "tags": []
   },
   "outputs": [
    {
     "data": {
      "text/html": [
       "<div>\n",
       "<style scoped>\n",
       "    .dataframe tbody tr th:only-of-type {\n",
       "        vertical-align: middle;\n",
       "    }\n",
       "\n",
       "    .dataframe tbody tr th {\n",
       "        vertical-align: top;\n",
       "    }\n",
       "\n",
       "    .dataframe thead th {\n",
       "        text-align: right;\n",
       "    }\n",
       "</style>\n",
       "<table border=\"1\" class=\"dataframe\">\n",
       "  <thead>\n",
       "    <tr style=\"text-align: right;\">\n",
       "      <th></th>\n",
       "      <th>species</th>\n",
       "      <th>island</th>\n",
       "      <th>bill_length_mm</th>\n",
       "      <th>bill_depth_mm</th>\n",
       "      <th>flipper_length_mm</th>\n",
       "      <th>body_mass_g</th>\n",
       "      <th>sex</th>\n",
       "    </tr>\n",
       "  </thead>\n",
       "  <tbody>\n",
       "    <tr>\n",
       "      <th>0</th>\n",
       "      <td>0</td>\n",
       "      <td>2</td>\n",
       "      <td>39.10000</td>\n",
       "      <td>18.70000</td>\n",
       "      <td>181.000000</td>\n",
       "      <td>3750.000000</td>\n",
       "      <td>1</td>\n",
       "    </tr>\n",
       "    <tr>\n",
       "      <th>1</th>\n",
       "      <td>0</td>\n",
       "      <td>2</td>\n",
       "      <td>39.50000</td>\n",
       "      <td>17.40000</td>\n",
       "      <td>186.000000</td>\n",
       "      <td>3800.000000</td>\n",
       "      <td>0</td>\n",
       "    </tr>\n",
       "    <tr>\n",
       "      <th>2</th>\n",
       "      <td>0</td>\n",
       "      <td>2</td>\n",
       "      <td>40.30000</td>\n",
       "      <td>18.00000</td>\n",
       "      <td>195.000000</td>\n",
       "      <td>3250.000000</td>\n",
       "      <td>0</td>\n",
       "    </tr>\n",
       "    <tr>\n",
       "      <th>3</th>\n",
       "      <td>0</td>\n",
       "      <td>2</td>\n",
       "      <td>43.92193</td>\n",
       "      <td>17.15117</td>\n",
       "      <td>200.915205</td>\n",
       "      <td>4201.754386</td>\n",
       "      <td>2</td>\n",
       "    </tr>\n",
       "    <tr>\n",
       "      <th>4</th>\n",
       "      <td>0</td>\n",
       "      <td>2</td>\n",
       "      <td>36.70000</td>\n",
       "      <td>19.30000</td>\n",
       "      <td>193.000000</td>\n",
       "      <td>3450.000000</td>\n",
       "      <td>0</td>\n",
       "    </tr>\n",
       "    <tr>\n",
       "      <th>...</th>\n",
       "      <td>...</td>\n",
       "      <td>...</td>\n",
       "      <td>...</td>\n",
       "      <td>...</td>\n",
       "      <td>...</td>\n",
       "      <td>...</td>\n",
       "      <td>...</td>\n",
       "    </tr>\n",
       "    <tr>\n",
       "      <th>339</th>\n",
       "      <td>2</td>\n",
       "      <td>0</td>\n",
       "      <td>43.92193</td>\n",
       "      <td>17.15117</td>\n",
       "      <td>200.915205</td>\n",
       "      <td>4201.754386</td>\n",
       "      <td>2</td>\n",
       "    </tr>\n",
       "    <tr>\n",
       "      <th>340</th>\n",
       "      <td>2</td>\n",
       "      <td>0</td>\n",
       "      <td>46.80000</td>\n",
       "      <td>14.30000</td>\n",
       "      <td>215.000000</td>\n",
       "      <td>4850.000000</td>\n",
       "      <td>0</td>\n",
       "    </tr>\n",
       "    <tr>\n",
       "      <th>341</th>\n",
       "      <td>2</td>\n",
       "      <td>0</td>\n",
       "      <td>50.40000</td>\n",
       "      <td>15.70000</td>\n",
       "      <td>222.000000</td>\n",
       "      <td>5750.000000</td>\n",
       "      <td>1</td>\n",
       "    </tr>\n",
       "    <tr>\n",
       "      <th>342</th>\n",
       "      <td>2</td>\n",
       "      <td>0</td>\n",
       "      <td>45.20000</td>\n",
       "      <td>14.80000</td>\n",
       "      <td>212.000000</td>\n",
       "      <td>5200.000000</td>\n",
       "      <td>0</td>\n",
       "    </tr>\n",
       "    <tr>\n",
       "      <th>343</th>\n",
       "      <td>2</td>\n",
       "      <td>0</td>\n",
       "      <td>49.90000</td>\n",
       "      <td>16.10000</td>\n",
       "      <td>213.000000</td>\n",
       "      <td>5400.000000</td>\n",
       "      <td>1</td>\n",
       "    </tr>\n",
       "  </tbody>\n",
       "</table>\n",
       "<p>344 rows × 7 columns</p>\n",
       "</div>"
      ],
      "text/plain": [
       "     species  island  bill_length_mm  bill_depth_mm  flipper_length_mm  \\\n",
       "0          0       2        39.10000       18.70000         181.000000   \n",
       "1          0       2        39.50000       17.40000         186.000000   \n",
       "2          0       2        40.30000       18.00000         195.000000   \n",
       "3          0       2        43.92193       17.15117         200.915205   \n",
       "4          0       2        36.70000       19.30000         193.000000   \n",
       "..       ...     ...             ...            ...                ...   \n",
       "339        2       0        43.92193       17.15117         200.915205   \n",
       "340        2       0        46.80000       14.30000         215.000000   \n",
       "341        2       0        50.40000       15.70000         222.000000   \n",
       "342        2       0        45.20000       14.80000         212.000000   \n",
       "343        2       0        49.90000       16.10000         213.000000   \n",
       "\n",
       "     body_mass_g  sex  \n",
       "0    3750.000000    1  \n",
       "1    3800.000000    0  \n",
       "2    3250.000000    0  \n",
       "3    4201.754386    2  \n",
       "4    3450.000000    0  \n",
       "..           ...  ...  \n",
       "339  4201.754386    2  \n",
       "340  4850.000000    0  \n",
       "341  5750.000000    1  \n",
       "342  5200.000000    0  \n",
       "343  5400.000000    1  \n",
       "\n",
       "[344 rows x 7 columns]"
      ]
     },
     "execution_count": 19,
     "metadata": {},
     "output_type": "execute_result"
    }
   ],
   "source": [
    "df"
   ]
  },
  {
   "cell_type": "code",
   "execution_count": 20,
   "id": "15c37571",
   "metadata": {
    "execution": {
     "iopub.execute_input": "2023-06-05T17:07:21.015698Z",
     "iopub.status.busy": "2023-06-05T17:07:21.015347Z",
     "iopub.status.idle": "2023-06-05T17:07:21.037365Z",
     "shell.execute_reply": "2023-06-05T17:07:21.035846Z"
    },
    "papermill": {
     "duration": 0.042265,
     "end_time": "2023-06-05T17:07:21.039752",
     "exception": false,
     "start_time": "2023-06-05T17:07:20.997487",
     "status": "completed"
    },
    "tags": []
   },
   "outputs": [
    {
     "data": {
      "text/html": [
       "<div>\n",
       "<style scoped>\n",
       "    .dataframe tbody tr th:only-of-type {\n",
       "        vertical-align: middle;\n",
       "    }\n",
       "\n",
       "    .dataframe tbody tr th {\n",
       "        vertical-align: top;\n",
       "    }\n",
       "\n",
       "    .dataframe thead th {\n",
       "        text-align: right;\n",
       "    }\n",
       "</style>\n",
       "<table border=\"1\" class=\"dataframe\">\n",
       "  <thead>\n",
       "    <tr style=\"text-align: right;\">\n",
       "      <th></th>\n",
       "      <th>island</th>\n",
       "      <th>bill_length_mm</th>\n",
       "      <th>bill_depth_mm</th>\n",
       "      <th>flipper_length_mm</th>\n",
       "      <th>body_mass_g</th>\n",
       "      <th>sex</th>\n",
       "    </tr>\n",
       "  </thead>\n",
       "  <tbody>\n",
       "    <tr>\n",
       "      <th>0</th>\n",
       "      <td>2</td>\n",
       "      <td>39.10000</td>\n",
       "      <td>18.70000</td>\n",
       "      <td>181.000000</td>\n",
       "      <td>3750.000000</td>\n",
       "      <td>1</td>\n",
       "    </tr>\n",
       "    <tr>\n",
       "      <th>1</th>\n",
       "      <td>2</td>\n",
       "      <td>39.50000</td>\n",
       "      <td>17.40000</td>\n",
       "      <td>186.000000</td>\n",
       "      <td>3800.000000</td>\n",
       "      <td>0</td>\n",
       "    </tr>\n",
       "    <tr>\n",
       "      <th>2</th>\n",
       "      <td>2</td>\n",
       "      <td>40.30000</td>\n",
       "      <td>18.00000</td>\n",
       "      <td>195.000000</td>\n",
       "      <td>3250.000000</td>\n",
       "      <td>0</td>\n",
       "    </tr>\n",
       "    <tr>\n",
       "      <th>3</th>\n",
       "      <td>2</td>\n",
       "      <td>43.92193</td>\n",
       "      <td>17.15117</td>\n",
       "      <td>200.915205</td>\n",
       "      <td>4201.754386</td>\n",
       "      <td>2</td>\n",
       "    </tr>\n",
       "    <tr>\n",
       "      <th>4</th>\n",
       "      <td>2</td>\n",
       "      <td>36.70000</td>\n",
       "      <td>19.30000</td>\n",
       "      <td>193.000000</td>\n",
       "      <td>3450.000000</td>\n",
       "      <td>0</td>\n",
       "    </tr>\n",
       "    <tr>\n",
       "      <th>...</th>\n",
       "      <td>...</td>\n",
       "      <td>...</td>\n",
       "      <td>...</td>\n",
       "      <td>...</td>\n",
       "      <td>...</td>\n",
       "      <td>...</td>\n",
       "    </tr>\n",
       "    <tr>\n",
       "      <th>339</th>\n",
       "      <td>0</td>\n",
       "      <td>43.92193</td>\n",
       "      <td>17.15117</td>\n",
       "      <td>200.915205</td>\n",
       "      <td>4201.754386</td>\n",
       "      <td>2</td>\n",
       "    </tr>\n",
       "    <tr>\n",
       "      <th>340</th>\n",
       "      <td>0</td>\n",
       "      <td>46.80000</td>\n",
       "      <td>14.30000</td>\n",
       "      <td>215.000000</td>\n",
       "      <td>4850.000000</td>\n",
       "      <td>0</td>\n",
       "    </tr>\n",
       "    <tr>\n",
       "      <th>341</th>\n",
       "      <td>0</td>\n",
       "      <td>50.40000</td>\n",
       "      <td>15.70000</td>\n",
       "      <td>222.000000</td>\n",
       "      <td>5750.000000</td>\n",
       "      <td>1</td>\n",
       "    </tr>\n",
       "    <tr>\n",
       "      <th>342</th>\n",
       "      <td>0</td>\n",
       "      <td>45.20000</td>\n",
       "      <td>14.80000</td>\n",
       "      <td>212.000000</td>\n",
       "      <td>5200.000000</td>\n",
       "      <td>0</td>\n",
       "    </tr>\n",
       "    <tr>\n",
       "      <th>343</th>\n",
       "      <td>0</td>\n",
       "      <td>49.90000</td>\n",
       "      <td>16.10000</td>\n",
       "      <td>213.000000</td>\n",
       "      <td>5400.000000</td>\n",
       "      <td>1</td>\n",
       "    </tr>\n",
       "  </tbody>\n",
       "</table>\n",
       "<p>344 rows × 6 columns</p>\n",
       "</div>"
      ],
      "text/plain": [
       "     island  bill_length_mm  bill_depth_mm  flipper_length_mm  body_mass_g  \\\n",
       "0         2        39.10000       18.70000         181.000000  3750.000000   \n",
       "1         2        39.50000       17.40000         186.000000  3800.000000   \n",
       "2         2        40.30000       18.00000         195.000000  3250.000000   \n",
       "3         2        43.92193       17.15117         200.915205  4201.754386   \n",
       "4         2        36.70000       19.30000         193.000000  3450.000000   \n",
       "..      ...             ...            ...                ...          ...   \n",
       "339       0        43.92193       17.15117         200.915205  4201.754386   \n",
       "340       0        46.80000       14.30000         215.000000  4850.000000   \n",
       "341       0        50.40000       15.70000         222.000000  5750.000000   \n",
       "342       0        45.20000       14.80000         212.000000  5200.000000   \n",
       "343       0        49.90000       16.10000         213.000000  5400.000000   \n",
       "\n",
       "     sex  \n",
       "0      1  \n",
       "1      0  \n",
       "2      0  \n",
       "3      2  \n",
       "4      0  \n",
       "..   ...  \n",
       "339    2  \n",
       "340    0  \n",
       "341    1  \n",
       "342    0  \n",
       "343    1  \n",
       "\n",
       "[344 rows x 6 columns]"
      ]
     },
     "execution_count": 20,
     "metadata": {},
     "output_type": "execute_result"
    }
   ],
   "source": [
    "x=df.drop('species',axis=1)\n",
    "x"
   ]
  },
  {
   "cell_type": "code",
   "execution_count": 21,
   "id": "b5740d2b",
   "metadata": {
    "execution": {
     "iopub.execute_input": "2023-06-05T17:07:21.073964Z",
     "iopub.status.busy": "2023-06-05T17:07:21.073560Z",
     "iopub.status.idle": "2023-06-05T17:07:21.082488Z",
     "shell.execute_reply": "2023-06-05T17:07:21.081551Z"
    },
    "papermill": {
     "duration": 0.028195,
     "end_time": "2023-06-05T17:07:21.084272",
     "exception": false,
     "start_time": "2023-06-05T17:07:21.056077",
     "status": "completed"
    },
    "tags": []
   },
   "outputs": [
    {
     "data": {
      "text/plain": [
       "0      0\n",
       "1      0\n",
       "2      0\n",
       "3      0\n",
       "4      0\n",
       "      ..\n",
       "339    2\n",
       "340    2\n",
       "341    2\n",
       "342    2\n",
       "343    2\n",
       "Name: species, Length: 344, dtype: int64"
      ]
     },
     "execution_count": 21,
     "metadata": {},
     "output_type": "execute_result"
    }
   ],
   "source": [
    "y=df['species']\n",
    "y"
   ]
  },
  {
   "cell_type": "markdown",
   "id": "7ca55cdf",
   "metadata": {
    "papermill": {
     "duration": 0.016168,
     "end_time": "2023-06-05T17:07:21.116997",
     "exception": false,
     "start_time": "2023-06-05T17:07:21.100829",
     "status": "completed"
    },
    "tags": []
   },
   "source": [
    "# Logistic Regression"
   ]
  },
  {
   "cell_type": "code",
   "execution_count": 22,
   "id": "fce173fc",
   "metadata": {
    "execution": {
     "iopub.execute_input": "2023-06-05T17:07:21.151424Z",
     "iopub.status.busy": "2023-06-05T17:07:21.151044Z",
     "iopub.status.idle": "2023-06-05T17:07:21.284335Z",
     "shell.execute_reply": "2023-06-05T17:07:21.282910Z"
    },
    "papermill": {
     "duration": 0.153289,
     "end_time": "2023-06-05T17:07:21.286763",
     "exception": false,
     "start_time": "2023-06-05T17:07:21.133474",
     "status": "completed"
    },
    "tags": []
   },
   "outputs": [],
   "source": [
    "from sklearn.model_selection import train_test_split\n"
   ]
  },
  {
   "cell_type": "code",
   "execution_count": 23,
   "id": "49566f4f",
   "metadata": {
    "execution": {
     "iopub.execute_input": "2023-06-05T17:07:21.320746Z",
     "iopub.status.busy": "2023-06-05T17:07:21.320366Z",
     "iopub.status.idle": "2023-06-05T17:07:21.327992Z",
     "shell.execute_reply": "2023-06-05T17:07:21.326907Z"
    },
    "papermill": {
     "duration": 0.027059,
     "end_time": "2023-06-05T17:07:21.329739",
     "exception": false,
     "start_time": "2023-06-05T17:07:21.302680",
     "status": "completed"
    },
    "tags": []
   },
   "outputs": [],
   "source": [
    "xtrain,xtest,ytrain,ytest=train_test_split(x,y,test_size=0.2,random_state=42)\n"
   ]
  },
  {
   "cell_type": "code",
   "execution_count": 24,
   "id": "62bf7cac",
   "metadata": {
    "execution": {
     "iopub.execute_input": "2023-06-05T17:07:21.364065Z",
     "iopub.status.busy": "2023-06-05T17:07:21.362851Z",
     "iopub.status.idle": "2023-06-05T17:07:21.369063Z",
     "shell.execute_reply": "2023-06-05T17:07:21.367793Z"
    },
    "papermill": {
     "duration": 0.025184,
     "end_time": "2023-06-05T17:07:21.370942",
     "exception": false,
     "start_time": "2023-06-05T17:07:21.345758",
     "status": "completed"
    },
    "tags": []
   },
   "outputs": [
    {
     "name": "stdout",
     "output_type": "stream",
     "text": [
      "(275, 6) (275,) (69, 6) (69,)\n"
     ]
    }
   ],
   "source": [
    "print(xtrain.shape,ytrain.shape,xtest.shape,ytest.shape)"
   ]
  },
  {
   "cell_type": "code",
   "execution_count": 25,
   "id": "25fe26d9",
   "metadata": {
    "execution": {
     "iopub.execute_input": "2023-06-05T17:07:21.405106Z",
     "iopub.status.busy": "2023-06-05T17:07:21.404748Z",
     "iopub.status.idle": "2023-06-05T17:07:21.553502Z",
     "shell.execute_reply": "2023-06-05T17:07:21.552120Z"
    },
    "papermill": {
     "duration": 0.169517,
     "end_time": "2023-06-05T17:07:21.556724",
     "exception": false,
     "start_time": "2023-06-05T17:07:21.387207",
     "status": "completed"
    },
    "tags": []
   },
   "outputs": [
    {
     "data": {
      "text/html": [
       "<style>#sk-container-id-1 {color: black;background-color: white;}#sk-container-id-1 pre{padding: 0;}#sk-container-id-1 div.sk-toggleable {background-color: white;}#sk-container-id-1 label.sk-toggleable__label {cursor: pointer;display: block;width: 100%;margin-bottom: 0;padding: 0.3em;box-sizing: border-box;text-align: center;}#sk-container-id-1 label.sk-toggleable__label-arrow:before {content: \"▸\";float: left;margin-right: 0.25em;color: #696969;}#sk-container-id-1 label.sk-toggleable__label-arrow:hover:before {color: black;}#sk-container-id-1 div.sk-estimator:hover label.sk-toggleable__label-arrow:before {color: black;}#sk-container-id-1 div.sk-toggleable__content {max-height: 0;max-width: 0;overflow: hidden;text-align: left;background-color: #f0f8ff;}#sk-container-id-1 div.sk-toggleable__content pre {margin: 0.2em;color: black;border-radius: 0.25em;background-color: #f0f8ff;}#sk-container-id-1 input.sk-toggleable__control:checked~div.sk-toggleable__content {max-height: 200px;max-width: 100%;overflow: auto;}#sk-container-id-1 input.sk-toggleable__control:checked~label.sk-toggleable__label-arrow:before {content: \"▾\";}#sk-container-id-1 div.sk-estimator input.sk-toggleable__control:checked~label.sk-toggleable__label {background-color: #d4ebff;}#sk-container-id-1 div.sk-label input.sk-toggleable__control:checked~label.sk-toggleable__label {background-color: #d4ebff;}#sk-container-id-1 input.sk-hidden--visually {border: 0;clip: rect(1px 1px 1px 1px);clip: rect(1px, 1px, 1px, 1px);height: 1px;margin: -1px;overflow: hidden;padding: 0;position: absolute;width: 1px;}#sk-container-id-1 div.sk-estimator {font-family: monospace;background-color: #f0f8ff;border: 1px dotted black;border-radius: 0.25em;box-sizing: border-box;margin-bottom: 0.5em;}#sk-container-id-1 div.sk-estimator:hover {background-color: #d4ebff;}#sk-container-id-1 div.sk-parallel-item::after {content: \"\";width: 100%;border-bottom: 1px solid gray;flex-grow: 1;}#sk-container-id-1 div.sk-label:hover label.sk-toggleable__label {background-color: #d4ebff;}#sk-container-id-1 div.sk-serial::before {content: \"\";position: absolute;border-left: 1px solid gray;box-sizing: border-box;top: 0;bottom: 0;left: 50%;z-index: 0;}#sk-container-id-1 div.sk-serial {display: flex;flex-direction: column;align-items: center;background-color: white;padding-right: 0.2em;padding-left: 0.2em;position: relative;}#sk-container-id-1 div.sk-item {position: relative;z-index: 1;}#sk-container-id-1 div.sk-parallel {display: flex;align-items: stretch;justify-content: center;background-color: white;position: relative;}#sk-container-id-1 div.sk-item::before, #sk-container-id-1 div.sk-parallel-item::before {content: \"\";position: absolute;border-left: 1px solid gray;box-sizing: border-box;top: 0;bottom: 0;left: 50%;z-index: -1;}#sk-container-id-1 div.sk-parallel-item {display: flex;flex-direction: column;z-index: 1;position: relative;background-color: white;}#sk-container-id-1 div.sk-parallel-item:first-child::after {align-self: flex-end;width: 50%;}#sk-container-id-1 div.sk-parallel-item:last-child::after {align-self: flex-start;width: 50%;}#sk-container-id-1 div.sk-parallel-item:only-child::after {width: 0;}#sk-container-id-1 div.sk-dashed-wrapped {border: 1px dashed gray;margin: 0 0.4em 0.5em 0.4em;box-sizing: border-box;padding-bottom: 0.4em;background-color: white;}#sk-container-id-1 div.sk-label label {font-family: monospace;font-weight: bold;display: inline-block;line-height: 1.2em;}#sk-container-id-1 div.sk-label-container {text-align: center;}#sk-container-id-1 div.sk-container {/* jupyter's `normalize.less` sets `[hidden] { display: none; }` but bootstrap.min.css set `[hidden] { display: none !important; }` so we also need the `!important` here to be able to override the default hidden behavior on the sphinx rendered scikit-learn.org. See: https://github.com/scikit-learn/scikit-learn/issues/21755 */display: inline-block !important;position: relative;}#sk-container-id-1 div.sk-text-repr-fallback {display: none;}</style><div id=\"sk-container-id-1\" class=\"sk-top-container\"><div class=\"sk-text-repr-fallback\"><pre>LogisticRegression()</pre><b>In a Jupyter environment, please rerun this cell to show the HTML representation or trust the notebook. <br />On GitHub, the HTML representation is unable to render, please try loading this page with nbviewer.org.</b></div><div class=\"sk-container\" hidden><div class=\"sk-item\"><div class=\"sk-estimator sk-toggleable\"><input class=\"sk-toggleable__control sk-hidden--visually\" id=\"sk-estimator-id-1\" type=\"checkbox\" checked><label for=\"sk-estimator-id-1\" class=\"sk-toggleable__label sk-toggleable__label-arrow\">LogisticRegression</label><div class=\"sk-toggleable__content\"><pre>LogisticRegression()</pre></div></div></div></div></div>"
      ],
      "text/plain": [
       "LogisticRegression()"
      ]
     },
     "execution_count": 25,
     "metadata": {},
     "output_type": "execute_result"
    }
   ],
   "source": [
    "from sklearn.linear_model import LogisticRegression\n",
    "model=LogisticRegression()\n",
    "model.fit(xtrain,ytrain)"
   ]
  },
  {
   "cell_type": "code",
   "execution_count": 26,
   "id": "b8eec336",
   "metadata": {
    "execution": {
     "iopub.execute_input": "2023-06-05T17:07:21.592849Z",
     "iopub.status.busy": "2023-06-05T17:07:21.592457Z",
     "iopub.status.idle": "2023-06-05T17:07:21.602980Z",
     "shell.execute_reply": "2023-06-05T17:07:21.601390Z"
    },
    "papermill": {
     "duration": 0.031555,
     "end_time": "2023-06-05T17:07:21.605618",
     "exception": false,
     "start_time": "2023-06-05T17:07:21.574063",
     "status": "completed"
    },
    "tags": []
   },
   "outputs": [
    {
     "data": {
      "text/plain": [
       "array([1, 0, 2, 1, 2, 2, 2, 2, 0, 2, 2, 0, 0, 0, 2, 0, 0, 2, 2, 0, 0, 0,\n",
       "       2, 0, 1, 1, 0, 1, 0, 1, 0, 0, 1, 0, 0, 0, 2, 1, 0, 1, 2, 2, 2, 0,\n",
       "       0, 0, 2, 0, 0, 1, 0, 2, 2, 0, 0, 1, 0, 1, 1, 2, 1, 0, 2, 0, 2, 1,\n",
       "       0, 0, 0])"
      ]
     },
     "execution_count": 26,
     "metadata": {},
     "output_type": "execute_result"
    }
   ],
   "source": [
    "p=model.predict(xtest)\n",
    "p"
   ]
  },
  {
   "cell_type": "code",
   "execution_count": 27,
   "id": "c525f9af",
   "metadata": {
    "execution": {
     "iopub.execute_input": "2023-06-05T17:07:21.642101Z",
     "iopub.status.busy": "2023-06-05T17:07:21.641743Z",
     "iopub.status.idle": "2023-06-05T17:07:21.650859Z",
     "shell.execute_reply": "2023-06-05T17:07:21.649619Z"
    },
    "papermill": {
     "duration": 0.030506,
     "end_time": "2023-06-05T17:07:21.653472",
     "exception": false,
     "start_time": "2023-06-05T17:07:21.622966",
     "status": "completed"
    },
    "tags": []
   },
   "outputs": [
    {
     "data": {
      "text/plain": [
       "98.55072463768117"
      ]
     },
     "execution_count": 27,
     "metadata": {},
     "output_type": "execute_result"
    }
   ],
   "source": [
    "from sklearn.metrics import accuracy_score\n",
    "q=accuracy_score(ytest,p)*100\n",
    "q"
   ]
  },
  {
   "cell_type": "code",
   "execution_count": 28,
   "id": "d4aca8e6",
   "metadata": {
    "execution": {
     "iopub.execute_input": "2023-06-05T17:07:21.691850Z",
     "iopub.status.busy": "2023-06-05T17:07:21.691439Z",
     "iopub.status.idle": "2023-06-05T17:07:21.700995Z",
     "shell.execute_reply": "2023-06-05T17:07:21.700040Z"
    },
    "papermill": {
     "duration": 0.032372,
     "end_time": "2023-06-05T17:07:21.702795",
     "exception": false,
     "start_time": "2023-06-05T17:07:21.670423",
     "status": "completed"
    },
    "tags": []
   },
   "outputs": [
    {
     "data": {
      "text/plain": [
       "array([0, 2, 0, 0, 2, 2, 2, 0, 0, 0, 2, 0, 2, 2, 0, 1, 1, 0, 0, 2, 0, 1,\n",
       "       2, 2, 0, 2, 1, 0, 0, 2, 0, 0, 0, 0, 2, 0, 2, 2, 1, 2, 0, 2, 0, 0,\n",
       "       1, 0, 0, 2, 2, 0, 0, 0, 2, 2, 0, 2, 0, 2, 2, 0, 1, 0, 2, 2, 2, 1,\n",
       "       0, 0, 2, 0, 2, 0, 1, 0, 0, 1, 0, 0, 0, 2, 1, 0, 0, 2, 0, 2, 1, 2,\n",
       "       1, 2, 2, 2, 1, 2, 0, 0, 2, 2, 1, 0, 2, 2, 0, 2, 2, 2, 2, 1, 0, 2,\n",
       "       1, 2, 0, 0, 1, 2, 0, 2, 2, 0, 0, 2, 0, 0, 2, 0, 1, 1, 0, 1, 2, 0,\n",
       "       2, 0, 2, 0, 1, 0, 1, 1, 0, 0, 1, 0, 2, 0, 2, 0, 0, 2, 1, 1, 0, 0,\n",
       "       0, 2, 1, 0, 0, 2, 0, 2, 0, 0, 2, 2, 2, 0, 2, 1, 2, 1, 1, 0, 1, 0,\n",
       "       0, 1, 0, 0, 2, 0, 0, 2, 0, 2, 1, 2, 0, 2, 2, 1, 2, 0, 0, 0, 0, 0,\n",
       "       0, 0, 1, 0, 2, 2, 0, 2, 2, 1, 1, 2, 2, 2, 2, 2, 1, 1, 0, 1, 1, 2,\n",
       "       0, 0, 0, 0, 0, 1, 0, 2, 0, 0, 2, 2, 0, 0, 2, 1, 2, 0, 2, 2, 2, 0,\n",
       "       0, 1, 1, 2, 1, 1, 0, 0, 2, 2, 0, 2, 0, 2, 1, 2, 2, 2, 0, 0, 0, 0,\n",
       "       0, 2, 1, 0, 2, 0, 1, 0, 0, 2, 0])"
      ]
     },
     "execution_count": 28,
     "metadata": {},
     "output_type": "execute_result"
    }
   ],
   "source": [
    "p1=model.predict(xtrain)\n",
    "p1"
   ]
  },
  {
   "cell_type": "code",
   "execution_count": 29,
   "id": "9a8bb7c1",
   "metadata": {
    "execution": {
     "iopub.execute_input": "2023-06-05T17:07:21.740269Z",
     "iopub.status.busy": "2023-06-05T17:07:21.739950Z",
     "iopub.status.idle": "2023-06-05T17:07:21.747509Z",
     "shell.execute_reply": "2023-06-05T17:07:21.746425Z"
    },
    "papermill": {
     "duration": 0.029086,
     "end_time": "2023-06-05T17:07:21.749273",
     "exception": false,
     "start_time": "2023-06-05T17:07:21.720187",
     "status": "completed"
    },
    "tags": []
   },
   "outputs": [
    {
     "data": {
      "text/plain": [
       "97.81818181818181"
      ]
     },
     "execution_count": 29,
     "metadata": {},
     "output_type": "execute_result"
    }
   ],
   "source": [
    "q1=accuracy_score(ytrain,p1)*100\n",
    "q1                                             #generalized accuracy"
   ]
  },
  {
   "cell_type": "markdown",
   "id": "688714ec",
   "metadata": {
    "papermill": {
     "duration": 0.017132,
     "end_time": "2023-06-05T17:07:21.783657",
     "exception": false,
     "start_time": "2023-06-05T17:07:21.766525",
     "status": "completed"
    },
    "tags": []
   },
   "source": [
    "# Decision Tree Classifier"
   ]
  },
  {
   "cell_type": "code",
   "execution_count": 30,
   "id": "2768e4d8",
   "metadata": {
    "execution": {
     "iopub.execute_input": "2023-06-05T17:07:21.820558Z",
     "iopub.status.busy": "2023-06-05T17:07:21.820198Z",
     "iopub.status.idle": "2023-06-05T17:07:21.999115Z",
     "shell.execute_reply": "2023-06-05T17:07:21.997381Z"
    },
    "papermill": {
     "duration": 0.200688,
     "end_time": "2023-06-05T17:07:22.001887",
     "exception": false,
     "start_time": "2023-06-05T17:07:21.801199",
     "status": "completed"
    },
    "tags": []
   },
   "outputs": [
    {
     "data": {
      "text/html": [
       "<style>#sk-container-id-2 {color: black;background-color: white;}#sk-container-id-2 pre{padding: 0;}#sk-container-id-2 div.sk-toggleable {background-color: white;}#sk-container-id-2 label.sk-toggleable__label {cursor: pointer;display: block;width: 100%;margin-bottom: 0;padding: 0.3em;box-sizing: border-box;text-align: center;}#sk-container-id-2 label.sk-toggleable__label-arrow:before {content: \"▸\";float: left;margin-right: 0.25em;color: #696969;}#sk-container-id-2 label.sk-toggleable__label-arrow:hover:before {color: black;}#sk-container-id-2 div.sk-estimator:hover label.sk-toggleable__label-arrow:before {color: black;}#sk-container-id-2 div.sk-toggleable__content {max-height: 0;max-width: 0;overflow: hidden;text-align: left;background-color: #f0f8ff;}#sk-container-id-2 div.sk-toggleable__content pre {margin: 0.2em;color: black;border-radius: 0.25em;background-color: #f0f8ff;}#sk-container-id-2 input.sk-toggleable__control:checked~div.sk-toggleable__content {max-height: 200px;max-width: 100%;overflow: auto;}#sk-container-id-2 input.sk-toggleable__control:checked~label.sk-toggleable__label-arrow:before {content: \"▾\";}#sk-container-id-2 div.sk-estimator input.sk-toggleable__control:checked~label.sk-toggleable__label {background-color: #d4ebff;}#sk-container-id-2 div.sk-label input.sk-toggleable__control:checked~label.sk-toggleable__label {background-color: #d4ebff;}#sk-container-id-2 input.sk-hidden--visually {border: 0;clip: rect(1px 1px 1px 1px);clip: rect(1px, 1px, 1px, 1px);height: 1px;margin: -1px;overflow: hidden;padding: 0;position: absolute;width: 1px;}#sk-container-id-2 div.sk-estimator {font-family: monospace;background-color: #f0f8ff;border: 1px dotted black;border-radius: 0.25em;box-sizing: border-box;margin-bottom: 0.5em;}#sk-container-id-2 div.sk-estimator:hover {background-color: #d4ebff;}#sk-container-id-2 div.sk-parallel-item::after {content: \"\";width: 100%;border-bottom: 1px solid gray;flex-grow: 1;}#sk-container-id-2 div.sk-label:hover label.sk-toggleable__label {background-color: #d4ebff;}#sk-container-id-2 div.sk-serial::before {content: \"\";position: absolute;border-left: 1px solid gray;box-sizing: border-box;top: 0;bottom: 0;left: 50%;z-index: 0;}#sk-container-id-2 div.sk-serial {display: flex;flex-direction: column;align-items: center;background-color: white;padding-right: 0.2em;padding-left: 0.2em;position: relative;}#sk-container-id-2 div.sk-item {position: relative;z-index: 1;}#sk-container-id-2 div.sk-parallel {display: flex;align-items: stretch;justify-content: center;background-color: white;position: relative;}#sk-container-id-2 div.sk-item::before, #sk-container-id-2 div.sk-parallel-item::before {content: \"\";position: absolute;border-left: 1px solid gray;box-sizing: border-box;top: 0;bottom: 0;left: 50%;z-index: -1;}#sk-container-id-2 div.sk-parallel-item {display: flex;flex-direction: column;z-index: 1;position: relative;background-color: white;}#sk-container-id-2 div.sk-parallel-item:first-child::after {align-self: flex-end;width: 50%;}#sk-container-id-2 div.sk-parallel-item:last-child::after {align-self: flex-start;width: 50%;}#sk-container-id-2 div.sk-parallel-item:only-child::after {width: 0;}#sk-container-id-2 div.sk-dashed-wrapped {border: 1px dashed gray;margin: 0 0.4em 0.5em 0.4em;box-sizing: border-box;padding-bottom: 0.4em;background-color: white;}#sk-container-id-2 div.sk-label label {font-family: monospace;font-weight: bold;display: inline-block;line-height: 1.2em;}#sk-container-id-2 div.sk-label-container {text-align: center;}#sk-container-id-2 div.sk-container {/* jupyter's `normalize.less` sets `[hidden] { display: none; }` but bootstrap.min.css set `[hidden] { display: none !important; }` so we also need the `!important` here to be able to override the default hidden behavior on the sphinx rendered scikit-learn.org. See: https://github.com/scikit-learn/scikit-learn/issues/21755 */display: inline-block !important;position: relative;}#sk-container-id-2 div.sk-text-repr-fallback {display: none;}</style><div id=\"sk-container-id-2\" class=\"sk-top-container\"><div class=\"sk-text-repr-fallback\"><pre>DecisionTreeClassifier()</pre><b>In a Jupyter environment, please rerun this cell to show the HTML representation or trust the notebook. <br />On GitHub, the HTML representation is unable to render, please try loading this page with nbviewer.org.</b></div><div class=\"sk-container\" hidden><div class=\"sk-item\"><div class=\"sk-estimator sk-toggleable\"><input class=\"sk-toggleable__control sk-hidden--visually\" id=\"sk-estimator-id-2\" type=\"checkbox\" checked><label for=\"sk-estimator-id-2\" class=\"sk-toggleable__label sk-toggleable__label-arrow\">DecisionTreeClassifier</label><div class=\"sk-toggleable__content\"><pre>DecisionTreeClassifier()</pre></div></div></div></div></div>"
      ],
      "text/plain": [
       "DecisionTreeClassifier()"
      ]
     },
     "execution_count": 30,
     "metadata": {},
     "output_type": "execute_result"
    }
   ],
   "source": [
    "from sklearn.tree import DecisionTreeClassifier\n",
    "model1=DecisionTreeClassifier()          #NO critera therefore it willbe taking gini index\n",
    "a=model1.fit(xtrain,ytrain)\n",
    "a"
   ]
  },
  {
   "cell_type": "code",
   "execution_count": 31,
   "id": "69119e81",
   "metadata": {
    "execution": {
     "iopub.execute_input": "2023-06-05T17:07:22.040196Z",
     "iopub.status.busy": "2023-06-05T17:07:22.039500Z",
     "iopub.status.idle": "2023-06-05T17:07:22.050481Z",
     "shell.execute_reply": "2023-06-05T17:07:22.049125Z"
    },
    "papermill": {
     "duration": 0.032765,
     "end_time": "2023-06-05T17:07:22.053104",
     "exception": false,
     "start_time": "2023-06-05T17:07:22.020339",
     "status": "completed"
    },
    "tags": []
   },
   "outputs": [
    {
     "data": {
      "text/plain": [
       "array([0, 2, 0, 0, 2, 2, 2, 0, 0, 0, 2, 0, 2, 2, 0, 1, 1, 0, 0, 2, 0, 1,\n",
       "       2, 2, 0, 2, 1, 0, 0, 2, 0, 0, 0, 0, 2, 0, 2, 2, 1, 2, 0, 2, 0, 0,\n",
       "       1, 0, 0, 2, 2, 0, 0, 0, 2, 2, 0, 2, 0, 2, 2, 0, 1, 0, 2, 2, 2, 1,\n",
       "       0, 0, 2, 0, 2, 0, 1, 0, 0, 1, 0, 0, 0, 2, 1, 0, 0, 2, 0, 2, 1, 2,\n",
       "       1, 2, 2, 2, 1, 2, 0, 0, 2, 2, 1, 0, 2, 2, 0, 2, 2, 2, 2, 1, 0, 2,\n",
       "       1, 2, 0, 0, 1, 2, 0, 2, 2, 0, 0, 2, 0, 0, 2, 0, 1, 1, 0, 1, 2, 0,\n",
       "       2, 0, 2, 0, 1, 0, 1, 1, 0, 0, 1, 0, 2, 0, 2, 0, 0, 2, 1, 1, 0, 0,\n",
       "       0, 2, 1, 0, 0, 2, 0, 2, 0, 0, 2, 2, 2, 0, 2, 1, 2, 1, 1, 0, 1, 0,\n",
       "       0, 1, 0, 0, 2, 0, 0, 2, 0, 2, 1, 2, 0, 2, 2, 1, 2, 0, 0, 0, 0, 0,\n",
       "       0, 0, 1, 0, 2, 2, 0, 2, 2, 1, 1, 2, 2, 2, 2, 2, 1, 1, 0, 1, 1, 2,\n",
       "       0, 0, 0, 0, 0, 1, 0, 2, 0, 0, 2, 2, 0, 0, 2, 1, 2, 0, 2, 2, 2, 0,\n",
       "       0, 1, 1, 2, 1, 1, 0, 0, 2, 2, 0, 2, 0, 2, 1, 2, 2, 2, 0, 0, 0, 0,\n",
       "       0, 2, 1, 0, 2, 0, 1, 0, 0, 2, 0])"
      ]
     },
     "execution_count": 31,
     "metadata": {},
     "output_type": "execute_result"
    }
   ],
   "source": [
    "p=model.predict(xtrain)\n",
    "p"
   ]
  },
  {
   "cell_type": "code",
   "execution_count": 32,
   "id": "838ba18b",
   "metadata": {
    "execution": {
     "iopub.execute_input": "2023-06-05T17:07:22.091307Z",
     "iopub.status.busy": "2023-06-05T17:07:22.090944Z",
     "iopub.status.idle": "2023-06-05T17:07:22.100115Z",
     "shell.execute_reply": "2023-06-05T17:07:22.098894Z"
    },
    "papermill": {
     "duration": 0.031256,
     "end_time": "2023-06-05T17:07:22.102133",
     "exception": false,
     "start_time": "2023-06-05T17:07:22.070877",
     "status": "completed"
    },
    "tags": []
   },
   "outputs": [
    {
     "data": {
      "text/plain": [
       "97.81818181818181"
      ]
     },
     "execution_count": 32,
     "metadata": {},
     "output_type": "execute_result"
    }
   ],
   "source": [
    "q=accuracy_score(ytrain,p)*100\n",
    "q"
   ]
  },
  {
   "cell_type": "code",
   "execution_count": 33,
   "id": "856b6188",
   "metadata": {
    "execution": {
     "iopub.execute_input": "2023-06-05T17:07:22.140933Z",
     "iopub.status.busy": "2023-06-05T17:07:22.139376Z",
     "iopub.status.idle": "2023-06-05T17:07:22.147634Z",
     "shell.execute_reply": "2023-06-05T17:07:22.146838Z"
    },
    "papermill": {
     "duration": 0.029725,
     "end_time": "2023-06-05T17:07:22.149871",
     "exception": false,
     "start_time": "2023-06-05T17:07:22.120146",
     "status": "completed"
    },
    "tags": []
   },
   "outputs": [
    {
     "data": {
      "text/plain": [
       "array([1, 0, 2, 1, 2, 2, 2, 2, 0, 2, 2, 0, 0, 0, 2, 0, 0, 2, 2, 0, 0, 0,\n",
       "       2, 0, 1, 1, 0, 1, 0, 1, 0, 0, 1, 0, 0, 0, 2, 1, 0, 1, 2, 2, 2, 0,\n",
       "       0, 0, 2, 0, 0, 1, 0, 2, 2, 0, 0, 1, 0, 1, 1, 2, 1, 0, 2, 0, 2, 1,\n",
       "       0, 0, 0])"
      ]
     },
     "execution_count": 33,
     "metadata": {},
     "output_type": "execute_result"
    }
   ],
   "source": [
    "p1=model.predict(xtest)\n",
    "p1"
   ]
  },
  {
   "cell_type": "code",
   "execution_count": 34,
   "id": "69205b43",
   "metadata": {
    "execution": {
     "iopub.execute_input": "2023-06-05T17:07:22.189187Z",
     "iopub.status.busy": "2023-06-05T17:07:22.187537Z",
     "iopub.status.idle": "2023-06-05T17:07:22.194784Z",
     "shell.execute_reply": "2023-06-05T17:07:22.194070Z"
    },
    "papermill": {
     "duration": 0.02908,
     "end_time": "2023-06-05T17:07:22.197182",
     "exception": false,
     "start_time": "2023-06-05T17:07:22.168102",
     "status": "completed"
    },
    "tags": []
   },
   "outputs": [
    {
     "data": {
      "text/plain": [
       "98.55072463768117"
      ]
     },
     "execution_count": 34,
     "metadata": {},
     "output_type": "execute_result"
    }
   ],
   "source": [
    "q1=accuracy_score(ytest,p1)*100\n",
    "q1"
   ]
  },
  {
   "cell_type": "code",
   "execution_count": 35,
   "id": "8cfc0ba5",
   "metadata": {
    "execution": {
     "iopub.execute_input": "2023-06-05T17:07:22.236977Z",
     "iopub.status.busy": "2023-06-05T17:07:22.235664Z",
     "iopub.status.idle": "2023-06-05T17:07:23.176422Z",
     "shell.execute_reply": "2023-06-05T17:07:23.175628Z"
    },
    "papermill": {
     "duration": 0.962212,
     "end_time": "2023-06-05T17:07:23.178432",
     "exception": false,
     "start_time": "2023-06-05T17:07:22.216220",
     "status": "completed"
    },
    "tags": []
   },
   "outputs": [
    {
     "data": {
      "image/png": "[encoded data removed]",
      "text/plain": [
       "<Figure size 2000x1500 with 1 Axes>"
      ]
     },
     "metadata": {},
     "output_type": "display_data"
    }
   ],
   "source": [
    "import matplotlib.pyplot as plt\n",
    "from sklearn import tree\n",
    "plt.figure(figsize=(20,15))\n",
    "tree.plot_tree(model1,feature_names=x.columns,filled=True)\n",
    "plt.show()"
   ]
  },
  {
   "cell_type": "markdown",
   "id": "521e761f",
   "metadata": {
    "papermill": {
     "duration": 0.01937,
     "end_time": "2023-06-05T17:07:23.217554",
     "exception": false,
     "start_time": "2023-06-05T17:07:23.198184",
     "status": "completed"
    },
    "tags": []
   },
   "source": [
    "# Random Forest Classifer"
   ]
  },
  {
   "cell_type": "code",
   "execution_count": 36,
   "id": "8c82fe55",
   "metadata": {
    "execution": {
     "iopub.execute_input": "2023-06-05T17:07:23.258643Z",
     "iopub.status.busy": "2023-06-05T17:07:23.257999Z",
     "iopub.status.idle": "2023-06-05T17:07:23.522492Z",
     "shell.execute_reply": "2023-06-05T17:07:23.520890Z"
    },
    "papermill": {
     "duration": 0.287937,
     "end_time": "2023-06-05T17:07:23.525083",
     "exception": false,
     "start_time": "2023-06-05T17:07:23.237146",
     "status": "completed"
    },
    "tags": []
   },
   "outputs": [
    {
     "data": {
      "text/html": [
       "<style>#sk-container-id-3 {color: black;background-color: white;}#sk-container-id-3 pre{padding: 0;}#sk-container-id-3 div.sk-toggleable {background-color: white;}#sk-container-id-3 label.sk-toggleable__label {cursor: pointer;display: block;width: 100%;margin-bottom: 0;padding: 0.3em;box-sizing: border-box;text-align: center;}#sk-container-id-3 label.sk-toggleable__label-arrow:before {content: \"▸\";float: left;margin-right: 0.25em;color: #696969;}#sk-container-id-3 label.sk-toggleable__label-arrow:hover:before {color: black;}#sk-container-id-3 div.sk-estimator:hover label.sk-toggleable__label-arrow:before {color: black;}#sk-container-id-3 div.sk-toggleable__content {max-height: 0;max-width: 0;overflow: hidden;text-align: left;background-color: #f0f8ff;}#sk-container-id-3 div.sk-toggleable__content pre {margin: 0.2em;color: black;border-radius: 0.25em;background-color: #f0f8ff;}#sk-container-id-3 input.sk-toggleable__control:checked~div.sk-toggleable__content {max-height: 200px;max-width: 100%;overflow: auto;}#sk-container-id-3 input.sk-toggleable__control:checked~label.sk-toggleable__label-arrow:before {content: \"▾\";}#sk-container-id-3 div.sk-estimator input.sk-toggleable__control:checked~label.sk-toggleable__label {background-color: #d4ebff;}#sk-container-id-3 div.sk-label input.sk-toggleable__control:checked~label.sk-toggleable__label {background-color: #d4ebff;}#sk-container-id-3 input.sk-hidden--visually {border: 0;clip: rect(1px 1px 1px 1px);clip: rect(1px, 1px, 1px, 1px);height: 1px;margin: -1px;overflow: hidden;padding: 0;position: absolute;width: 1px;}#sk-container-id-3 div.sk-estimator {font-family: monospace;background-color: #f0f8ff;border: 1px dotted black;border-radius: 0.25em;box-sizing: border-box;margin-bottom: 0.5em;}#sk-container-id-3 div.sk-estimator:hover {background-color: #d4ebff;}#sk-container-id-3 div.sk-parallel-item::after {content: \"\";width: 100%;border-bottom: 1px solid gray;flex-grow: 1;}#sk-container-id-3 div.sk-label:hover label.sk-toggleable__label {background-color: #d4ebff;}#sk-container-id-3 div.sk-serial::before {content: \"\";position: absolute;border-left: 1px solid gray;box-sizing: border-box;top: 0;bottom: 0;left: 50%;z-index: 0;}#sk-container-id-3 div.sk-serial {display: flex;flex-direction: column;align-items: center;background-color: white;padding-right: 0.2em;padding-left: 0.2em;position: relative;}#sk-container-id-3 div.sk-item {position: relative;z-index: 1;}#sk-container-id-3 div.sk-parallel {display: flex;align-items: stretch;justify-content: center;background-color: white;position: relative;}#sk-container-id-3 div.sk-item::before, #sk-container-id-3 div.sk-parallel-item::before {content: \"\";position: absolute;border-left: 1px solid gray;box-sizing: border-box;top: 0;bottom: 0;left: 50%;z-index: -1;}#sk-container-id-3 div.sk-parallel-item {display: flex;flex-direction: column;z-index: 1;position: relative;background-color: white;}#sk-container-id-3 div.sk-parallel-item:first-child::after {align-self: flex-end;width: 50%;}#sk-container-id-3 div.sk-parallel-item:last-child::after {align-self: flex-start;width: 50%;}#sk-container-id-3 div.sk-parallel-item:only-child::after {width: 0;}#sk-container-id-3 div.sk-dashed-wrapped {border: 1px dashed gray;margin: 0 0.4em 0.5em 0.4em;box-sizing: border-box;padding-bottom: 0.4em;background-color: white;}#sk-container-id-3 div.sk-label label {font-family: monospace;font-weight: bold;display: inline-block;line-height: 1.2em;}#sk-container-id-3 div.sk-label-container {text-align: center;}#sk-container-id-3 div.sk-container {/* jupyter's `normalize.less` sets `[hidden] { display: none; }` but bootstrap.min.css set `[hidden] { display: none !important; }` so we also need the `!important` here to be able to override the default hidden behavior on the sphinx rendered scikit-learn.org. See: https://github.com/scikit-learn/scikit-learn/issues/21755 */display: inline-block !important;position: relative;}#sk-container-id-3 div.sk-text-repr-fallback {display: none;}</style><div id=\"sk-container-id-3\" class=\"sk-top-container\"><div class=\"sk-text-repr-fallback\"><pre>RandomForestClassifier()</pre><b>In a Jupyter environment, please rerun this cell to show the HTML representation or trust the notebook. <br />On GitHub, the HTML representation is unable to render, please try loading this page with nbviewer.org.</b></div><div class=\"sk-container\" hidden><div class=\"sk-item\"><div class=\"sk-estimator sk-toggleable\"><input class=\"sk-toggleable__control sk-hidden--visually\" id=\"sk-estimator-id-3\" type=\"checkbox\" checked><label for=\"sk-estimator-id-3\" class=\"sk-toggleable__label sk-toggleable__label-arrow\">RandomForestClassifier</label><div class=\"sk-toggleable__content\"><pre>RandomForestClassifier()</pre></div></div></div></div></div>"
      ],
      "text/plain": [
       "RandomForestClassifier()"
      ]
     },
     "execution_count": 36,
     "metadata": {},
     "output_type": "execute_result"
    }
   ],
   "source": [
    "from sklearn.ensemble import RandomForestClassifier\n",
    "model2=RandomForestClassifier()\n",
    "model2.fit(xtrain,ytrain)"
   ]
  },
  {
   "cell_type": "code",
   "execution_count": 37,
   "id": "7867fa34",
   "metadata": {
    "execution": {
     "iopub.execute_input": "2023-06-05T17:07:23.568249Z",
     "iopub.status.busy": "2023-06-05T17:07:23.567563Z",
     "iopub.status.idle": "2023-06-05T17:07:23.592372Z",
     "shell.execute_reply": "2023-06-05T17:07:23.590742Z"
    },
    "papermill": {
     "duration": 0.049326,
     "end_time": "2023-06-05T17:07:23.594988",
     "exception": false,
     "start_time": "2023-06-05T17:07:23.545662",
     "status": "completed"
    },
    "tags": []
   },
   "outputs": [
    {
     "data": {
      "text/plain": [
       "array([0, 2, 0, 0, 2, 2, 2, 0, 0, 0, 2, 0, 2, 2, 0, 1, 1, 0, 0, 2, 0, 1,\n",
       "       2, 2, 0, 2, 1, 0, 0, 2, 0, 0, 0, 0, 2, 0, 2, 2, 1, 2, 0, 2, 0, 0,\n",
       "       1, 0, 0, 2, 2, 0, 0, 0, 2, 2, 0, 2, 0, 2, 2, 0, 1, 2, 2, 2, 2, 1,\n",
       "       0, 0, 2, 0, 2, 0, 1, 0, 0, 0, 0, 0, 0, 2, 1, 0, 0, 2, 0, 2, 1, 2,\n",
       "       1, 2, 2, 2, 1, 2, 0, 0, 2, 2, 1, 0, 2, 2, 0, 2, 2, 2, 2, 1, 1, 2,\n",
       "       1, 2, 0, 0, 1, 2, 0, 2, 2, 0, 0, 2, 0, 0, 2, 0, 1, 1, 0, 1, 2, 0,\n",
       "       2, 0, 2, 0, 1, 0, 1, 0, 0, 0, 1, 0, 2, 0, 2, 0, 0, 2, 1, 1, 0, 0,\n",
       "       0, 2, 1, 0, 0, 2, 0, 2, 0, 0, 2, 2, 2, 0, 2, 1, 2, 1, 1, 0, 1, 0,\n",
       "       0, 1, 0, 0, 2, 0, 0, 2, 0, 2, 1, 2, 0, 2, 2, 1, 2, 0, 0, 0, 0, 0,\n",
       "       0, 0, 1, 0, 2, 2, 1, 2, 2, 1, 1, 2, 2, 2, 2, 2, 1, 1, 0, 1, 1, 2,\n",
       "       0, 0, 0, 0, 0, 1, 0, 2, 0, 0, 2, 2, 0, 0, 2, 1, 2, 0, 2, 2, 2, 0,\n",
       "       0, 1, 1, 2, 1, 1, 0, 0, 2, 2, 0, 2, 1, 2, 1, 2, 2, 2, 0, 0, 0, 0,\n",
       "       0, 2, 1, 0, 2, 0, 1, 0, 0, 2, 0])"
      ]
     },
     "execution_count": 37,
     "metadata": {},
     "output_type": "execute_result"
    }
   ],
   "source": [
    "p=model2.predict(xtrain)\n",
    "p"
   ]
  },
  {
   "cell_type": "code",
   "execution_count": 38,
   "id": "39f65527",
   "metadata": {
    "execution": {
     "iopub.execute_input": "2023-06-05T17:07:23.638497Z",
     "iopub.status.busy": "2023-06-05T17:07:23.638130Z",
     "iopub.status.idle": "2023-06-05T17:07:23.647388Z",
     "shell.execute_reply": "2023-06-05T17:07:23.646126Z"
    },
    "papermill": {
     "duration": 0.033602,
     "end_time": "2023-06-05T17:07:23.649375",
     "exception": false,
     "start_time": "2023-06-05T17:07:23.615773",
     "status": "completed"
    },
    "tags": []
   },
   "outputs": [
    {
     "data": {
      "text/plain": [
       "100.0"
      ]
     },
     "execution_count": 38,
     "metadata": {},
     "output_type": "execute_result"
    }
   ],
   "source": [
    "q=accuracy_score(ytrain,p)*100\n",
    "q"
   ]
  },
  {
   "cell_type": "code",
   "execution_count": 39,
   "id": "84a0ae3e",
   "metadata": {
    "execution": {
     "iopub.execute_input": "2023-06-05T17:07:23.693753Z",
     "iopub.status.busy": "2023-06-05T17:07:23.692282Z",
     "iopub.status.idle": "2023-06-05T17:07:23.712879Z",
     "shell.execute_reply": "2023-06-05T17:07:23.711823Z"
    },
    "papermill": {
     "duration": 0.044438,
     "end_time": "2023-06-05T17:07:23.714762",
     "exception": false,
     "start_time": "2023-06-05T17:07:23.670324",
     "status": "completed"
    },
    "tags": []
   },
   "outputs": [
    {
     "data": {
      "text/plain": [
       "array([1, 1, 2, 1, 2, 2, 2, 2, 0, 2, 2, 0, 0, 0, 2, 0, 0, 2, 2, 0, 0, 0,\n",
       "       2, 0, 1, 1, 0, 1, 0, 1, 0, 0, 1, 0, 0, 0, 2, 1, 0, 1, 2, 2, 2, 0,\n",
       "       0, 0, 2, 0, 0, 1, 0, 2, 2, 0, 0, 1, 0, 1, 1, 2, 1, 0, 2, 0, 2, 1,\n",
       "       0, 0, 0])"
      ]
     },
     "execution_count": 39,
     "metadata": {},
     "output_type": "execute_result"
    }
   ],
   "source": [
    "p1=model2.predict(xtest)\n",
    "p1"
   ]
  },
  {
   "cell_type": "code",
   "execution_count": 40,
   "id": "0e8acf35",
   "metadata": {
    "execution": {
     "iopub.execute_input": "2023-06-05T17:07:23.760246Z",
     "iopub.status.busy": "2023-06-05T17:07:23.758764Z",
     "iopub.status.idle": "2023-06-05T17:07:23.766379Z",
     "shell.execute_reply": "2023-06-05T17:07:23.765423Z"
    },
    "papermill": {
     "duration": 0.033134,
     "end_time": "2023-06-05T17:07:23.768828",
     "exception": false,
     "start_time": "2023-06-05T17:07:23.735694",
     "status": "completed"
    },
    "tags": []
   },
   "outputs": [
    {
     "data": {
      "text/plain": [
       "100.0"
      ]
     },
     "execution_count": 40,
     "metadata": {},
     "output_type": "execute_result"
    }
   ],
   "source": [
    "q1=accuracy_score(ytest,p1)*100\n",
    "q1"
   ]
  },
  {
   "cell_type": "markdown",
   "id": "0abf977e",
   "metadata": {
    "papermill": {
     "duration": 0.02085,
     "end_time": "2023-06-05T17:07:23.812217",
     "exception": false,
     "start_time": "2023-06-05T17:07:23.791367",
     "status": "completed"
    },
    "tags": []
   },
   "source": [
    "# Support Vector Classifier"
   ]
  },
  {
   "cell_type": "code",
   "execution_count": 41,
   "id": "af47c752",
   "metadata": {
    "execution": {
     "iopub.execute_input": "2023-06-05T17:07:23.856226Z",
     "iopub.status.busy": "2023-06-05T17:07:23.855846Z",
     "iopub.status.idle": "2023-06-05T17:07:23.870821Z",
     "shell.execute_reply": "2023-06-05T17:07:23.869566Z"
    },
    "papermill": {
     "duration": 0.039285,
     "end_time": "2023-06-05T17:07:23.872769",
     "exception": false,
     "start_time": "2023-06-05T17:07:23.833484",
     "status": "completed"
    },
    "tags": []
   },
   "outputs": [
    {
     "data": {
      "text/html": [
       "<style>#sk-container-id-4 {color: black;background-color: white;}#sk-container-id-4 pre{padding: 0;}#sk-container-id-4 div.sk-toggleable {background-color: white;}#sk-container-id-4 label.sk-toggleable__label {cursor: pointer;display: block;width: 100%;margin-bottom: 0;padding: 0.3em;box-sizing: border-box;text-align: center;}#sk-container-id-4 label.sk-toggleable__label-arrow:before {content: \"▸\";float: left;margin-right: 0.25em;color: #696969;}#sk-container-id-4 label.sk-toggleable__label-arrow:hover:before {color: black;}#sk-container-id-4 div.sk-estimator:hover label.sk-toggleable__label-arrow:before {color: black;}#sk-container-id-4 div.sk-toggleable__content {max-height: 0;max-width: 0;overflow: hidden;text-align: left;background-color: #f0f8ff;}#sk-container-id-4 div.sk-toggleable__content pre {margin: 0.2em;color: black;border-radius: 0.25em;background-color: #f0f8ff;}#sk-container-id-4 input.sk-toggleable__control:checked~div.sk-toggleable__content {max-height: 200px;max-width: 100%;overflow: auto;}#sk-container-id-4 input.sk-toggleable__control:checked~label.sk-toggleable__label-arrow:before {content: \"▾\";}#sk-container-id-4 div.sk-estimator input.sk-toggleable__control:checked~label.sk-toggleable__label {background-color: #d4ebff;}#sk-container-id-4 div.sk-label input.sk-toggleable__control:checked~label.sk-toggleable__label {background-color: #d4ebff;}#sk-container-id-4 input.sk-hidden--visually {border: 0;clip: rect(1px 1px 1px 1px);clip: rect(1px, 1px, 1px, 1px);height: 1px;margin: -1px;overflow: hidden;padding: 0;position: absolute;width: 1px;}#sk-container-id-4 div.sk-estimator {font-family: monospace;background-color: #f0f8ff;border: 1px dotted black;border-radius: 0.25em;box-sizing: border-box;margin-bottom: 0.5em;}#sk-container-id-4 div.sk-estimator:hover {background-color: #d4ebff;}#sk-container-id-4 div.sk-parallel-item::after {content: \"\";width: 100%;border-bottom: 1px solid gray;flex-grow: 1;}#sk-container-id-4 div.sk-label:hover label.sk-toggleable__label {background-color: #d4ebff;}#sk-container-id-4 div.sk-serial::before {content: \"\";position: absolute;border-left: 1px solid gray;box-sizing: border-box;top: 0;bottom: 0;left: 50%;z-index: 0;}#sk-container-id-4 div.sk-serial {display: flex;flex-direction: column;align-items: center;background-color: white;padding-right: 0.2em;padding-left: 0.2em;position: relative;}#sk-container-id-4 div.sk-item {position: relative;z-index: 1;}#sk-container-id-4 div.sk-parallel {display: flex;align-items: stretch;justify-content: center;background-color: white;position: relative;}#sk-container-id-4 div.sk-item::before, #sk-container-id-4 div.sk-parallel-item::before {content: \"\";position: absolute;border-left: 1px solid gray;box-sizing: border-box;top: 0;bottom: 0;left: 50%;z-index: -1;}#sk-container-id-4 div.sk-parallel-item {display: flex;flex-direction: column;z-index: 1;position: relative;background-color: white;}#sk-container-id-4 div.sk-parallel-item:first-child::after {align-self: flex-end;width: 50%;}#sk-container-id-4 div.sk-parallel-item:last-child::after {align-self: flex-start;width: 50%;}#sk-container-id-4 div.sk-parallel-item:only-child::after {width: 0;}#sk-container-id-4 div.sk-dashed-wrapped {border: 1px dashed gray;margin: 0 0.4em 0.5em 0.4em;box-sizing: border-box;padding-bottom: 0.4em;background-color: white;}#sk-container-id-4 div.sk-label label {font-family: monospace;font-weight: bold;display: inline-block;line-height: 1.2em;}#sk-container-id-4 div.sk-label-container {text-align: center;}#sk-container-id-4 div.sk-container {/* jupyter's `normalize.less` sets `[hidden] { display: none; }` but bootstrap.min.css set `[hidden] { display: none !important; }` so we also need the `!important` here to be able to override the default hidden behavior on the sphinx rendered scikit-learn.org. See: https://github.com/scikit-learn/scikit-learn/issues/21755 */display: inline-block !important;position: relative;}#sk-container-id-4 div.sk-text-repr-fallback {display: none;}</style><div id=\"sk-container-id-4\" class=\"sk-top-container\"><div class=\"sk-text-repr-fallback\"><pre>SVC()</pre><b>In a Jupyter environment, please rerun this cell to show the HTML representation or trust the notebook. <br />On GitHub, the HTML representation is unable to render, please try loading this page with nbviewer.org.</b></div><div class=\"sk-container\" hidden><div class=\"sk-item\"><div class=\"sk-estimator sk-toggleable\"><input class=\"sk-toggleable__control sk-hidden--visually\" id=\"sk-estimator-id-4\" type=\"checkbox\" checked><label for=\"sk-estimator-id-4\" class=\"sk-toggleable__label sk-toggleable__label-arrow\">SVC</label><div class=\"sk-toggleable__content\"><pre>SVC()</pre></div></div></div></div></div>"
      ],
      "text/plain": [
       "SVC()"
      ]
     },
     "execution_count": 41,
     "metadata": {},
     "output_type": "execute_result"
    }
   ],
   "source": [
    "from sklearn.svm import SVC\n",
    "model3=SVC()\n",
    "model3.fit(xtrain,ytrain)"
   ]
  },
  {
   "cell_type": "code",
   "execution_count": 42,
   "id": "85099d2e",
   "metadata": {
    "execution": {
     "iopub.execute_input": "2023-06-05T17:07:23.923752Z",
     "iopub.status.busy": "2023-06-05T17:07:23.923282Z",
     "iopub.status.idle": "2023-06-05T17:07:23.936514Z",
     "shell.execute_reply": "2023-06-05T17:07:23.935195Z"
    },
    "papermill": {
     "duration": 0.042116,
     "end_time": "2023-06-05T17:07:23.938972",
     "exception": false,
     "start_time": "2023-06-05T17:07:23.896856",
     "status": "completed"
    },
    "tags": []
   },
   "outputs": [
    {
     "data": {
      "text/plain": [
       "array([0, 2, 2, 0, 2, 2, 2, 0, 0, 0, 0, 0, 2, 2, 0, 0, 0, 2, 0, 2, 0, 0,\n",
       "       2, 2, 0, 2, 0, 0, 0, 2, 0, 0, 0, 0, 0, 0, 2, 2, 0, 2, 0, 2, 0, 2,\n",
       "       2, 0, 0, 2, 2, 2, 0, 0, 2, 2, 0, 2, 0, 2, 2, 2, 0, 0, 2, 2, 2, 2,\n",
       "       0, 2, 2, 0, 0, 0, 0, 0, 0, 0, 0, 0, 0, 2, 0, 0, 0, 0, 0, 2, 0, 2,\n",
       "       0, 2, 2, 2, 0, 2, 0, 0, 2, 2, 0, 0, 2, 2, 0, 2, 2, 2, 2, 0, 0, 2,\n",
       "       0, 2, 0, 0, 0, 2, 0, 2, 2, 0, 0, 2, 0, 0, 2, 0, 0, 0, 2, 0, 2, 0,\n",
       "       2, 0, 2, 0, 0, 0, 0, 0, 0, 0, 0, 0, 2, 0, 2, 0, 0, 2, 0, 0, 0, 0,\n",
       "       0, 2, 0, 0, 0, 2, 0, 2, 0, 0, 2, 2, 2, 0, 2, 0, 2, 0, 0, 0, 2, 0,\n",
       "       0, 0, 2, 0, 0, 0, 0, 2, 0, 2, 0, 2, 0, 2, 2, 0, 2, 0, 0, 0, 0, 0,\n",
       "       0, 2, 0, 0, 2, 2, 0, 2, 0, 0, 0, 2, 2, 2, 2, 2, 0, 0, 2, 0, 0, 2,\n",
       "       0, 0, 0, 0, 0, 0, 0, 2, 0, 0, 2, 2, 0, 0, 2, 0, 2, 0, 2, 2, 2, 0,\n",
       "       0, 0, 2, 2, 0, 0, 0, 0, 2, 2, 0, 2, 0, 0, 2, 2, 2, 2, 0, 0, 0, 0,\n",
       "       0, 2, 0, 0, 2, 0, 0, 0, 0, 2, 0])"
      ]
     },
     "execution_count": 42,
     "metadata": {},
     "output_type": "execute_result"
    }
   ],
   "source": [
    "p=model3.predict(xtrain)\n",
    "p"
   ]
  },
  {
   "cell_type": "code",
   "execution_count": 43,
   "id": "2604a53b",
   "metadata": {
    "execution": {
     "iopub.execute_input": "2023-06-05T17:07:23.985780Z",
     "iopub.status.busy": "2023-06-05T17:07:23.985406Z",
     "iopub.status.idle": "2023-06-05T17:07:23.993016Z",
     "shell.execute_reply": "2023-06-05T17:07:23.991808Z"
    },
    "papermill": {
     "duration": 0.03353,
     "end_time": "2023-06-05T17:07:23.994844",
     "exception": false,
     "start_time": "2023-06-05T17:07:23.961314",
     "status": "completed"
    },
    "tags": []
   },
   "outputs": [
    {
     "data": {
      "text/plain": [
       "74.54545454545455"
      ]
     },
     "execution_count": 43,
     "metadata": {},
     "output_type": "execute_result"
    }
   ],
   "source": [
    "q=accuracy_score(ytrain,p)*100\n",
    "q"
   ]
  },
  {
   "cell_type": "code",
   "execution_count": 44,
   "id": "fb263f43",
   "metadata": {
    "execution": {
     "iopub.execute_input": "2023-06-05T17:07:24.040227Z",
     "iopub.status.busy": "2023-06-05T17:07:24.039871Z",
     "iopub.status.idle": "2023-06-05T17:07:24.055791Z",
     "shell.execute_reply": "2023-06-05T17:07:24.054476Z"
    },
    "papermill": {
     "duration": 0.042562,
     "end_time": "2023-06-05T17:07:24.058808",
     "exception": false,
     "start_time": "2023-06-05T17:07:24.016246",
     "status": "completed"
    },
    "tags": []
   },
   "outputs": [
    {
     "data": {
      "text/plain": [
       "array([0, 0, 2, 0, 2, 2, 2, 0, 0, 2, 2, 0, 0, 0, 2, 0, 0, 2, 2, 0, 0, 0,\n",
       "       2, 0, 0, 0, 2, 0, 0, 0, 0, 0, 0, 0, 2, 0, 2, 0, 0, 0, 0, 2, 2, 0,\n",
       "       0, 2, 2, 0, 0, 0, 0, 2, 2, 0, 0, 0, 0, 0, 0, 2, 0, 0, 2, 2, 2, 0,\n",
       "       0, 0, 0])"
      ]
     },
     "execution_count": 44,
     "metadata": {},
     "output_type": "execute_result"
    }
   ],
   "source": [
    "p1=model3.predict(xtest)\n",
    "p1"
   ]
  },
  {
   "cell_type": "code",
   "execution_count": 45,
   "id": "c4deec15",
   "metadata": {
    "execution": {
     "iopub.execute_input": "2023-06-05T17:07:24.104929Z",
     "iopub.status.busy": "2023-06-05T17:07:24.104539Z",
     "iopub.status.idle": "2023-06-05T17:07:24.113535Z",
     "shell.execute_reply": "2023-06-05T17:07:24.112238Z"
    },
    "papermill": {
     "duration": 0.035192,
     "end_time": "2023-06-05T17:07:24.116320",
     "exception": false,
     "start_time": "2023-06-05T17:07:24.081128",
     "status": "completed"
    },
    "tags": []
   },
   "outputs": [
    {
     "data": {
      "text/plain": [
       "68.11594202898551"
      ]
     },
     "execution_count": 45,
     "metadata": {},
     "output_type": "execute_result"
    }
   ],
   "source": [
    "q1=accuracy_score(ytest,p1)*100\n",
    "q1"
   ]
  },
  {
   "cell_type": "markdown",
   "id": "a5898a70",
   "metadata": {
    "papermill": {
     "duration": 0.022309,
     "end_time": "2023-06-05T17:07:24.161029",
     "exception": false,
     "start_time": "2023-06-05T17:07:24.138720",
     "status": "completed"
    },
    "tags": []
   },
   "source": [
    "# KNN"
   ]
  },
  {
   "cell_type": "code",
   "execution_count": 46,
   "id": "8be2e685",
   "metadata": {
    "execution": {
     "iopub.execute_input": "2023-06-05T17:07:24.217036Z",
     "iopub.status.busy": "2023-06-05T17:07:24.216662Z",
     "iopub.status.idle": "2023-06-05T17:07:24.229029Z",
     "shell.execute_reply": "2023-06-05T17:07:24.228167Z"
    },
    "papermill": {
     "duration": 0.043518,
     "end_time": "2023-06-05T17:07:24.231349",
     "exception": false,
     "start_time": "2023-06-05T17:07:24.187831",
     "status": "completed"
    },
    "tags": []
   },
   "outputs": [
    {
     "data": {
      "text/html": [
       "<style>#sk-container-id-5 {color: black;background-color: white;}#sk-container-id-5 pre{padding: 0;}#sk-container-id-5 div.sk-toggleable {background-color: white;}#sk-container-id-5 label.sk-toggleable__label {cursor: pointer;display: block;width: 100%;margin-bottom: 0;padding: 0.3em;box-sizing: border-box;text-align: center;}#sk-container-id-5 label.sk-toggleable__label-arrow:before {content: \"▸\";float: left;margin-right: 0.25em;color: #696969;}#sk-container-id-5 label.sk-toggleable__label-arrow:hover:before {color: black;}#sk-container-id-5 div.sk-estimator:hover label.sk-toggleable__label-arrow:before {color: black;}#sk-container-id-5 div.sk-toggleable__content {max-height: 0;max-width: 0;overflow: hidden;text-align: left;background-color: #f0f8ff;}#sk-container-id-5 div.sk-toggleable__content pre {margin: 0.2em;color: black;border-radius: 0.25em;background-color: #f0f8ff;}#sk-container-id-5 input.sk-toggleable__control:checked~div.sk-toggleable__content {max-height: 200px;max-width: 100%;overflow: auto;}#sk-container-id-5 input.sk-toggleable__control:checked~label.sk-toggleable__label-arrow:before {content: \"▾\";}#sk-container-id-5 div.sk-estimator input.sk-toggleable__control:checked~label.sk-toggleable__label {background-color: #d4ebff;}#sk-container-id-5 div.sk-label input.sk-toggleable__control:checked~label.sk-toggleable__label {background-color: #d4ebff;}#sk-container-id-5 input.sk-hidden--visually {border: 0;clip: rect(1px 1px 1px 1px);clip: rect(1px, 1px, 1px, 1px);height: 1px;margin: -1px;overflow: hidden;padding: 0;position: absolute;width: 1px;}#sk-container-id-5 div.sk-estimator {font-family: monospace;background-color: #f0f8ff;border: 1px dotted black;border-radius: 0.25em;box-sizing: border-box;margin-bottom: 0.5em;}#sk-container-id-5 div.sk-estimator:hover {background-color: #d4ebff;}#sk-container-id-5 div.sk-parallel-item::after {content: \"\";width: 100%;border-bottom: 1px solid gray;flex-grow: 1;}#sk-container-id-5 div.sk-label:hover label.sk-toggleable__label {background-color: #d4ebff;}#sk-container-id-5 div.sk-serial::before {content: \"\";position: absolute;border-left: 1px solid gray;box-sizing: border-box;top: 0;bottom: 0;left: 50%;z-index: 0;}#sk-container-id-5 div.sk-serial {display: flex;flex-direction: column;align-items: center;background-color: white;padding-right: 0.2em;padding-left: 0.2em;position: relative;}#sk-container-id-5 div.sk-item {position: relative;z-index: 1;}#sk-container-id-5 div.sk-parallel {display: flex;align-items: stretch;justify-content: center;background-color: white;position: relative;}#sk-container-id-5 div.sk-item::before, #sk-container-id-5 div.sk-parallel-item::before {content: \"\";position: absolute;border-left: 1px solid gray;box-sizing: border-box;top: 0;bottom: 0;left: 50%;z-index: -1;}#sk-container-id-5 div.sk-parallel-item {display: flex;flex-direction: column;z-index: 1;position: relative;background-color: white;}#sk-container-id-5 div.sk-parallel-item:first-child::after {align-self: flex-end;width: 50%;}#sk-container-id-5 div.sk-parallel-item:last-child::after {align-self: flex-start;width: 50%;}#sk-container-id-5 div.sk-parallel-item:only-child::after {width: 0;}#sk-container-id-5 div.sk-dashed-wrapped {border: 1px dashed gray;margin: 0 0.4em 0.5em 0.4em;box-sizing: border-box;padding-bottom: 0.4em;background-color: white;}#sk-container-id-5 div.sk-label label {font-family: monospace;font-weight: bold;display: inline-block;line-height: 1.2em;}#sk-container-id-5 div.sk-label-container {text-align: center;}#sk-container-id-5 div.sk-container {/* jupyter's `normalize.less` sets `[hidden] { display: none; }` but bootstrap.min.css set `[hidden] { display: none !important; }` so we also need the `!important` here to be able to override the default hidden behavior on the sphinx rendered scikit-learn.org. See: https://github.com/scikit-learn/scikit-learn/issues/21755 */display: inline-block !important;position: relative;}#sk-container-id-5 div.sk-text-repr-fallback {display: none;}</style><div id=\"sk-container-id-5\" class=\"sk-top-container\"><div class=\"sk-text-repr-fallback\"><pre>KNeighborsClassifier()</pre><b>In a Jupyter environment, please rerun this cell to show the HTML representation or trust the notebook. <br />On GitHub, the HTML representation is unable to render, please try loading this page with nbviewer.org.</b></div><div class=\"sk-container\" hidden><div class=\"sk-item\"><div class=\"sk-estimator sk-toggleable\"><input class=\"sk-toggleable__control sk-hidden--visually\" id=\"sk-estimator-id-5\" type=\"checkbox\" checked><label for=\"sk-estimator-id-5\" class=\"sk-toggleable__label sk-toggleable__label-arrow\">KNeighborsClassifier</label><div class=\"sk-toggleable__content\"><pre>KNeighborsClassifier()</pre></div></div></div></div></div>"
      ],
      "text/plain": [
       "KNeighborsClassifier()"
      ]
     },
     "execution_count": 46,
     "metadata": {},
     "output_type": "execute_result"
    }
   ],
   "source": [
    "from sklearn.neighbors import KNeighborsClassifier\n",
    "model4=KNeighborsClassifier()\n",
    "model4.fit(xtrain,ytrain)"
   ]
  },
  {
   "cell_type": "code",
   "execution_count": 47,
   "id": "c8c239ad",
   "metadata": {
    "execution": {
     "iopub.execute_input": "2023-06-05T17:07:24.278384Z",
     "iopub.status.busy": "2023-06-05T17:07:24.278020Z",
     "iopub.status.idle": "2023-06-05T17:07:24.297674Z",
     "shell.execute_reply": "2023-06-05T17:07:24.296654Z"
    },
    "papermill": {
     "duration": 0.045905,
     "end_time": "2023-06-05T17:07:24.299790",
     "exception": false,
     "start_time": "2023-06-05T17:07:24.253885",
     "status": "completed"
    },
    "tags": []
   },
   "outputs": [
    {
     "data": {
      "text/plain": [
       "array([0, 2, 2, 0, 2, 2, 2, 0, 0, 0, 2, 0, 2, 2, 0, 0, 0, 0, 0, 2, 1, 1,\n",
       "       2, 2, 0, 2, 0, 0, 2, 2, 0, 0, 0, 0, 2, 0, 2, 2, 1, 2, 0, 2, 0, 2,\n",
       "       0, 0, 0, 2, 0, 0, 0, 0, 2, 2, 0, 2, 0, 2, 2, 2, 0, 2, 2, 2, 2, 2,\n",
       "       0, 0, 2, 0, 0, 0, 0, 0, 0, 0, 0, 0, 0, 2, 1, 0, 0, 2, 0, 2, 1, 2,\n",
       "       1, 2, 2, 2, 0, 2, 0, 0, 2, 2, 0, 0, 2, 2, 0, 2, 2, 2, 2, 0, 0, 2,\n",
       "       1, 2, 0, 0, 0, 2, 0, 2, 2, 0, 0, 0, 0, 2, 2, 0, 1, 1, 0, 0, 2, 0,\n",
       "       2, 0, 2, 0, 0, 0, 0, 0, 0, 0, 0, 0, 2, 0, 2, 0, 0, 2, 0, 0, 0, 0,\n",
       "       0, 2, 0, 0, 0, 2, 0, 2, 0, 0, 2, 2, 2, 0, 2, 1, 2, 0, 1, 0, 0, 0,\n",
       "       0, 0, 0, 0, 0, 0, 0, 2, 0, 2, 0, 2, 0, 2, 2, 0, 2, 0, 0, 0, 0, 0,\n",
       "       0, 0, 1, 0, 2, 2, 0, 2, 0, 0, 1, 2, 2, 2, 2, 2, 1, 1, 0, 1, 0, 2,\n",
       "       0, 1, 0, 0, 0, 1, 0, 2, 0, 0, 2, 2, 0, 0, 2, 1, 2, 0, 2, 2, 2, 0,\n",
       "       0, 0, 2, 2, 0, 1, 0, 0, 2, 2, 0, 2, 0, 0, 1, 2, 2, 2, 0, 0, 0, 0,\n",
       "       0, 2, 1, 0, 2, 0, 1, 0, 0, 2, 0])"
      ]
     },
     "execution_count": 47,
     "metadata": {},
     "output_type": "execute_result"
    }
   ],
   "source": [
    "p=model4.predict(xtrain)\n",
    "p"
   ]
  },
  {
   "cell_type": "code",
   "execution_count": 48,
   "id": "7c98487c",
   "metadata": {
    "execution": {
     "iopub.execute_input": "2023-06-05T17:07:24.345445Z",
     "iopub.status.busy": "2023-06-05T17:07:24.345119Z",
     "iopub.status.idle": "2023-06-05T17:07:24.352416Z",
     "shell.execute_reply": "2023-06-05T17:07:24.351419Z"
    },
    "papermill": {
     "duration": 0.03282,
     "end_time": "2023-06-05T17:07:24.354855",
     "exception": false,
     "start_time": "2023-06-05T17:07:24.322035",
     "status": "completed"
    },
    "tags": []
   },
   "outputs": [
    {
     "data": {
      "text/plain": [
       "84.0"
      ]
     },
     "execution_count": 48,
     "metadata": {},
     "output_type": "execute_result"
    }
   ],
   "source": [
    "q=accuracy_score(ytrain,p)*100\n",
    "q"
   ]
  },
  {
   "cell_type": "code",
   "execution_count": 49,
   "id": "512ce5da",
   "metadata": {
    "execution": {
     "iopub.execute_input": "2023-06-05T17:07:24.401703Z",
     "iopub.status.busy": "2023-06-05T17:07:24.401273Z",
     "iopub.status.idle": "2023-06-05T17:07:24.415669Z",
     "shell.execute_reply": "2023-06-05T17:07:24.414770Z"
    },
    "papermill": {
     "duration": 0.039829,
     "end_time": "2023-06-05T17:07:24.417659",
     "exception": false,
     "start_time": "2023-06-05T17:07:24.377830",
     "status": "completed"
    },
    "tags": []
   },
   "outputs": [
    {
     "data": {
      "text/plain": [
       "array([0, 0, 2, 0, 2, 2, 2, 1, 0, 0, 2, 0, 0, 0, 2, 1, 0, 2, 2, 0, 0, 0,\n",
       "       2, 0, 0, 0, 2, 0, 0, 0, 0, 0, 1, 0, 2, 0, 2, 1, 1, 0, 2, 2, 2, 0,\n",
       "       2, 2, 2, 0, 0, 0, 0, 2, 2, 0, 0, 0, 0, 0, 0, 2, 1, 0, 2, 2, 2, 0,\n",
       "       0, 0, 0])"
      ]
     },
     "execution_count": 49,
     "metadata": {},
     "output_type": "execute_result"
    }
   ],
   "source": [
    "p1=model4.predict(xtest)\n",
    "p1"
   ]
  },
  {
   "cell_type": "code",
   "execution_count": 50,
   "id": "3edb1e16",
   "metadata": {
    "execution": {
     "iopub.execute_input": "2023-06-05T17:07:24.465204Z",
     "iopub.status.busy": "2023-06-05T17:07:24.464829Z",
     "iopub.status.idle": "2023-06-05T17:07:24.470983Z",
     "shell.execute_reply": "2023-06-05T17:07:24.470308Z"
    },
    "papermill": {
     "duration": 0.032965,
     "end_time": "2023-06-05T17:07:24.473366",
     "exception": false,
     "start_time": "2023-06-05T17:07:24.440401",
     "status": "completed"
    },
    "tags": []
   },
   "outputs": [
    {
     "data": {
      "text/plain": [
       "68.11594202898551"
      ]
     },
     "execution_count": 50,
     "metadata": {},
     "output_type": "execute_result"
    }
   ],
   "source": [
    "q1=accuracy_score(ytest,p1)*100\n",
    "q1"
   ]
  },
  {
   "cell_type": "markdown",
   "id": "4b67dafe",
   "metadata": {
    "papermill": {
     "duration": 0.022911,
     "end_time": "2023-06-05T17:07:24.519522",
     "exception": false,
     "start_time": "2023-06-05T17:07:24.496611",
     "status": "completed"
    },
    "tags": []
   },
   "source": [
    "# Navie Bayes"
   ]
  },
  {
   "cell_type": "code",
   "execution_count": 51,
   "id": "0e44eb0f",
   "metadata": {
    "execution": {
     "iopub.execute_input": "2023-06-05T17:07:24.570791Z",
     "iopub.status.busy": "2023-06-05T17:07:24.570243Z",
     "iopub.status.idle": "2023-06-05T17:07:24.591287Z",
     "shell.execute_reply": "2023-06-05T17:07:24.589488Z"
    },
    "papermill": {
     "duration": 0.050792,
     "end_time": "2023-06-05T17:07:24.593604",
     "exception": false,
     "start_time": "2023-06-05T17:07:24.542812",
     "status": "completed"
    },
    "tags": []
   },
   "outputs": [
    {
     "data": {
      "text/html": [
       "<style>#sk-container-id-6 {color: black;background-color: white;}#sk-container-id-6 pre{padding: 0;}#sk-container-id-6 div.sk-toggleable {background-color: white;}#sk-container-id-6 label.sk-toggleable__label {cursor: pointer;display: block;width: 100%;margin-bottom: 0;padding: 0.3em;box-sizing: border-box;text-align: center;}#sk-container-id-6 label.sk-toggleable__label-arrow:before {content: \"▸\";float: left;margin-right: 0.25em;color: #696969;}#sk-container-id-6 label.sk-toggleable__label-arrow:hover:before {color: black;}#sk-container-id-6 div.sk-estimator:hover label.sk-toggleable__label-arrow:before {color: black;}#sk-container-id-6 div.sk-toggleable__content {max-height: 0;max-width: 0;overflow: hidden;text-align: left;background-color: #f0f8ff;}#sk-container-id-6 div.sk-toggleable__content pre {margin: 0.2em;color: black;border-radius: 0.25em;background-color: #f0f8ff;}#sk-container-id-6 input.sk-toggleable__control:checked~div.sk-toggleable__content {max-height: 200px;max-width: 100%;overflow: auto;}#sk-container-id-6 input.sk-toggleable__control:checked~label.sk-toggleable__label-arrow:before {content: \"▾\";}#sk-container-id-6 div.sk-estimator input.sk-toggleable__control:checked~label.sk-toggleable__label {background-color: #d4ebff;}#sk-container-id-6 div.sk-label input.sk-toggleable__control:checked~label.sk-toggleable__label {background-color: #d4ebff;}#sk-container-id-6 input.sk-hidden--visually {border: 0;clip: rect(1px 1px 1px 1px);clip: rect(1px, 1px, 1px, 1px);height: 1px;margin: -1px;overflow: hidden;padding: 0;position: absolute;width: 1px;}#sk-container-id-6 div.sk-estimator {font-family: monospace;background-color: #f0f8ff;border: 1px dotted black;border-radius: 0.25em;box-sizing: border-box;margin-bottom: 0.5em;}#sk-container-id-6 div.sk-estimator:hover {background-color: #d4ebff;}#sk-container-id-6 div.sk-parallel-item::after {content: \"\";width: 100%;border-bottom: 1px solid gray;flex-grow: 1;}#sk-container-id-6 div.sk-label:hover label.sk-toggleable__label {background-color: #d4ebff;}#sk-container-id-6 div.sk-serial::before {content: \"\";position: absolute;border-left: 1px solid gray;box-sizing: border-box;top: 0;bottom: 0;left: 50%;z-index: 0;}#sk-container-id-6 div.sk-serial {display: flex;flex-direction: column;align-items: center;background-color: white;padding-right: 0.2em;padding-left: 0.2em;position: relative;}#sk-container-id-6 div.sk-item {position: relative;z-index: 1;}#sk-container-id-6 div.sk-parallel {display: flex;align-items: stretch;justify-content: center;background-color: white;position: relative;}#sk-container-id-6 div.sk-item::before, #sk-container-id-6 div.sk-parallel-item::before {content: \"\";position: absolute;border-left: 1px solid gray;box-sizing: border-box;top: 0;bottom: 0;left: 50%;z-index: -1;}#sk-container-id-6 div.sk-parallel-item {display: flex;flex-direction: column;z-index: 1;position: relative;background-color: white;}#sk-container-id-6 div.sk-parallel-item:first-child::after {align-self: flex-end;width: 50%;}#sk-container-id-6 div.sk-parallel-item:last-child::after {align-self: flex-start;width: 50%;}#sk-container-id-6 div.sk-parallel-item:only-child::after {width: 0;}#sk-container-id-6 div.sk-dashed-wrapped {border: 1px dashed gray;margin: 0 0.4em 0.5em 0.4em;box-sizing: border-box;padding-bottom: 0.4em;background-color: white;}#sk-container-id-6 div.sk-label label {font-family: monospace;font-weight: bold;display: inline-block;line-height: 1.2em;}#sk-container-id-6 div.sk-label-container {text-align: center;}#sk-container-id-6 div.sk-container {/* jupyter's `normalize.less` sets `[hidden] { display: none; }` but bootstrap.min.css set `[hidden] { display: none !important; }` so we also need the `!important` here to be able to override the default hidden behavior on the sphinx rendered scikit-learn.org. See: https://github.com/scikit-learn/scikit-learn/issues/21755 */display: inline-block !important;position: relative;}#sk-container-id-6 div.sk-text-repr-fallback {display: none;}</style><div id=\"sk-container-id-6\" class=\"sk-top-container\"><div class=\"sk-text-repr-fallback\"><pre>GaussianNB()</pre><b>In a Jupyter environment, please rerun this cell to show the HTML representation or trust the notebook. <br />On GitHub, the HTML representation is unable to render, please try loading this page with nbviewer.org.</b></div><div class=\"sk-container\" hidden><div class=\"sk-item\"><div class=\"sk-estimator sk-toggleable\"><input class=\"sk-toggleable__control sk-hidden--visually\" id=\"sk-estimator-id-6\" type=\"checkbox\" checked><label for=\"sk-estimator-id-6\" class=\"sk-toggleable__label sk-toggleable__label-arrow\">GaussianNB</label><div class=\"sk-toggleable__content\"><pre>GaussianNB()</pre></div></div></div></div></div>"
      ],
      "text/plain": [
       "GaussianNB()"
      ]
     },
     "execution_count": 51,
     "metadata": {},
     "output_type": "execute_result"
    }
   ],
   "source": [
    "from sklearn.naive_bayes import GaussianNB\n",
    "model5=GaussianNB()\n",
    "model5.fit(xtrain,ytrain)"
   ]
  },
  {
   "cell_type": "code",
   "execution_count": 52,
   "id": "1f7d9d44",
   "metadata": {
    "execution": {
     "iopub.execute_input": "2023-06-05T17:07:24.641724Z",
     "iopub.status.busy": "2023-06-05T17:07:24.641326Z",
     "iopub.status.idle": "2023-06-05T17:07:24.651671Z",
     "shell.execute_reply": "2023-06-05T17:07:24.650830Z"
    },
    "papermill": {
     "duration": 0.036792,
     "end_time": "2023-06-05T17:07:24.653387",
     "exception": false,
     "start_time": "2023-06-05T17:07:24.616595",
     "status": "completed"
    },
    "scrolled": true,
    "tags": []
   },
   "outputs": [
    {
     "data": {
      "text/plain": [
       "array([0, 2, 0, 0, 2, 2, 2, 0, 0, 0, 2, 0, 2, 2, 0, 1, 1, 0, 0, 2, 0, 1,\n",
       "       2, 2, 0, 2, 1, 0, 0, 2, 0, 0, 0, 0, 2, 0, 2, 2, 1, 2, 0, 2, 0, 0,\n",
       "       1, 0, 0, 2, 2, 0, 0, 0, 2, 2, 0, 2, 0, 2, 2, 0, 1, 2, 2, 2, 2, 1,\n",
       "       0, 0, 2, 0, 2, 0, 0, 0, 0, 0, 0, 0, 0, 2, 1, 0, 0, 2, 0, 2, 1, 2,\n",
       "       1, 2, 2, 2, 1, 2, 0, 0, 2, 2, 1, 0, 2, 2, 0, 2, 2, 2, 2, 1, 1, 2,\n",
       "       1, 2, 0, 0, 1, 2, 0, 2, 2, 0, 0, 2, 0, 0, 2, 0, 1, 1, 0, 1, 2, 0,\n",
       "       2, 0, 2, 1, 1, 0, 1, 0, 0, 0, 1, 0, 2, 0, 2, 0, 1, 2, 1, 1, 0, 1,\n",
       "       0, 2, 1, 0, 0, 2, 0, 2, 0, 0, 2, 2, 2, 0, 2, 1, 2, 1, 1, 0, 1, 0,\n",
       "       0, 1, 0, 0, 2, 0, 0, 2, 0, 2, 1, 2, 0, 2, 2, 1, 2, 0, 0, 0, 0, 0,\n",
       "       0, 0, 1, 0, 2, 2, 1, 2, 2, 1, 1, 2, 2, 2, 2, 2, 1, 1, 1, 1, 1, 2,\n",
       "       0, 0, 0, 1, 0, 1, 0, 2, 1, 0, 2, 2, 0, 0, 2, 1, 2, 0, 2, 2, 2, 0,\n",
       "       0, 1, 1, 2, 1, 1, 0, 0, 2, 2, 0, 2, 1, 2, 1, 2, 2, 2, 0, 0, 1, 1,\n",
       "       0, 2, 1, 0, 2, 0, 1, 0, 0, 2, 0])"
      ]
     },
     "execution_count": 52,
     "metadata": {},
     "output_type": "execute_result"
    }
   ],
   "source": [
    "p=model5.predict(xtrain)\n",
    "p"
   ]
  },
  {
   "cell_type": "code",
   "execution_count": 53,
   "id": "db10c23c",
   "metadata": {
    "execution": {
     "iopub.execute_input": "2023-06-05T17:07:24.701348Z",
     "iopub.status.busy": "2023-06-05T17:07:24.700974Z",
     "iopub.status.idle": "2023-06-05T17:07:24.709178Z",
     "shell.execute_reply": "2023-06-05T17:07:24.707723Z"
    },
    "papermill": {
     "duration": 0.035438,
     "end_time": "2023-06-05T17:07:24.712068",
     "exception": false,
     "start_time": "2023-06-05T17:07:24.676630",
     "status": "completed"
    },
    "tags": []
   },
   "outputs": [
    {
     "data": {
      "text/plain": [
       "96.72727272727273"
      ]
     },
     "execution_count": 53,
     "metadata": {},
     "output_type": "execute_result"
    }
   ],
   "source": [
    "q=accuracy_score(ytrain,p)*100\n",
    "q"
   ]
  },
  {
   "cell_type": "code",
   "execution_count": 54,
   "id": "f4c58e43",
   "metadata": {
    "execution": {
     "iopub.execute_input": "2023-06-05T17:07:24.762238Z",
     "iopub.status.busy": "2023-06-05T17:07:24.761808Z",
     "iopub.status.idle": "2023-06-05T17:07:24.769150Z",
     "shell.execute_reply": "2023-06-05T17:07:24.768495Z"
    },
    "papermill": {
     "duration": 0.034692,
     "end_time": "2023-06-05T17:07:24.770928",
     "exception": false,
     "start_time": "2023-06-05T17:07:24.736236",
     "status": "completed"
    },
    "tags": []
   },
   "outputs": [
    {
     "data": {
      "text/plain": [
       "array([1, 1, 2, 1, 2, 2, 2, 2, 0, 2, 2, 0, 0, 0, 2, 0, 0, 2, 2, 0, 1, 0,\n",
       "       2, 0, 1, 1, 0, 1, 0, 1, 0, 0, 1, 0, 0, 0, 2, 1, 0, 1, 2, 2, 2, 0,\n",
       "       0, 0, 2, 0, 0, 1, 0, 2, 2, 0, 0, 1, 0, 1, 1, 2, 1, 0, 2, 0, 2, 0,\n",
       "       0, 0, 0])"
      ]
     },
     "execution_count": 54,
     "metadata": {},
     "output_type": "execute_result"
    }
   ],
   "source": [
    "p1=model5.predict(xtest)\n",
    "p1"
   ]
  },
  {
   "cell_type": "code",
   "execution_count": 55,
   "id": "c1191471",
   "metadata": {
    "execution": {
     "iopub.execute_input": "2023-06-05T17:07:24.820883Z",
     "iopub.status.busy": "2023-06-05T17:07:24.819158Z",
     "iopub.status.idle": "2023-06-05T17:07:24.828382Z",
     "shell.execute_reply": "2023-06-05T17:07:24.827025Z"
    },
    "papermill": {
     "duration": 0.03651,
     "end_time": "2023-06-05T17:07:24.830941",
     "exception": false,
     "start_time": "2023-06-05T17:07:24.794431",
     "status": "completed"
    },
    "tags": []
   },
   "outputs": [
    {
     "data": {
      "text/plain": [
       "97.10144927536231"
      ]
     },
     "execution_count": 55,
     "metadata": {},
     "output_type": "execute_result"
    }
   ],
   "source": [
    "q1=accuracy_score(ytest,p1)*100\n",
    "q1\n"
   ]
  },
  {
   "cell_type": "code",
   "execution_count": 56,
   "id": "fbb7538f",
   "metadata": {
    "execution": {
     "iopub.execute_input": "2023-06-05T17:07:24.878968Z",
     "iopub.status.busy": "2023-06-05T17:07:24.878603Z",
     "iopub.status.idle": "2023-06-05T17:07:24.893295Z",
     "shell.execute_reply": "2023-06-05T17:07:24.891841Z"
    },
    "papermill": {
     "duration": 0.04155,
     "end_time": "2023-06-05T17:07:24.895435",
     "exception": false,
     "start_time": "2023-06-05T17:07:24.853885",
     "status": "completed"
    },
    "tags": []
   },
   "outputs": [
    {
     "data": {
      "text/html": [
       "<style>#sk-container-id-7 {color: black;background-color: white;}#sk-container-id-7 pre{padding: 0;}#sk-container-id-7 div.sk-toggleable {background-color: white;}#sk-container-id-7 label.sk-toggleable__label {cursor: pointer;display: block;width: 100%;margin-bottom: 0;padding: 0.3em;box-sizing: border-box;text-align: center;}#sk-container-id-7 label.sk-toggleable__label-arrow:before {content: \"▸\";float: left;margin-right: 0.25em;color: #696969;}#sk-container-id-7 label.sk-toggleable__label-arrow:hover:before {color: black;}#sk-container-id-7 div.sk-estimator:hover label.sk-toggleable__label-arrow:before {color: black;}#sk-container-id-7 div.sk-toggleable__content {max-height: 0;max-width: 0;overflow: hidden;text-align: left;background-color: #f0f8ff;}#sk-container-id-7 div.sk-toggleable__content pre {margin: 0.2em;color: black;border-radius: 0.25em;background-color: #f0f8ff;}#sk-container-id-7 input.sk-toggleable__control:checked~div.sk-toggleable__content {max-height: 200px;max-width: 100%;overflow: auto;}#sk-container-id-7 input.sk-toggleable__control:checked~label.sk-toggleable__label-arrow:before {content: \"▾\";}#sk-container-id-7 div.sk-estimator input.sk-toggleable__control:checked~label.sk-toggleable__label {background-color: #d4ebff;}#sk-container-id-7 div.sk-label input.sk-toggleable__control:checked~label.sk-toggleable__label {background-color: #d4ebff;}#sk-container-id-7 input.sk-hidden--visually {border: 0;clip: rect(1px 1px 1px 1px);clip: rect(1px, 1px, 1px, 1px);height: 1px;margin: -1px;overflow: hidden;padding: 0;position: absolute;width: 1px;}#sk-container-id-7 div.sk-estimator {font-family: monospace;background-color: #f0f8ff;border: 1px dotted black;border-radius: 0.25em;box-sizing: border-box;margin-bottom: 0.5em;}#sk-container-id-7 div.sk-estimator:hover {background-color: #d4ebff;}#sk-container-id-7 div.sk-parallel-item::after {content: \"\";width: 100%;border-bottom: 1px solid gray;flex-grow: 1;}#sk-container-id-7 div.sk-label:hover label.sk-toggleable__label {background-color: #d4ebff;}#sk-container-id-7 div.sk-serial::before {content: \"\";position: absolute;border-left: 1px solid gray;box-sizing: border-box;top: 0;bottom: 0;left: 50%;z-index: 0;}#sk-container-id-7 div.sk-serial {display: flex;flex-direction: column;align-items: center;background-color: white;padding-right: 0.2em;padding-left: 0.2em;position: relative;}#sk-container-id-7 div.sk-item {position: relative;z-index: 1;}#sk-container-id-7 div.sk-parallel {display: flex;align-items: stretch;justify-content: center;background-color: white;position: relative;}#sk-container-id-7 div.sk-item::before, #sk-container-id-7 div.sk-parallel-item::before {content: \"\";position: absolute;border-left: 1px solid gray;box-sizing: border-box;top: 0;bottom: 0;left: 50%;z-index: -1;}#sk-container-id-7 div.sk-parallel-item {display: flex;flex-direction: column;z-index: 1;position: relative;background-color: white;}#sk-container-id-7 div.sk-parallel-item:first-child::after {align-self: flex-end;width: 50%;}#sk-container-id-7 div.sk-parallel-item:last-child::after {align-self: flex-start;width: 50%;}#sk-container-id-7 div.sk-parallel-item:only-child::after {width: 0;}#sk-container-id-7 div.sk-dashed-wrapped {border: 1px dashed gray;margin: 0 0.4em 0.5em 0.4em;box-sizing: border-box;padding-bottom: 0.4em;background-color: white;}#sk-container-id-7 div.sk-label label {font-family: monospace;font-weight: bold;display: inline-block;line-height: 1.2em;}#sk-container-id-7 div.sk-label-container {text-align: center;}#sk-container-id-7 div.sk-container {/* jupyter's `normalize.less` sets `[hidden] { display: none; }` but bootstrap.min.css set `[hidden] { display: none !important; }` so we also need the `!important` here to be able to override the default hidden behavior on the sphinx rendered scikit-learn.org. See: https://github.com/scikit-learn/scikit-learn/issues/21755 */display: inline-block !important;position: relative;}#sk-container-id-7 div.sk-text-repr-fallback {display: none;}</style><div id=\"sk-container-id-7\" class=\"sk-top-container\"><div class=\"sk-text-repr-fallback\"><pre>MultinomialNB()</pre><b>In a Jupyter environment, please rerun this cell to show the HTML representation or trust the notebook. <br />On GitHub, the HTML representation is unable to render, please try loading this page with nbviewer.org.</b></div><div class=\"sk-container\" hidden><div class=\"sk-item\"><div class=\"sk-estimator sk-toggleable\"><input class=\"sk-toggleable__control sk-hidden--visually\" id=\"sk-estimator-id-7\" type=\"checkbox\" checked><label for=\"sk-estimator-id-7\" class=\"sk-toggleable__label sk-toggleable__label-arrow\">MultinomialNB</label><div class=\"sk-toggleable__content\"><pre>MultinomialNB()</pre></div></div></div></div></div>"
      ],
      "text/plain": [
       "MultinomialNB()"
      ]
     },
     "execution_count": 56,
     "metadata": {},
     "output_type": "execute_result"
    }
   ],
   "source": [
    "from sklearn.naive_bayes import MultinomialNB\n",
    "model6=MultinomialNB()                                              #MultinomialNB\n",
    "model6.fit(xtrain,ytrain)"
   ]
  },
  {
   "cell_type": "code",
   "execution_count": 57,
   "id": "608d0d2c",
   "metadata": {
    "execution": {
     "iopub.execute_input": "2023-06-05T17:07:24.944750Z",
     "iopub.status.busy": "2023-06-05T17:07:24.944361Z",
     "iopub.status.idle": "2023-06-05T17:07:24.953865Z",
     "shell.execute_reply": "2023-06-05T17:07:24.952449Z"
    },
    "papermill": {
     "duration": 0.036489,
     "end_time": "2023-06-05T17:07:24.955798",
     "exception": false,
     "start_time": "2023-06-05T17:07:24.919309",
     "status": "completed"
    },
    "tags": []
   },
   "outputs": [
    {
     "data": {
      "text/plain": [
       "array([1, 0, 2, 1, 2, 2, 2, 0, 0, 2, 2, 1, 0, 0, 2, 0, 0, 2, 2, 0, 0, 0,\n",
       "       2, 0, 0, 0, 2, 0, 0, 1, 0, 0, 1, 0, 2, 0, 2, 0, 0, 1, 2, 2, 2, 0,\n",
       "       0, 2, 2, 0, 0, 1, 0, 2, 2, 0, 0, 1, 0, 1, 1, 2, 0, 2, 2, 2, 2, 0,\n",
       "       0, 0, 0])"
      ]
     },
     "execution_count": 57,
     "metadata": {},
     "output_type": "execute_result"
    }
   ],
   "source": [
    "p=model6.predict(xtest)\n",
    "p"
   ]
  },
  {
   "cell_type": "code",
   "execution_count": 58,
   "id": "4552dfc7",
   "metadata": {
    "execution": {
     "iopub.execute_input": "2023-06-05T17:07:25.004998Z",
     "iopub.status.busy": "2023-06-05T17:07:25.004638Z",
     "iopub.status.idle": "2023-06-05T17:07:25.012413Z",
     "shell.execute_reply": "2023-06-05T17:07:25.011418Z"
    },
    "papermill": {
     "duration": 0.035296,
     "end_time": "2023-06-05T17:07:25.014162",
     "exception": false,
     "start_time": "2023-06-05T17:07:24.978866",
     "status": "completed"
    },
    "tags": []
   },
   "outputs": [
    {
     "data": {
      "text/plain": [
       "79.71014492753623"
      ]
     },
     "execution_count": 58,
     "metadata": {},
     "output_type": "execute_result"
    }
   ],
   "source": [
    "q=accuracy_score(ytest,p)*100\n",
    "q"
   ]
  },
  {
   "cell_type": "code",
   "execution_count": 59,
   "id": "e8fa8995",
   "metadata": {
    "execution": {
     "iopub.execute_input": "2023-06-05T17:07:25.063913Z",
     "iopub.status.busy": "2023-06-05T17:07:25.063499Z",
     "iopub.status.idle": "2023-06-05T17:07:25.071515Z",
     "shell.execute_reply": "2023-06-05T17:07:25.070884Z"
    },
    "papermill": {
     "duration": 0.034829,
     "end_time": "2023-06-05T17:07:25.073115",
     "exception": false,
     "start_time": "2023-06-05T17:07:25.038286",
     "status": "completed"
    },
    "tags": []
   },
   "outputs": [
    {
     "data": {
      "text/plain": [
       "array([0, 2, 0, 0, 2, 2, 2, 0, 0, 0, 2, 0, 2, 2, 0, 1, 1, 0, 0, 2, 0, 0,\n",
       "       2, 2, 0, 2, 1, 0, 0, 2, 0, 0, 0, 1, 0, 0, 2, 2, 0, 2, 0, 2, 0, 2,\n",
       "       0, 0, 0, 2, 2, 2, 0, 0, 2, 2, 0, 2, 0, 2, 2, 0, 1, 0, 2, 2, 2, 0,\n",
       "       0, 0, 2, 0, 2, 0, 1, 0, 0, 0, 1, 0, 2, 2, 1, 0, 0, 0, 0, 2, 1, 2,\n",
       "       1, 2, 2, 2, 1, 2, 0, 0, 2, 2, 0, 1, 2, 2, 0, 2, 2, 2, 2, 0, 0, 2,\n",
       "       1, 2, 0, 0, 0, 2, 0, 2, 2, 0, 0, 2, 0, 0, 2, 0, 1, 1, 0, 1, 2, 0,\n",
       "       2, 0, 2, 0, 1, 0, 1, 1, 0, 0, 1, 0, 2, 0, 2, 2, 0, 2, 1, 0, 0, 0,\n",
       "       0, 2, 1, 0, 0, 2, 0, 2, 0, 0, 2, 2, 2, 0, 2, 0, 2, 0, 1, 2, 0, 0,\n",
       "       0, 1, 2, 0, 0, 0, 0, 2, 0, 2, 1, 2, 1, 2, 2, 0, 2, 0, 0, 0, 1, 0,\n",
       "       1, 0, 1, 0, 2, 2, 1, 2, 0, 1, 1, 2, 2, 2, 2, 2, 1, 1, 0, 1, 1, 2,\n",
       "       0, 0, 0, 0, 0, 0, 0, 2, 0, 0, 2, 2, 0, 0, 2, 1, 2, 0, 2, 2, 2, 0,\n",
       "       0, 1, 0, 2, 0, 1, 1, 0, 2, 2, 0, 2, 0, 2, 0, 2, 2, 2, 0, 0, 0, 0,\n",
       "       0, 2, 0, 0, 2, 0, 0, 0, 0, 2, 0])"
      ]
     },
     "execution_count": 59,
     "metadata": {},
     "output_type": "execute_result"
    }
   ],
   "source": [
    "p1=model6.predict(xtrain)\n",
    "p1"
   ]
  },
  {
   "cell_type": "code",
   "execution_count": 60,
   "id": "2259e4bb",
   "metadata": {
    "execution": {
     "iopub.execute_input": "2023-06-05T17:07:25.123766Z",
     "iopub.status.busy": "2023-06-05T17:07:25.123062Z",
     "iopub.status.idle": "2023-06-05T17:07:25.130333Z",
     "shell.execute_reply": "2023-06-05T17:07:25.129452Z"
    },
    "papermill": {
     "duration": 0.035497,
     "end_time": "2023-06-05T17:07:25.132740",
     "exception": false,
     "start_time": "2023-06-05T17:07:25.097243",
     "status": "completed"
    },
    "tags": []
   },
   "outputs": [
    {
     "data": {
      "text/plain": [
       "85.81818181818181"
      ]
     },
     "execution_count": 60,
     "metadata": {},
     "output_type": "execute_result"
    }
   ],
   "source": [
    "q1=accuracy_score(ytrain,p1)*100\n",
    "q1"
   ]
  },
  {
   "cell_type": "code",
   "execution_count": 61,
   "id": "5c9fb39b",
   "metadata": {
    "execution": {
     "iopub.execute_input": "2023-06-05T17:07:25.183665Z",
     "iopub.status.busy": "2023-06-05T17:07:25.183258Z",
     "iopub.status.idle": "2023-06-05T17:07:25.196010Z",
     "shell.execute_reply": "2023-06-05T17:07:25.195324Z"
    },
    "papermill": {
     "duration": 0.039886,
     "end_time": "2023-06-05T17:07:25.197760",
     "exception": false,
     "start_time": "2023-06-05T17:07:25.157874",
     "status": "completed"
    },
    "tags": []
   },
   "outputs": [
    {
     "data": {
      "text/html": [
       "<style>#sk-container-id-8 {color: black;background-color: white;}#sk-container-id-8 pre{padding: 0;}#sk-container-id-8 div.sk-toggleable {background-color: white;}#sk-container-id-8 label.sk-toggleable__label {cursor: pointer;display: block;width: 100%;margin-bottom: 0;padding: 0.3em;box-sizing: border-box;text-align: center;}#sk-container-id-8 label.sk-toggleable__label-arrow:before {content: \"▸\";float: left;margin-right: 0.25em;color: #696969;}#sk-container-id-8 label.sk-toggleable__label-arrow:hover:before {color: black;}#sk-container-id-8 div.sk-estimator:hover label.sk-toggleable__label-arrow:before {color: black;}#sk-container-id-8 div.sk-toggleable__content {max-height: 0;max-width: 0;overflow: hidden;text-align: left;background-color: #f0f8ff;}#sk-container-id-8 div.sk-toggleable__content pre {margin: 0.2em;color: black;border-radius: 0.25em;background-color: #f0f8ff;}#sk-container-id-8 input.sk-toggleable__control:checked~div.sk-toggleable__content {max-height: 200px;max-width: 100%;overflow: auto;}#sk-container-id-8 input.sk-toggleable__control:checked~label.sk-toggleable__label-arrow:before {content: \"▾\";}#sk-container-id-8 div.sk-estimator input.sk-toggleable__control:checked~label.sk-toggleable__label {background-color: #d4ebff;}#sk-container-id-8 div.sk-label input.sk-toggleable__control:checked~label.sk-toggleable__label {background-color: #d4ebff;}#sk-container-id-8 input.sk-hidden--visually {border: 0;clip: rect(1px 1px 1px 1px);clip: rect(1px, 1px, 1px, 1px);height: 1px;margin: -1px;overflow: hidden;padding: 0;position: absolute;width: 1px;}#sk-container-id-8 div.sk-estimator {font-family: monospace;background-color: #f0f8ff;border: 1px dotted black;border-radius: 0.25em;box-sizing: border-box;margin-bottom: 0.5em;}#sk-container-id-8 div.sk-estimator:hover {background-color: #d4ebff;}#sk-container-id-8 div.sk-parallel-item::after {content: \"\";width: 100%;border-bottom: 1px solid gray;flex-grow: 1;}#sk-container-id-8 div.sk-label:hover label.sk-toggleable__label {background-color: #d4ebff;}#sk-container-id-8 div.sk-serial::before {content: \"\";position: absolute;border-left: 1px solid gray;box-sizing: border-box;top: 0;bottom: 0;left: 50%;z-index: 0;}#sk-container-id-8 div.sk-serial {display: flex;flex-direction: column;align-items: center;background-color: white;padding-right: 0.2em;padding-left: 0.2em;position: relative;}#sk-container-id-8 div.sk-item {position: relative;z-index: 1;}#sk-container-id-8 div.sk-parallel {display: flex;align-items: stretch;justify-content: center;background-color: white;position: relative;}#sk-container-id-8 div.sk-item::before, #sk-container-id-8 div.sk-parallel-item::before {content: \"\";position: absolute;border-left: 1px solid gray;box-sizing: border-box;top: 0;bottom: 0;left: 50%;z-index: -1;}#sk-container-id-8 div.sk-parallel-item {display: flex;flex-direction: column;z-index: 1;position: relative;background-color: white;}#sk-container-id-8 div.sk-parallel-item:first-child::after {align-self: flex-end;width: 50%;}#sk-container-id-8 div.sk-parallel-item:last-child::after {align-self: flex-start;width: 50%;}#sk-container-id-8 div.sk-parallel-item:only-child::after {width: 0;}#sk-container-id-8 div.sk-dashed-wrapped {border: 1px dashed gray;margin: 0 0.4em 0.5em 0.4em;box-sizing: border-box;padding-bottom: 0.4em;background-color: white;}#sk-container-id-8 div.sk-label label {font-family: monospace;font-weight: bold;display: inline-block;line-height: 1.2em;}#sk-container-id-8 div.sk-label-container {text-align: center;}#sk-container-id-8 div.sk-container {/* jupyter's `normalize.less` sets `[hidden] { display: none; }` but bootstrap.min.css set `[hidden] { display: none !important; }` so we also need the `!important` here to be able to override the default hidden behavior on the sphinx rendered scikit-learn.org. See: https://github.com/scikit-learn/scikit-learn/issues/21755 */display: inline-block !important;position: relative;}#sk-container-id-8 div.sk-text-repr-fallback {display: none;}</style><div id=\"sk-container-id-8\" class=\"sk-top-container\"><div class=\"sk-text-repr-fallback\"><pre>BernoulliNB()</pre><b>In a Jupyter environment, please rerun this cell to show the HTML representation or trust the notebook. <br />On GitHub, the HTML representation is unable to render, please try loading this page with nbviewer.org.</b></div><div class=\"sk-container\" hidden><div class=\"sk-item\"><div class=\"sk-estimator sk-toggleable\"><input class=\"sk-toggleable__control sk-hidden--visually\" id=\"sk-estimator-id-8\" type=\"checkbox\" checked><label for=\"sk-estimator-id-8\" class=\"sk-toggleable__label sk-toggleable__label-arrow\">BernoulliNB</label><div class=\"sk-toggleable__content\"><pre>BernoulliNB()</pre></div></div></div></div></div>"
      ],
      "text/plain": [
       "BernoulliNB()"
      ]
     },
     "execution_count": 61,
     "metadata": {},
     "output_type": "execute_result"
    }
   ],
   "source": [
    "from sklearn.naive_bayes import BernoulliNB\n",
    "model7=BernoulliNB()                                        #BernoulliNB\n",
    "model7.fit(xtrain,ytrain)\n"
   ]
  },
  {
   "cell_type": "code",
   "execution_count": 62,
   "id": "ab064543",
   "metadata": {
    "execution": {
     "iopub.execute_input": "2023-06-05T17:07:25.247209Z",
     "iopub.status.busy": "2023-06-05T17:07:25.246827Z",
     "iopub.status.idle": "2023-06-05T17:07:25.255345Z",
     "shell.execute_reply": "2023-06-05T17:07:25.253962Z"
    },
    "papermill": {
     "duration": 0.035219,
     "end_time": "2023-06-05T17:07:25.257228",
     "exception": false,
     "start_time": "2023-06-05T17:07:25.222009",
     "status": "completed"
    },
    "tags": []
   },
   "outputs": [
    {
     "data": {
      "text/plain": [
       "array([0, 0, 2, 0, 2, 2, 2, 2, 2, 2, 2, 2, 0, 0, 2, 2, 2, 2, 2, 0, 0, 2,\n",
       "       2, 0, 0, 0, 2, 0, 0, 0, 2, 0, 0, 0, 0, 0, 2, 0, 0, 0, 2, 2, 2, 0,\n",
       "       0, 2, 2, 0, 0, 0, 0, 2, 2, 0, 2, 0, 0, 0, 0, 2, 0, 2, 2, 0, 2, 0,\n",
       "       0, 0, 0])"
      ]
     },
     "execution_count": 62,
     "metadata": {},
     "output_type": "execute_result"
    }
   ],
   "source": [
    "p=model7.predict(xtest)\n",
    "p"
   ]
  },
  {
   "cell_type": "code",
   "execution_count": 63,
   "id": "4a2eb95c",
   "metadata": {
    "execution": {
     "iopub.execute_input": "2023-06-05T17:07:25.307208Z",
     "iopub.status.busy": "2023-06-05T17:07:25.306783Z",
     "iopub.status.idle": "2023-06-05T17:07:25.314942Z",
     "shell.execute_reply": "2023-06-05T17:07:25.313195Z"
    },
    "papermill": {
     "duration": 0.035709,
     "end_time": "2023-06-05T17:07:25.316881",
     "exception": false,
     "start_time": "2023-06-05T17:07:25.281172",
     "status": "completed"
    },
    "tags": []
   },
   "outputs": [
    {
     "data": {
      "text/plain": [
       "62.31884057971014"
      ]
     },
     "execution_count": 63,
     "metadata": {},
     "output_type": "execute_result"
    }
   ],
   "source": [
    "q=accuracy_score(ytest,p)*100\n",
    "q"
   ]
  },
  {
   "cell_type": "code",
   "execution_count": 64,
   "id": "68cf6d47",
   "metadata": {
    "execution": {
     "iopub.execute_input": "2023-06-05T17:07:25.367813Z",
     "iopub.status.busy": "2023-06-05T17:07:25.367402Z",
     "iopub.status.idle": "2023-06-05T17:07:25.377330Z",
     "shell.execute_reply": "2023-06-05T17:07:25.376291Z"
    },
    "papermill": {
     "duration": 0.037642,
     "end_time": "2023-06-05T17:07:25.379206",
     "exception": false,
     "start_time": "2023-06-05T17:07:25.341564",
     "status": "completed"
    },
    "tags": []
   },
   "outputs": [
    {
     "data": {
      "text/plain": [
       "array([2, 2, 0, 0, 2, 2, 2, 0, 0, 0, 2, 2, 2, 2, 0, 0, 0, 0, 2, 2, 0, 0,\n",
       "       2, 2, 0, 2, 0, 0, 0, 2, 0, 2, 0, 0, 2, 0, 2, 2, 0, 2, 0, 2, 2, 2,\n",
       "       0, 0, 0, 2, 2, 0, 0, 2, 2, 2, 2, 2, 0, 2, 2, 0, 0, 2, 2, 2, 2, 0,\n",
       "       0, 0, 2, 0, 2, 0, 0, 0, 2, 0, 0, 0, 2, 2, 0, 0, 0, 2, 0, 2, 0, 2,\n",
       "       0, 2, 2, 2, 0, 2, 0, 0, 2, 2, 0, 2, 2, 2, 0, 2, 2, 2, 2, 0, 0, 2,\n",
       "       0, 2, 0, 2, 0, 2, 0, 2, 2, 0, 0, 2, 2, 0, 2, 2, 0, 0, 0, 0, 2, 0,\n",
       "       2, 2, 2, 0, 0, 0, 0, 0, 0, 2, 0, 0, 2, 0, 2, 2, 0, 2, 0, 0, 0, 0,\n",
       "       0, 2, 0, 0, 2, 2, 0, 2, 0, 0, 2, 2, 2, 2, 2, 0, 2, 0, 0, 2, 0, 0,\n",
       "       0, 0, 2, 0, 2, 0, 0, 2, 0, 2, 0, 2, 2, 2, 2, 0, 2, 0, 2, 0, 0, 0,\n",
       "       2, 0, 0, 0, 2, 2, 0, 2, 2, 0, 0, 2, 2, 2, 2, 2, 0, 0, 0, 0, 0, 2,\n",
       "       2, 2, 0, 0, 0, 0, 0, 2, 0, 2, 2, 2, 0, 0, 2, 0, 2, 0, 2, 2, 2, 2,\n",
       "       2, 0, 0, 2, 0, 0, 2, 0, 2, 2, 2, 2, 0, 2, 0, 2, 2, 2, 0, 0, 0, 0,\n",
       "       0, 2, 0, 0, 2, 2, 0, 0, 2, 2, 2])"
      ]
     },
     "execution_count": 64,
     "metadata": {},
     "output_type": "execute_result"
    }
   ],
   "source": [
    "p1=model7.predict(xtrain)\n",
    "p1"
   ]
  },
  {
   "cell_type": "code",
   "execution_count": 65,
   "id": "8b6fb94b",
   "metadata": {
    "execution": {
     "iopub.execute_input": "2023-06-05T17:07:25.433714Z",
     "iopub.status.busy": "2023-06-05T17:07:25.433141Z",
     "iopub.status.idle": "2023-06-05T17:07:25.441253Z",
     "shell.execute_reply": "2023-06-05T17:07:25.440269Z"
    },
    "papermill": {
     "duration": 0.03732,
     "end_time": "2023-06-05T17:07:25.443503",
     "exception": false,
     "start_time": "2023-06-05T17:07:25.406183",
     "status": "completed"
    },
    "tags": []
   },
   "outputs": [
    {
     "data": {
      "text/plain": [
       "68.72727272727272"
      ]
     },
     "execution_count": 65,
     "metadata": {},
     "output_type": "execute_result"
    }
   ],
   "source": [
    "q1=accuracy_score(ytrain,p1)*100\n",
    "q1"
   ]
  },
  {
   "cell_type": "code",
   "execution_count": 66,
   "id": "15db8c15",
   "metadata": {
    "execution": {
     "iopub.execute_input": "2023-06-05T17:07:25.496018Z",
     "iopub.status.busy": "2023-06-05T17:07:25.495658Z",
     "iopub.status.idle": "2023-06-05T17:07:25.500331Z",
     "shell.execute_reply": "2023-06-05T17:07:25.499273Z"
    },
    "papermill": {
     "duration": 0.033743,
     "end_time": "2023-06-05T17:07:25.502703",
     "exception": false,
     "start_time": "2023-06-05T17:07:25.468960",
     "status": "completed"
    },
    "tags": []
   },
   "outputs": [],
   "source": [
    "#We are taking RandomForestCLassifier for predicting for the exact train values"
   ]
  },
  {
   "cell_type": "markdown",
   "id": "77f0576e",
   "metadata": {
    "papermill": {
     "duration": 0.024781,
     "end_time": "2023-06-05T17:07:25.552980",
     "exception": false,
     "start_time": "2023-06-05T17:07:25.528199",
     "status": "completed"
    },
    "tags": []
   },
   "source": [
    "# Final Prediction"
   ]
  },
  {
   "cell_type": "code",
   "execution_count": 67,
   "id": "280ad732",
   "metadata": {
    "execution": {
     "iopub.execute_input": "2023-06-05T17:07:25.606130Z",
     "iopub.status.busy": "2023-06-05T17:07:25.605717Z",
     "iopub.status.idle": "2023-06-05T17:07:25.622789Z",
     "shell.execute_reply": "2023-06-05T17:07:25.621448Z"
    },
    "papermill": {
     "duration": 0.046364,
     "end_time": "2023-06-05T17:07:25.625102",
     "exception": false,
     "start_time": "2023-06-05T17:07:25.578738",
     "status": "completed"
    },
    "tags": []
   },
   "outputs": [
    {
     "data": {
      "text/plain": [
       "array([2])"
      ]
     },
     "execution_count": 67,
     "metadata": {},
     "output_type": "execute_result"
    }
   ],
   "source": [
    "a=[[0,43.92193,17.15117,200.915205,4201.754386,2]]\n",
    "b=model2.predict(a)\n",
    "b"
   ]
  },
  {
   "cell_type": "code",
   "execution_count": 68,
   "id": "bed394a3",
   "metadata": {
    "execution": {
     "iopub.execute_input": "2023-06-05T17:07:25.677123Z",
     "iopub.status.busy": "2023-06-05T17:07:25.676783Z",
     "iopub.status.idle": "2023-06-05T17:07:25.680916Z",
     "shell.execute_reply": "2023-06-05T17:07:25.680325Z"
    },
    "papermill": {
     "duration": 0.033622,
     "end_time": "2023-06-05T17:07:25.683857",
     "exception": false,
     "start_time": "2023-06-05T17:07:25.650235",
     "status": "completed"
    },
    "tags": []
   },
   "outputs": [
    {
     "name": "stdout",
     "output_type": "stream",
     "text": [
      "Gentoo\n"
     ]
    }
   ],
   "source": [
    "if b==1:\n",
    "    print('Adelie')\n",
    "elif b==1:\n",
    "    print('hinstrap')\n",
    "else:\n",
    "    print('Gentoo')"
   ]
  },
  {
   "cell_type": "code",
   "execution_count": null,
   "id": "43a687ca",
   "metadata": {
    "papermill": {
     "duration": 0.024873,
     "end_time": "2023-06-05T17:07:25.734894",
     "exception": false,
     "start_time": "2023-06-05T17:07:25.710021",
     "status": "completed"
    },
    "tags": []
   },
   "outputs": [],
   "source": []
  },
  {
   "cell_type": "code",
   "execution_count": null,
   "id": "6edec67f",
   "metadata": {
    "papermill": {
     "duration": 0.025632,
     "end_time": "2023-06-05T17:07:25.787691",
     "exception": false,
     "start_time": "2023-06-05T17:07:25.762059",
     "status": "completed"
    },
    "tags": []
   },
   "outputs": [],
   "source": []
  },
  {
   "cell_type": "code",
   "execution_count": null,
   "id": "9909d112",
   "metadata": {
    "papermill": {
     "duration": 0.025741,
     "end_time": "2023-06-05T17:07:25.839118",
     "exception": false,
     "start_time": "2023-06-05T17:07:25.813377",
     "status": "completed"
    },
    "tags": []
   },
   "outputs": [],
   "source": []
  },
  {
   "cell_type": "code",
   "execution_count": null,
   "id": "c8e3b26d",
   "metadata": {
    "papermill": {
     "duration": 0.02539,
     "end_time": "2023-06-05T17:07:25.889675",
     "exception": false,
     "start_time": "2023-06-05T17:07:25.864285",
     "status": "completed"
    },
    "tags": []
   },
   "outputs": [],
   "source": []
  },
  {
   "cell_type": "code",
   "execution_count": null,
   "id": "bf3b21a2",
   "metadata": {
    "papermill": {
     "duration": 0.025636,
     "end_time": "2023-06-05T17:07:25.940285",
     "exception": false,
     "start_time": "2023-06-05T17:07:25.914649",
     "status": "completed"
    },
    "tags": []
   },
   "outputs": [],
   "source": []
  },
  {
   "cell_type": "code",
   "execution_count": null,
   "id": "1916e7c4",
   "metadata": {
    "papermill": {
     "duration": 0.024751,
     "end_time": "2023-06-05T17:07:25.990384",
     "exception": false,
     "start_time": "2023-06-05T17:07:25.965633",
     "status": "completed"
    },
    "tags": []
   },
   "outputs": [],
   "source": []
  },
  {
   "cell_type": "code",
   "execution_count": null,
   "id": "c49bc4e9",
   "metadata": {
    "papermill": {
     "duration": 0.025186,
     "end_time": "2023-06-05T17:07:26.040952",
     "exception": false,
     "start_time": "2023-06-05T17:07:26.015766",
     "status": "completed"
    },
    "tags": []
   },
   "outputs": [],
   "source": []
  }
 ],
 "metadata": {
  "kernelspec": {
   "display_name": "Python 3",
   "language": "python",
   "name": "python3"
  },
  "language_info": {
   "codemirror_mode": {
    "name": "ipython",
    "version": 3
   },
   "file_extension": ".py",
   "mimetype": "text/x-python",
   "name": "python",
   "nbconvert_exporter": "python",
   "pygments_lexer": "ipython3",
   "version": "3.10.10"
  },
  "papermill": {
   "default_parameters": {},
   "duration": 20.385979,
   "end_time": "2023-06-05T17:07:27.090133",
   "environment_variables": {},
   "exception": null,
   "input_path": "__notebook__.ipynb",
   "output_path": "__notebook__.ipynb",
   "parameters": {},
   "start_time": "2023-06-05T17:07:06.704154",
   "version": "2.4.0"
  }
 },
 "nbformat": 4,
 "nbformat_minor": 5
}
